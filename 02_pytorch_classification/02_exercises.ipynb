{
 "cells": [
  {
   "cell_type": "markdown",
   "id": "29bb7e28",
   "metadata": {},
   "source": [
    "# Exercises & Extra-curriculum"
   ]
  }
 ],
 "metadata": {
  "language_info": {
   "name": "python"
  }
 },
 "nbformat": 4,
 "nbformat_minor": 5
}
