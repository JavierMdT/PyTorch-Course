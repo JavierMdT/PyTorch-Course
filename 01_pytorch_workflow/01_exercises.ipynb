{
 "cells": [
  {
   "cell_type": "markdown",
   "id": "df03a934",
   "metadata": {},
   "source": [
    "# **01 PyTorch Workflow:** Exercises & Extra-curriculum"
   ]
  },
  {
   "cell_type": "code",
   "execution_count": 1,
   "id": "7e28edfc",
   "metadata": {},
   "outputs": [
    {
     "name": "stdout",
     "output_type": "stream",
     "text": [
      "PyTorch and cuda version: 1.13.1+cu117\n",
      "Accelerator/Cuda/GPU is available!\n"
     ]
    }
   ],
   "source": [
    "import torch\n",
    "import matplotlib.pyplot as plt \n",
    "\n",
    "# Check python version\n",
    "print(f\"PyTorch and cuda version: {torch.__version__}\")\n",
    "if torch.cuda.is_available():\n",
    "    device = \"cuda\"\n",
    "    print(\"Accelerator/Cuda/GPU is available!\")\n",
    "else:\n",
    "    device = \"cpu\"\n",
    "    print(\"Accelerator/Cuda/GPU is not available ;C, CPU mode\")"
   ]
  },
  {
   "cell_type": "markdown",
   "id": "81cfa0c6",
   "metadata": {},
   "source": [
    "#### **1.** Create a straight line dataset using the linear regression formula (weight * X + bias).\n",
    "* Set weight=0.3 and bias=0.9 there should be at least 100 datapoints total.<br>\n",
    "* Split the data into 80% training, 20% testing.<br>\n",
    "* Plot the training and testing data so it becomes visual.<br>"
   ]
  },
  {
   "cell_type": "code",
   "execution_count": 2,
   "id": "9f68f03b",
   "metadata": {},
   "outputs": [],
   "source": [
    "# Parameters\n",
    "weight = 0.3\n",
    "bias = 0.9\n",
    "\n",
    "# Data\n",
    "X = torch.arange(0, 100, 1, dtype=torch.float32).unsqueeze(dim=1)\n",
    "\n",
    "y = X * weight + bias "
   ]
  },
  {
   "cell_type": "code",
   "execution_count": 3,
   "id": "b7ac0cca",
   "metadata": {},
   "outputs": [],
   "source": [
    "# Split\n",
    "train_split = int(len(X) * 0.8) \n",
    "\n",
    "## Train\n",
    "X_train = X[:train_split]\n",
    "y_train = y[:train_split]\n",
    "\n",
    "# Test \n",
    "X_test = X[train_split:]\n",
    "y_test = y[train_split:]\n"
   ]
  },
  {
   "cell_type": "code",
   "execution_count": 4,
   "id": "e58929d0",
   "metadata": {},
   "outputs": [
    {
     "data": {
      "text/plain": [
       "(80, 20, 80, 20)"
      ]
     },
     "execution_count": 4,
     "metadata": {},
     "output_type": "execute_result"
    }
   ],
   "source": [
    "len(X_train), len(X_test), len(y_train), len(y_test)"
   ]
  },
  {
   "cell_type": "code",
   "execution_count": 5,
   "id": "1fa58fd4",
   "metadata": {},
   "outputs": [],
   "source": [
    "def plot_data(X_train=X_train, \n",
    "              X_test=X_test, \n",
    "              y_train=y_train,\n",
    "              y_test=y_test,\n",
    "              preds=None):\n",
    "    '''\n",
    "    Plots the data and, if it's given, prediction\n",
    "    '''\n",
    "    \n",
    "    plt.figure(figsize=(10, 7))    \n",
    "\n",
    "    # Plot train data in red\n",
    "    plt.scatter(X_train, y_train, c=\"r\", s=8, label=\"Training data\")\n",
    "    \n",
    "    # Plot test data in blue \n",
    "    plt.scatter(X_test, y_test, c=\"b\", s=8, label=\"Test data\")\n",
    "\n",
    "    # Plot prediction in green \n",
    "    if preds is not None:\n",
    "        plt.scatter(X_test, preds, c=\"g\", s=8, label=\"Inference\")\n",
    "    \n",
    "    plt.legend()\n"
   ]
  },
  {
   "cell_type": "code",
   "execution_count": 6,
   "id": "c4485e2b",
   "metadata": {},
   "outputs": [
    {
     "data": {
      "image/png": "[encoded data removed]",
      "text/plain": [
       "<Figure size 1000x700 with 1 Axes>"
      ]
     },
     "metadata": {},
     "output_type": "display_data"
    }
   ],
   "source": [
    "plot_data()"
   ]
  },
  {
   "cell_type": "markdown",
   "id": "ffac49f8",
   "metadata": {},
   "source": [
    "#### **2.** Build a PyTorch model by subclassing nn.Module.\n",
    "\n",
    "* Inside should be a randomly initialized nn.Parameter() with requires_grad=True, one for weights and one for bias.<br>\n",
    "* Implement the forward() method to compute the linear regression function you used to create the dataset in 1.<br>\n",
    "* Once you've constructed the model, make an instance of it and check its state_dict().<br>"
   ]
  },
  {
   "cell_type": "code",
   "execution_count": 7,
   "id": "07a6798a",
   "metadata": {},
   "outputs": [],
   "source": [
    "class LinearModel(torch.nn.Module):\n",
    "    def __init__(self):\n",
    "        super().__init__()\n",
    "        \n",
    "        ################ LINEAR LAYER #################\n",
    "        self.linear_layer = torch.nn.Linear(in_features=1,\n",
    "                                       out_features=1)\n",
    "        ###############################################\n",
    "        \n",
    "    def forward(self, X:torch.Tensor) -> torch.Tensor:\n",
    "        return self.linear_layer(X)"
   ]
  },
  {
   "cell_type": "code",
   "execution_count": 8,
   "id": "eaea7c32",
   "metadata": {},
   "outputs": [
    {
     "data": {
      "text/plain": [
       "OrderedDict([('linear_layer.weight', tensor([[-0.4078]])),\n",
       "             ('linear_layer.bias', tensor([0.0331]))])"
      ]
     },
     "execution_count": 8,
     "metadata": {},
     "output_type": "execute_result"
    }
   ],
   "source": [
    "torch.manual_seed(123)\n",
    "model = LinearModel()\n",
    "model.state_dict()"
   ]
  },
  {
   "cell_type": "markdown",
   "id": "19a89623",
   "metadata": {},
   "source": [
    "#### **3.** Create a loss function and optimizer using nn.L1Loss() and torch.optim.SGD(params, lr) respectively.\n",
    "\n",
    "* Set the learning rate of the optimizer to be 0.01 and the parameters to optimize should be the model parameters from the model you created in 2.<br>\n",
    "* Write a training loop to perform the appropriate training steps for 300 epochs.<br>\n",
    "* The training loop should test the model on the test dataset every 20 epochs.<br>\n"
   ]
  },
  {
   "cell_type": "code",
   "execution_count": 9,
   "id": "3dec7f79",
   "metadata": {},
   "outputs": [],
   "source": [
    "# Loss function and optimizer \n",
    "loss_fn = torch.nn.L1Loss()\n",
    "optimizer = torch.optim.SGD(params=model.parameters(),\n",
    "                            lr=0.0001)"
   ]
  },
  {
   "cell_type": "code",
   "execution_count": 10,
   "id": "3a6dc18b",
   "metadata": {},
   "outputs": [
    {
     "data": {
      "text/plain": [
       "torch.float32"
      ]
     },
     "execution_count": 10,
     "metadata": {},
     "output_type": "execute_result"
    }
   ],
   "source": [
    "X_train.dtype"
   ]
  },
  {
   "cell_type": "code",
   "execution_count": 31,
   "id": "1c93dc6c",
   "metadata": {},
   "outputs": [
    {
     "data": {
      "text/plain": [
       "(device(type='cuda', index=0),\n",
       " device(type='cuda', index=0),\n",
       " device(type='cuda', index=0),\n",
       " device(type='cuda', index=0),\n",
       " device(type='cuda', index=0))"
      ]
     },
     "execution_count": 31,
     "metadata": {},
     "output_type": "execute_result"
    }
   ],
   "source": [
    "# Move model and data to GPU\n",
    "model.to(device)\n",
    "X_train = X_train.to(device)\n",
    "X_test = X_test.to(device)\n",
    "y_train = y_train.to(device)\n",
    "y_test = y_test.to(device)\n",
    "X_train.device, X_test.device, y_train.device, y_test.device, next(model.parameters()).device\n"
   ]
  },
  {
   "cell_type": "code",
   "execution_count": 32,
   "id": "2a35d21b",
   "metadata": {},
   "outputs": [
    {
     "name": "stdout",
     "output_type": "stream",
     "text": [
      "Epoch: 0 | Loss: 28.824033737182617 | Test loss: 63.85921096801758\n",
      "Epoch: 30 | Loss: 24.140283584594727 | Test loss: 53.250465393066406\n",
      "Epoch: 60 | Loss: 19.456533432006836 | Test loss: 42.64171600341797\n",
      "Epoch: 90 | Loss: 14.772783279418945 | Test loss: 32.03296661376953\n",
      "Epoch: 120 | Loss: 10.089033126831055 | Test loss: 21.42421531677246\n",
      "Epoch: 150 | Loss: 5.405282497406006 | Test loss: 10.81546401977539\n",
      "Epoch: 180 | Loss: 0.7215321660041809 | Test loss: 0.20671367645263672\n",
      "Epoch: 210 | Loss: 0.35413575172424316 | Test loss: 0.5003671050071716\n",
      "Epoch: 240 | Loss: 0.3535912334918976 | Test loss: 0.5087812542915344\n",
      "Epoch: 270 | Loss: 0.35308289527893066 | Test loss: 0.504664421081543\n"
     ]
    }
   ],
   "source": [
    "torch.manual_seed(123)\n",
    "epochs = 300\n",
    "# Training loop\n",
    "for epoch in range(epochs):\n",
    "    # 0. Training mode\n",
    "    model.train()\n",
    "    \n",
    "    # 1. Forward pass\n",
    "    y_pred = model(X_train)\n",
    "    \n",
    "    # 2. Calculate loss\n",
    "    train_loss = loss_fn(y_pred, y_train)\n",
    "    \n",
    "    # 3. Zero gradient\n",
    "    optimizer.zero_grad()\n",
    "    \n",
    "    # 4. Backpropagation \n",
    "    train_loss.backward()\n",
    "    \n",
    "    # 5. Gradient descent\n",
    "    optimizer.step()\n",
    "     \n",
    "        \n",
    "    # Tracking \n",
    "    if epoch % 30 == 0:\n",
    "        # Testing \n",
    "        with torch.inference_mode():\n",
    "            model.eval()\n",
    "            \n",
    "            # 1. Inference\n",
    "            test_pred = model(X_test)\n",
    "            \n",
    "            # 2. Loss\n",
    "            test_loss = loss_fn(test_pred, y_test)\n",
    "        print(f\"Epoch: {epoch} | Loss: {train_loss} | Test loss: {test_loss}\")"
   ]
  },
  {
   "cell_type": "markdown",
   "id": "105b73d3",
   "metadata": {},
   "source": [
    "#### **4.** Make predictions with the trained model on the test data.\n",
    "\n",
    "* Visualize these predictions against the original training and testing data (note: you may need to make sure the predictions are not on the GPU if you want to use non-CUDA-enabled libraries such as matplotlib to plot)."
   ]
  },
  {
   "cell_type": "code",
   "execution_count": 35,
   "id": "b0e2fe1a",
   "metadata": {},
   "outputs": [
    {
     "data": {
      "image/png": "[encoded data removed]",
      "text/plain": [
       "<Figure size 1000x700 with 1 Axes>"
      ]
     },
     "metadata": {},
     "output_type": "display_data"
    }
   ],
   "source": [
    "with torch.inference_mode():\n",
    "    model.eval()\n",
    "    inference = model(X_test)\n",
    "plot_data(preds=inference.cpu())"
   ]
  },
  {
   "cell_type": "markdown",
   "id": "4bd5777a",
   "metadata": {},
   "source": [
    "#### **5.** Save your trained model's state_dict() to file.\n",
    "\n",
    "* Create a new instance of your model class you made in 2. and load in the state_dict() you just saved to it.<br>\n",
    "* Perform predictions on your test data with the loaded model and confirm they match the original model predictions from 4.<br>"
   ]
  },
  {
   "cell_type": "code",
   "execution_count": 42,
   "id": "ae25998a",
   "metadata": {},
   "outputs": [],
   "source": [
    "# Save state_dict \n",
    "torch.save(obj=model.state_dict(),\n",
    "           f=\"./models/01_exercises_model.pth\")"
   ]
  },
  {
   "cell_type": "code",
   "execution_count": null,
   "id": "cc02f59b",
   "metadata": {},
   "outputs": [
    {
     "data": {
      "text/plain": [
       "<All keys matched successfully>"
      ]
     },
     "execution_count": 43,
     "metadata": {},
     "output_type": "execute_result"
    }
   ],
   "source": [
    "# Load state_dict\n",
    "model_loaded = LinearModel()\n",
    "model_loaded.load_state_dict(state_dict=torch.load(\"./models/01_exercises_model.pth\"))"
   ]
  },
  {
   "cell_type": "code",
   "execution_count": 45,
   "id": "ddacd98d",
   "metadata": {},
   "outputs": [
    {
     "data": {
      "image/png": "[encoded data removed]",
      "text/plain": [
       "<Figure size 1000x700 with 1 Axes>"
      ]
     },
     "metadata": {},
     "output_type": "display_data"
    }
   ],
   "source": [
    "# Make predictions \n",
    "with torch.inference_mode():\n",
    "    model_loaded.eval()\n",
    "    loaded_pred = model_loaded(X_test.cpu())\n",
    "plot_data(preds=loaded_pred)"
   ]
  }
 ],
 "metadata": {
  "kernelspec": {
   "display_name": "pytorch.env",
   "language": "python",
   "name": "python3"
  },
  "language_info": {
   "codemirror_mode": {
    "name": "ipython",
    "version": 3
   },
   "file_extension": ".py",
   "mimetype": "text/x-python",
   "name": "python",
   "nbconvert_exporter": "python",
   "pygments_lexer": "ipython3",
   "version": "3.8.13"
  }
 },
 "nbformat": 4,
 "nbformat_minor": 5
}
