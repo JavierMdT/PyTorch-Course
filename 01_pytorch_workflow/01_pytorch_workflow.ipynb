{
 "cells": [
  {
   "cell_type": "markdown",
   "id": "9829c864",
   "metadata": {},
   "source": [
    "# PyTorch Workflow\n",
    "\n",
    "Let's explore PyTorch end-to-end workflow."
   ]
  },
  {
   "cell_type": "code",
   "execution_count": 2,
   "id": "0a7c7ee4",
   "metadata": {},
   "outputs": [
    {
     "data": {
      "text/plain": [
       "{1: 'data(prepare and load)',\n",
       " 2: 'build model',\n",
       " 3: 'fitting the model (training)',\n",
       " 4: 'making predictions and evaluting model (inference)',\n",
       " 5: 'putting it all together'}"
      ]
     },
     "execution_count": 2,
     "metadata": {},
     "output_type": "execute_result"
    }
   ],
   "source": [
    "# Workflow \n",
    "what_were_covering = {1: \"data(prepare and load)\",\n",
    "                      2: \"build model\",\n",
    "                      3: \"fitting the model (training)\",\n",
    "                      4: \"making predictions and evaluting model (inference)\",\n",
    "                      5: \"putting it all together\"}\n",
    "what_were_covering"
   ]
  },
  {
   "cell_type": "code",
   "execution_count": 10,
   "id": "d1d4ebff",
   "metadata": {},
   "outputs": [
    {
     "name": "stdout",
     "output_type": "stream",
     "text": [
      "PyTorch and cuda version: 1.13.1+cu117\n",
      "Accelerator/Cuda/GPU is available!\n"
     ]
    }
   ],
   "source": [
    "import torch \n",
    "from torch import nn # nn contains all PyTorch's building blocks for neural networks \n",
    "import matplotlib.pyplot as plt \n",
    "\n",
    "# Check python version\n",
    "print(f\"PyTorch and cuda version: {torch.__version__}\")\n",
    "if torch.cuda.is_available():\n",
    "    device = \"cuda\"\n",
    "    print(\"Accelerator/Cuda/GPU is available!\")\n",
    "else:\n",
    "    device = \"cpu\"\n",
    "    print(\"Accelerator/Cuda/GPU is not available ;C, CPU mode\")"
   ]
  },
  {
   "cell_type": "markdown",
   "id": "4f1428bd",
   "metadata": {},
   "source": [
    "## 1. Data (preparing and loading)\n",
    "\n",
    "* Excel \n",
    "* Images\n",
    "* Videos\n",
    "* Audio \n",
    "* DNA \n",
    "* Text\n",
    "* (...)\n",
    "\n",
    "Machine learning: \n",
    "1. Get data into numerical representation\n",
    "2. Build model to learn patterns in that numerical representation "
   ]
  },
  {
   "cell_type": "code",
   "execution_count": null,
   "id": "bcc09c21",
   "metadata": {},
   "outputs": [
    {
     "data": {
      "text/plain": [
       "(tensor([[0.0000],\n",
       "         [0.0200],\n",
       "         [0.0400],\n",
       "         [0.0600],\n",
       "         [0.0800],\n",
       "         [0.1000],\n",
       "         [0.1200],\n",
       "         [0.1400],\n",
       "         [0.1600],\n",
       "         [0.1800]]),\n",
       " tensor([[0.3000],\n",
       "         [0.3140],\n",
       "         [0.3280],\n",
       "         [0.3420],\n",
       "         [0.3560],\n",
       "         [0.3700],\n",
       "         [0.3840],\n",
       "         [0.3980],\n",
       "         [0.4120],\n",
       "         [0.4260]]))"
      ]
     },
     "execution_count": 19,
     "metadata": {},
     "output_type": "execute_result"
    }
   ],
   "source": [
    "# Create artificial data with know pattern (linnear function)\n",
    "weight = 0.7 \n",
    "bias = 0.3\n",
    "\n",
    "# Create\n",
    "start = 0\n",
    "end = 1\n",
    "step = 0.02\n",
    "X = torch.arange(start, end, step).unsqueeze(dim=1) # Adds extra dimension, sol we have (1,10)\n",
    "y = weight * X + bias\n",
    "\n",
    "X[:10], y[:10] # That notation is to show the first 10 elements"
   ]
  },
  {
   "cell_type": "code",
   "execution_count": null,
   "id": "76089e28",
   "metadata": {},
   "outputs": [
    {
     "data": {
      "text/plain": [
       "(50, 50)"
      ]
     },
     "execution_count": 20,
     "metadata": {},
     "output_type": "execute_result"
    }
   ],
   "source": [
    "len(X), len(y) # 50 elements "
   ]
  },
  {
   "cell_type": "code",
   "execution_count": null,
   "id": "5f42b45e",
   "metadata": {},
   "outputs": [
    {
     "data": {
      "text/plain": [
       "(40, 10, 40, 10)"
      ]
     },
     "execution_count": 21,
     "metadata": {},
     "output_type": "execute_result"
    }
   ],
   "source": [
    "# Spliting data into train, test, validation (basic machine learning step)\n",
    "# Guide:\n",
    "# Train ->  60-80%\n",
    "# Validation -> 10-20%\n",
    "# Test -> 10-20%\n",
    "\n",
    "# Note: Train + validation = design split/partition\n",
    "\n",
    "train_split = int(0.8 * len(X)) # 50 * 0.8\n",
    "X_train, y_train  = X[:train_split], y[:train_split] # Taking first 50*0.8 data\n",
    "X_test, y_test = X[train_split:], y[train_split:] # Taking the rest \n",
    "\n",
    "len(X_train), len(X_test), len(y_train), len(y_test)\n",
    "# 40 data to train, 10 to test"
   ]
  },
  {
   "cell_type": "code",
   "execution_count": 26,
   "id": "792c2b6a",
   "metadata": {},
   "outputs": [],
   "source": [
    "def plot_predictions(train_data=X_train,\n",
    "                     train_labels=y_train,\n",
    "                     test_data=X_test,\n",
    "                     test_labels=y_test,\n",
    "                     predictions=None):\n",
    "    '''\n",
    "    Plots training data, test data and compares predictions\n",
    "    '''\n",
    "\n",
    "    # Plot training data in blue \n",
    "    plt.figure(figsize=(10, 7))\n",
    "    plt.scatter(train_data, train_labels, c=\"b\", s=8, label=\"Training data\")\n",
    "    \n",
    "    # Plot test data in green\n",
    "    plt.scatter(test_data, test_labels, c=\"g\", s=8 ,label=\"Test data\")\n",
    "    \n",
    "    # ¿Predictions? -> Plot if exists\n",
    "    if predictions is not None:\n",
    "        plt.scatter(test_data, predictions, c=\"r\", s=8, labels=\"Predictions\")\n",
    "    \n",
    "    \n",
    "    # Show the legend\n",
    "    plt.legend(prop={\"size\":14})"
   ]
  },
  {
   "cell_type": "code",
   "execution_count": 27,
   "id": "0eb8ecbb",
   "metadata": {},
   "outputs": [
    {
     "data": {
      "image/png": "[encoded data removed]",
      "text/plain": [
       "<Figure size 1000x700 with 1 Axes>"
      ]
     },
     "metadata": {},
     "output_type": "display_data"
    }
   ],
   "source": [
    "plot_predictions()"
   ]
  },
  {
   "cell_type": "markdown",
   "id": "bdd6d40f",
   "metadata": {},
   "source": [
    "## 2. Bulding first PyTorch model\n",
    "\n"
   ]
  },
  {
   "cell_type": "code",
   "execution_count": null,
   "id": "31ca1981",
   "metadata": {},
   "outputs": [],
   "source": [
    "# Create a linear regresion model class\n",
    "\n",
    "class LinearRegresionModel(torch.nn.Module): ## Almost everything in PyTorch inherist from nn.Module\n",
    "    def __init__(self):\n",
    "        super().__init__()\n",
    "        # We use the sublcass nn.Parameter to create the, of course, parameters\n",
    "        self.weights = nn.Parameter(torch.randn(1,\n",
    "                                                requires_grad=True,\n",
    "                                                dtype=torch.float)) # Creates attribute \"weights\" \n",
    "        # Parameter for bias\n",
    "        self.bias = nn.Parameter(torch.randn(1,\n",
    "                                             requires_grad=True,\n",
    "                                             dtype=torch.float))\n",
    "        \n",
    "        # Forward method to define the computation in the model\n",
    "        def forward(self, x:torch.Tensor) -> torch.Tensor: # x is the input data\n",
    "            return  self.weights * x + self.bias # Linear regresion"
   ]
  }
 ],
 "metadata": {
  "kernelspec": {
   "display_name": "pytorch.env",
   "language": "python",
   "name": "python3"
  },
  "language_info": {
   "codemirror_mode": {
    "name": "ipython",
    "version": 3
   },
   "file_extension": ".py",
   "mimetype": "text/x-python",
   "name": "python",
   "nbconvert_exporter": "python",
   "pygments_lexer": "ipython3",
   "version": "3.8.13"
  }
 },
 "nbformat": 4,
 "nbformat_minor": 5
}
