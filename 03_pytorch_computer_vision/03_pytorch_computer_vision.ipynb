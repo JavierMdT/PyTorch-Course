{
 "cells": [
  {
   "cell_type": "markdown",
   "id": "4927a3e7",
   "metadata": {},
   "source": [
    "# PyTorch Computer Vision "
   ]
  },
  {
   "cell_type": "markdown",
   "id": "3004d0c3",
   "metadata": {},
   "source": [
    "## 0. Computer vision libraries on PyTorch \n",
    "* `torchvision`: base domain library for PyTorch computer vision \n",
    "* `torchvision.datasets`: get datasets and data loading functons \n",
    "* `torchvision.models `: get pretrained computer vision models \n",
    "* `torchvision.transforms`: functions for manipulating your vision data (images) to be suitable for a ML model\n",
    "* `torch.utils.data.Dataset`: base dataset class for PyTorch\n",
    "* `torch.utils.data.Dataloader`: creates a Python iterable over dataset"
   ]
  },
  {
   "cell_type": "code",
   "execution_count": 1,
   "id": "a8a49804",
   "metadata": {},
   "outputs": [
    {
     "name": "stderr",
     "output_type": "stream",
     "text": [
      "/home/jvier/PyTorch-Course/pytorch.env/lib/python3.8/site-packages/tqdm/auto.py:21: TqdmWarning: IProgress not found. Please update jupyter and ipywidgets. See https://ipywidgets.readthedocs.io/en/stable/user_install.html\n",
      "  from .autonotebook import tqdm as notebook_tqdm\n"
     ]
    },
    {
     "name": "stdout",
     "output_type": "stream",
     "text": [
      "1.13.1+cu117\n",
      "0.14.1+cu117\n",
      "Using device: cuda\n"
     ]
    }
   ],
   "source": [
    "# Torch\n",
    "import torch \n",
    "from torch import nn\n",
    "\n",
    "# Torchvision\n",
    "import torchvision\n",
    "from torchvision import datasets, transforms\n",
    "from torchvision.transforms import ToTensor\n",
    "\n",
    "# Extra \n",
    "import matplotlib.pyplot as plt     \n",
    "import numpy as np\n",
    "\n",
    "# Check GPU and torch version\n",
    "print(torch.__version__)\n",
    "print(torchvision.__version__)\n",
    "device = \"cuda\" if torch.cuda.is_available() else \"cpu\"\n",
    "print(f\"Using device: {device}\")"
   ]
  },
  {
   "cell_type": "markdown",
   "id": "637840a0",
   "metadata": {},
   "source": [
    "## 1. Getting a dataset \n",
    "\n",
    "We will be using MNIST dataset (Modified Nationat Institute of Standars and Technology)"
   ]
  },
  {
   "cell_type": "code",
   "execution_count": 78,
   "id": "d7f4948a",
   "metadata": {},
   "outputs": [],
   "source": [
    "# Setup training data\n",
    "train_data = datasets.FashionMNIST(\n",
    "    root=\".data\", # Where to download the data to\n",
    "    train=True, # Do we want the training dataset\n",
    "    download=True, # Do we want to download it?\n",
    "    transform=torchvision.transforms.ToTensor(), # How do we transform the data\n",
    "    target_transform=None # How do we transform the labels \n",
    ")\n",
    "\n",
    "test_data = datasets.FashionMNIST(\n",
    "    train=False,\n",
    "    root=\".data\",\n",
    "    download=True,\n",
    "    transform=torchvision.transforms.ToTensor(),\n",
    "    target_transform=None\n",
    ")\n"
   ]
  },
  {
   "cell_type": "code",
   "execution_count": 3,
   "id": "9eb7d281",
   "metadata": {},
   "outputs": [
    {
     "data": {
      "text/plain": [
       "(60000, 10000)"
      ]
     },
     "execution_count": 3,
     "metadata": {},
     "output_type": "execute_result"
    }
   ],
   "source": [
    "len(train_data), len(test_data)"
   ]
  },
  {
   "cell_type": "code",
   "execution_count": 4,
   "id": "b25addb1",
   "metadata": {},
   "outputs": [
    {
     "data": {
      "text/plain": [
       "(tensor([[[0.0000, 0.0000, 0.0000, 0.0000, 0.0000, 0.0000, 0.0000, 0.0000,\n",
       "           0.0000, 0.0000, 0.0000, 0.0000, 0.0000, 0.0000, 0.0000, 0.0000,\n",
       "           0.0000, 0.0000, 0.0000, 0.0000, 0.0000, 0.0000, 0.0000, 0.0000,\n",
       "           0.0000, 0.0000, 0.0000, 0.0000],\n",
       "          [0.0000, 0.0000, 0.0000, 0.0000, 0.0000, 0.0000, 0.0000, 0.0000,\n",
       "           0.0000, 0.0000, 0.0000, 0.0000, 0.0000, 0.0000, 0.0000, 0.0000,\n",
       "           0.0000, 0.0000, 0.0000, 0.0000, 0.0000, 0.0000, 0.0000, 0.0000,\n",
       "           0.0000, 0.0000, 0.0000, 0.0000],\n",
       "          [0.0000, 0.0000, 0.0000, 0.0000, 0.0000, 0.0000, 0.0000, 0.0000,\n",
       "           0.0000, 0.0000, 0.0000, 0.0000, 0.0000, 0.0000, 0.0000, 0.0000,\n",
       "           0.0000, 0.0000, 0.0000, 0.0000, 0.0000, 0.0000, 0.0000, 0.0000,\n",
       "           0.0000, 0.0000, 0.0000, 0.0000],\n",
       "          [0.0000, 0.0000, 0.0000, 0.0000, 0.0000, 0.0000, 0.0000, 0.0000,\n",
       "           0.0000, 0.0000, 0.0000, 0.0000, 0.0039, 0.0000, 0.0000, 0.0510,\n",
       "           0.2863, 0.0000, 0.0000, 0.0039, 0.0157, 0.0000, 0.0000, 0.0000,\n",
       "           0.0000, 0.0039, 0.0039, 0.0000],\n",
       "          [0.0000, 0.0000, 0.0000, 0.0000, 0.0000, 0.0000, 0.0000, 0.0000,\n",
       "           0.0000, 0.0000, 0.0000, 0.0000, 0.0118, 0.0000, 0.1412, 0.5333,\n",
       "           0.4980, 0.2431, 0.2118, 0.0000, 0.0000, 0.0000, 0.0039, 0.0118,\n",
       "           0.0157, 0.0000, 0.0000, 0.0118],\n",
       "          [0.0000, 0.0000, 0.0000, 0.0000, 0.0000, 0.0000, 0.0000, 0.0000,\n",
       "           0.0000, 0.0000, 0.0000, 0.0000, 0.0235, 0.0000, 0.4000, 0.8000,\n",
       "           0.6902, 0.5255, 0.5647, 0.4824, 0.0902, 0.0000, 0.0000, 0.0000,\n",
       "           0.0000, 0.0471, 0.0392, 0.0000],\n",
       "          [0.0000, 0.0000, 0.0000, 0.0000, 0.0000, 0.0000, 0.0000, 0.0000,\n",
       "           0.0000, 0.0000, 0.0000, 0.0000, 0.0000, 0.0000, 0.6078, 0.9255,\n",
       "           0.8118, 0.6980, 0.4196, 0.6118, 0.6314, 0.4275, 0.2510, 0.0902,\n",
       "           0.3020, 0.5098, 0.2824, 0.0588],\n",
       "          [0.0000, 0.0000, 0.0000, 0.0000, 0.0000, 0.0000, 0.0000, 0.0000,\n",
       "           0.0000, 0.0000, 0.0000, 0.0039, 0.0000, 0.2706, 0.8118, 0.8745,\n",
       "           0.8549, 0.8471, 0.8471, 0.6392, 0.4980, 0.4745, 0.4784, 0.5725,\n",
       "           0.5529, 0.3451, 0.6745, 0.2588],\n",
       "          [0.0000, 0.0000, 0.0000, 0.0000, 0.0000, 0.0000, 0.0000, 0.0000,\n",
       "           0.0000, 0.0039, 0.0039, 0.0039, 0.0000, 0.7843, 0.9098, 0.9098,\n",
       "           0.9137, 0.8980, 0.8745, 0.8745, 0.8431, 0.8353, 0.6431, 0.4980,\n",
       "           0.4824, 0.7686, 0.8980, 0.0000],\n",
       "          [0.0000, 0.0000, 0.0000, 0.0000, 0.0000, 0.0000, 0.0000, 0.0000,\n",
       "           0.0000, 0.0000, 0.0000, 0.0000, 0.0000, 0.7176, 0.8824, 0.8471,\n",
       "           0.8745, 0.8941, 0.9216, 0.8902, 0.8784, 0.8706, 0.8784, 0.8667,\n",
       "           0.8745, 0.9608, 0.6784, 0.0000],\n",
       "          [0.0000, 0.0000, 0.0000, 0.0000, 0.0000, 0.0000, 0.0000, 0.0000,\n",
       "           0.0000, 0.0000, 0.0000, 0.0000, 0.0000, 0.7569, 0.8941, 0.8549,\n",
       "           0.8353, 0.7765, 0.7059, 0.8314, 0.8235, 0.8275, 0.8353, 0.8745,\n",
       "           0.8627, 0.9529, 0.7922, 0.0000],\n",
       "          [0.0000, 0.0000, 0.0000, 0.0000, 0.0000, 0.0000, 0.0000, 0.0000,\n",
       "           0.0000, 0.0039, 0.0118, 0.0000, 0.0471, 0.8588, 0.8627, 0.8314,\n",
       "           0.8549, 0.7529, 0.6627, 0.8902, 0.8157, 0.8549, 0.8784, 0.8314,\n",
       "           0.8863, 0.7725, 0.8196, 0.2039],\n",
       "          [0.0000, 0.0000, 0.0000, 0.0000, 0.0000, 0.0000, 0.0000, 0.0000,\n",
       "           0.0000, 0.0000, 0.0235, 0.0000, 0.3882, 0.9569, 0.8706, 0.8627,\n",
       "           0.8549, 0.7961, 0.7765, 0.8667, 0.8431, 0.8353, 0.8706, 0.8627,\n",
       "           0.9608, 0.4667, 0.6549, 0.2196],\n",
       "          [0.0000, 0.0000, 0.0000, 0.0000, 0.0000, 0.0000, 0.0000, 0.0000,\n",
       "           0.0000, 0.0157, 0.0000, 0.0000, 0.2157, 0.9255, 0.8941, 0.9020,\n",
       "           0.8941, 0.9412, 0.9098, 0.8353, 0.8549, 0.8745, 0.9176, 0.8510,\n",
       "           0.8510, 0.8196, 0.3608, 0.0000],\n",
       "          [0.0000, 0.0000, 0.0039, 0.0157, 0.0235, 0.0275, 0.0078, 0.0000,\n",
       "           0.0000, 0.0000, 0.0000, 0.0000, 0.9294, 0.8863, 0.8510, 0.8745,\n",
       "           0.8706, 0.8588, 0.8706, 0.8667, 0.8471, 0.8745, 0.8980, 0.8431,\n",
       "           0.8549, 1.0000, 0.3020, 0.0000],\n",
       "          [0.0000, 0.0118, 0.0000, 0.0000, 0.0000, 0.0000, 0.0000, 0.0000,\n",
       "           0.0000, 0.2431, 0.5686, 0.8000, 0.8941, 0.8118, 0.8353, 0.8667,\n",
       "           0.8549, 0.8157, 0.8275, 0.8549, 0.8784, 0.8745, 0.8588, 0.8431,\n",
       "           0.8784, 0.9569, 0.6235, 0.0000],\n",
       "          [0.0000, 0.0000, 0.0000, 0.0000, 0.0706, 0.1725, 0.3216, 0.4196,\n",
       "           0.7412, 0.8941, 0.8627, 0.8706, 0.8510, 0.8863, 0.7843, 0.8039,\n",
       "           0.8275, 0.9020, 0.8784, 0.9176, 0.6902, 0.7373, 0.9804, 0.9725,\n",
       "           0.9137, 0.9333, 0.8431, 0.0000],\n",
       "          [0.0000, 0.2235, 0.7333, 0.8157, 0.8784, 0.8667, 0.8784, 0.8157,\n",
       "           0.8000, 0.8392, 0.8157, 0.8196, 0.7843, 0.6235, 0.9608, 0.7569,\n",
       "           0.8078, 0.8745, 1.0000, 1.0000, 0.8667, 0.9176, 0.8667, 0.8275,\n",
       "           0.8627, 0.9098, 0.9647, 0.0000],\n",
       "          [0.0118, 0.7922, 0.8941, 0.8784, 0.8667, 0.8275, 0.8275, 0.8392,\n",
       "           0.8039, 0.8039, 0.8039, 0.8627, 0.9412, 0.3137, 0.5882, 1.0000,\n",
       "           0.8980, 0.8667, 0.7373, 0.6039, 0.7490, 0.8235, 0.8000, 0.8196,\n",
       "           0.8706, 0.8941, 0.8824, 0.0000],\n",
       "          [0.3843, 0.9137, 0.7765, 0.8235, 0.8706, 0.8980, 0.8980, 0.9176,\n",
       "           0.9765, 0.8627, 0.7608, 0.8431, 0.8510, 0.9451, 0.2549, 0.2863,\n",
       "           0.4157, 0.4588, 0.6588, 0.8588, 0.8667, 0.8431, 0.8510, 0.8745,\n",
       "           0.8745, 0.8784, 0.8980, 0.1137],\n",
       "          [0.2941, 0.8000, 0.8314, 0.8000, 0.7569, 0.8039, 0.8275, 0.8824,\n",
       "           0.8471, 0.7255, 0.7725, 0.8078, 0.7765, 0.8353, 0.9412, 0.7647,\n",
       "           0.8902, 0.9608, 0.9373, 0.8745, 0.8549, 0.8314, 0.8196, 0.8706,\n",
       "           0.8627, 0.8667, 0.9020, 0.2627],\n",
       "          [0.1882, 0.7961, 0.7176, 0.7608, 0.8353, 0.7725, 0.7255, 0.7451,\n",
       "           0.7608, 0.7529, 0.7922, 0.8392, 0.8588, 0.8667, 0.8627, 0.9255,\n",
       "           0.8824, 0.8471, 0.7804, 0.8078, 0.7294, 0.7098, 0.6941, 0.6745,\n",
       "           0.7098, 0.8039, 0.8078, 0.4510],\n",
       "          [0.0000, 0.4784, 0.8588, 0.7569, 0.7020, 0.6706, 0.7176, 0.7686,\n",
       "           0.8000, 0.8235, 0.8353, 0.8118, 0.8275, 0.8235, 0.7843, 0.7686,\n",
       "           0.7608, 0.7490, 0.7647, 0.7490, 0.7765, 0.7529, 0.6902, 0.6118,\n",
       "           0.6549, 0.6941, 0.8235, 0.3608],\n",
       "          [0.0000, 0.0000, 0.2902, 0.7412, 0.8314, 0.7490, 0.6863, 0.6745,\n",
       "           0.6863, 0.7098, 0.7255, 0.7373, 0.7412, 0.7373, 0.7569, 0.7765,\n",
       "           0.8000, 0.8196, 0.8235, 0.8235, 0.8275, 0.7373, 0.7373, 0.7608,\n",
       "           0.7529, 0.8471, 0.6667, 0.0000],\n",
       "          [0.0078, 0.0000, 0.0000, 0.0000, 0.2588, 0.7843, 0.8706, 0.9294,\n",
       "           0.9373, 0.9490, 0.9647, 0.9529, 0.9569, 0.8667, 0.8627, 0.7569,\n",
       "           0.7490, 0.7020, 0.7137, 0.7137, 0.7098, 0.6902, 0.6510, 0.6588,\n",
       "           0.3882, 0.2275, 0.0000, 0.0000],\n",
       "          [0.0000, 0.0000, 0.0000, 0.0000, 0.0000, 0.0000, 0.0000, 0.1569,\n",
       "           0.2392, 0.1725, 0.2824, 0.1608, 0.1373, 0.0000, 0.0000, 0.0000,\n",
       "           0.0000, 0.0000, 0.0000, 0.0000, 0.0000, 0.0000, 0.0000, 0.0000,\n",
       "           0.0000, 0.0000, 0.0000, 0.0000],\n",
       "          [0.0000, 0.0000, 0.0000, 0.0000, 0.0000, 0.0000, 0.0000, 0.0000,\n",
       "           0.0000, 0.0000, 0.0000, 0.0000, 0.0000, 0.0000, 0.0000, 0.0000,\n",
       "           0.0000, 0.0000, 0.0000, 0.0000, 0.0000, 0.0000, 0.0000, 0.0000,\n",
       "           0.0000, 0.0000, 0.0000, 0.0000],\n",
       "          [0.0000, 0.0000, 0.0000, 0.0000, 0.0000, 0.0000, 0.0000, 0.0000,\n",
       "           0.0000, 0.0000, 0.0000, 0.0000, 0.0000, 0.0000, 0.0000, 0.0000,\n",
       "           0.0000, 0.0000, 0.0000, 0.0000, 0.0000, 0.0000, 0.0000, 0.0000,\n",
       "           0.0000, 0.0000, 0.0000, 0.0000]]]),\n",
       " 9)"
      ]
     },
     "execution_count": 4,
     "metadata": {},
     "output_type": "execute_result"
    }
   ],
   "source": [
    "# See first training samples\n",
    "image, label = train_data[0]\n",
    "image, label\n"
   ]
  },
  {
   "cell_type": "code",
   "execution_count": 79,
   "id": "b15ed313",
   "metadata": {},
   "outputs": [
    {
     "data": {
      "text/plain": [
       "(['T-shirt/top',\n",
       "  'Trouser',\n",
       "  'Pullover',\n",
       "  'Dress',\n",
       "  'Coat',\n",
       "  'Sandal',\n",
       "  'Shirt',\n",
       "  'Sneaker',\n",
       "  'Bag',\n",
       "  'Ankle boot'],\n",
       " 10,\n",
       " {'T-shirt/top': 0,\n",
       "  'Trouser': 1,\n",
       "  'Pullover': 2,\n",
       "  'Dress': 3,\n",
       "  'Coat': 4,\n",
       "  'Sandal': 5,\n",
       "  'Shirt': 6,\n",
       "  'Sneaker': 7,\n",
       "  'Bag': 8,\n",
       "  'Ankle boot': 9})"
      ]
     },
     "execution_count": 79,
     "metadata": {},
     "output_type": "execute_result"
    }
   ],
   "source": [
    "class_names = train_data.classes\n",
    "class_names, len(class_names), train_data.class_to_idx"
   ]
  },
  {
   "cell_type": "code",
   "execution_count": 6,
   "id": "37672d35",
   "metadata": {},
   "outputs": [
    {
     "data": {
      "text/plain": [
       "tensor([9, 0, 0,  ..., 3, 0, 5])"
      ]
     },
     "execution_count": 6,
     "metadata": {},
     "output_type": "execute_result"
    }
   ],
   "source": [
    "train_data.targets"
   ]
  },
  {
   "cell_type": "markdown",
   "id": "9873f5b6",
   "metadata": {},
   "source": [
    "### 1.1 Check input and output shapes of data"
   ]
  },
  {
   "cell_type": "code",
   "execution_count": 7,
   "id": "39e6b6ce",
   "metadata": {},
   "outputs": [
    {
     "name": "stdout",
     "output_type": "stream",
     "text": [
      "Image shape: torch.Size([1, 28, 28]) (C, H, W)\n",
      "Label: Ankle boot\n"
     ]
    }
   ],
   "source": [
    "print(f\"Image shape: {image.shape} (C, H, W)\\nLabel: {class_names[label]}\")"
   ]
  },
  {
   "cell_type": "markdown",
   "id": "d579e40e",
   "metadata": {},
   "source": [
    "### 1.2 Visualize data"
   ]
  },
  {
   "cell_type": "code",
   "execution_count": 8,
   "id": "154787a2",
   "metadata": {},
   "outputs": [
    {
     "name": "stdout",
     "output_type": "stream",
     "text": [
      "Image shape: torch.Size([1, 28, 28])\n"
     ]
    },
    {
     "data": {
      "image/png": "[encoded data removed]",
      "text/plain": [
       "<Figure size 640x480 with 1 Axes>"
      ]
     },
     "metadata": {},
     "output_type": "display_data"
    }
   ],
   "source": [
    "print(f\"Image shape: {image.shape}\")\n",
    "#image\n",
    "plt.imshow(image.squeeze())\n",
    "plt.title(class_names[label])\n",
    "plt.axis(False)\n",
    "plt.show()"
   ]
  },
  {
   "cell_type": "code",
   "execution_count": 9,
   "id": "2a4a9eaa",
   "metadata": {},
   "outputs": [
    {
     "data": {
      "image/png": "[encoded data removed]",
      "text/plain": [
       "<Figure size 640x480 with 1 Axes>"
      ]
     },
     "metadata": {},
     "output_type": "display_data"
    }
   ],
   "source": [
    "plt.imshow(image.squeeze(), cmap=\"gray\")\n",
    "plt.title(class_names[label])\n",
    "plt.axis(False)\n",
    "plt.show()"
   ]
  },
  {
   "cell_type": "code",
   "execution_count": 92,
   "id": "2f883e04",
   "metadata": {},
   "outputs": [
    {
     "data": {
      "image/png": "[encoded data removed]",
      "text/plain": [
       "<Figure size 800x800 with 16 Axes>"
      ]
     },
     "metadata": {},
     "output_type": "display_data"
    }
   ],
   "source": [
    "# Plot more images\n",
    "#torch.manual_seed(42)\n",
    "fig = plt.figure(figsize=(8, 8))\n",
    "rows, cols = 4, 4\n",
    "for i in range(1, rows*cols + 1):\n",
    "    random_idx = torch.randint(0, len(train_data), size=[1]).item()\n",
    "    img, label = train_data[random_idx]\n",
    "    fig.add_subplot(rows, cols, i)\n",
    "    plt.imshow(img.squeeze())\n",
    "    plt.title(class_names[label])\n",
    "    plt.axis(False)\n",
    "    "
   ]
  },
  {
   "cell_type": "markdown",
   "id": "1586a506",
   "metadata": {},
   "source": [
    "Do you think this images could be model with pure linear lines? Or we'll need non-linearity layers? "
   ]
  },
  {
   "cell_type": "markdown",
   "id": "aff8919d",
   "metadata": {},
   "source": [
    "## 2. Preparete Dataloader\n",
    "\n",
    "* Right now, our data is in the form of PyTorch Datasets. \n",
    "* Dataloaders turns our dataset into a Python iterable.\n",
    "* We want to turn our data into batches \n",
    "\n",
    "**Why?**\n",
    "\n",
    "1. More computationally efficient (less memory usage).\n",
    "2. It gives our nn more chances to update its gradient per epoch (update every, in this case, 32 images. Otherwise we would update it just once)"
   ]
  },
  {
   "cell_type": "code",
   "execution_count": 11,
   "id": "62ddea44",
   "metadata": {},
   "outputs": [
    {
     "data": {
      "text/plain": [
       "(Dataset FashionMNIST\n",
       "     Number of datapoints: 60000\n",
       "     Root location: .data\n",
       "     Split: Train\n",
       "     StandardTransform\n",
       " Transform: ToTensor(),\n",
       " Dataset FashionMNIST\n",
       "     Number of datapoints: 10000\n",
       "     Root location: .data\n",
       "     Split: Test\n",
       "     StandardTransform\n",
       " Transform: ToTensor())"
      ]
     },
     "execution_count": 11,
     "metadata": {},
     "output_type": "execute_result"
    }
   ],
   "source": [
    "train_data, test_data"
   ]
  },
  {
   "cell_type": "code",
   "execution_count": 80,
   "id": "b9b89b35",
   "metadata": {},
   "outputs": [
    {
     "data": {
      "text/plain": [
       "(<torch.utils.data.dataloader.DataLoader at 0x7fd32b6d9820>,\n",
       " <torch.utils.data.dataloader.DataLoader at 0x7fd32b6d9df0>)"
      ]
     },
     "execution_count": 80,
     "metadata": {},
     "output_type": "execute_result"
    }
   ],
   "source": [
    "from torch.utils.data import DataLoader\n",
    "\n",
    "# Setup batch size\n",
    "BATCH_SIZE = 32\n",
    "\n",
    "# Turn datasets into iterables\n",
    "train_dataloader = DataLoader(\n",
    "    dataset=train_data,\n",
    "    batch_size=BATCH_SIZE,\n",
    "    shuffle=True \n",
    ")\n",
    "\n",
    "test_dataloader = DataLoader(\n",
    "    dataset=test_data,\n",
    "    batch_size=BATCH_SIZE,\n",
    "    shuffle=False \n",
    ")\n",
    "train_dataloader, test_dataloader"
   ]
  },
  {
   "cell_type": "code",
   "execution_count": 13,
   "id": "72f5820e",
   "metadata": {},
   "outputs": [
    {
     "name": "stdout",
     "output_type": "stream",
     "text": [
      "Dataloaders: (<torch.utils.data.dataloader.DataLoader object at 0x7fd2ffafe5b0>, <torch.utils.data.dataloader.DataLoader object at 0x7fd2ffafe550>)\n",
      "Lenght of train_dataloader: 1875 batches of 32\n",
      "Lenght of test_dataloader: 313 batches of 32\n"
     ]
    }
   ],
   "source": [
    "# Let's check out what we created \n",
    "print(f\"Dataloaders: {train_dataloader, test_dataloader}\")\n",
    "print(f\"Lenght of train_dataloader: {len(train_dataloader)} batches of {BATCH_SIZE}\")\n",
    "print(f\"Lenght of test_dataloader: {len(test_dataloader)} batches of {BATCH_SIZE}\")"
   ]
  },
  {
   "cell_type": "code",
   "execution_count": 14,
   "id": "8cbc6404",
   "metadata": {},
   "outputs": [
    {
     "data": {
      "text/plain": [
       "(torch.Size([32, 1, 28, 28]), torch.Size([32]))"
      ]
     },
     "execution_count": 14,
     "metadata": {},
     "output_type": "execute_result"
    }
   ],
   "source": [
    "# Train features batch\n",
    "train_features_batch, train_labels_batch = next(iter(train_dataloader))\n",
    "train_features_batch.shape, train_labels_batch.shape"
   ]
  },
  {
   "cell_type": "code",
   "execution_count": 15,
   "id": "5ae918b6",
   "metadata": {},
   "outputs": [],
   "source": [
    "# Show a sample \n",
    "#torch.manual_seed(42) \n",
    "random_idx = torch.randint(0, len(train_features_batch), size=[1]).item()\n",
    "img, label = train_features_batch[random_idx], train_labels_batch[random_idx]"
   ]
  },
  {
   "cell_type": "code",
   "execution_count": 16,
   "id": "1241d6bb",
   "metadata": {},
   "outputs": [
    {
     "name": "stdout",
     "output_type": "stream",
     "text": [
      "Image shape: torch.Size([1, 28, 28])\n",
      "Label: 4 --> Coat\n"
     ]
    },
    {
     "data": {
      "image/png": "[encoded data removed]",
      "text/plain": [
       "<Figure size 1000x700 with 1 Axes>"
      ]
     },
     "metadata": {},
     "output_type": "display_data"
    }
   ],
   "source": [
    "print(f\"Image shape: {img.shape}\\nLabel: {label} --> {class_names[label]}\")\n",
    "plt.figure(figsize=(10,7))\n",
    "plt.imshow(img.squeeze())\n",
    "plt.title(f\"{class_names[label]}\")\n",
    "plt.axis(False)\n",
    "plt.show()"
   ]
  },
  {
   "cell_type": "markdown",
   "id": "3960ee92",
   "metadata": {},
   "source": [
    "## 3. Model 0: Build a baseline model\n",
    "\n",
    "Best practice to start with a baseline model.\n",
    "\n",
    "- **Baseline model**: simple model you will try and improve upon with subsequent models/experiment. Start simply and add complexity when necessary.\n",
    "\n"
   ]
  },
  {
   "cell_type": "code",
   "execution_count": 17,
   "id": "14960f8a",
   "metadata": {},
   "outputs": [
    {
     "data": {
      "text/plain": [
       "torch.Size([1, 28, 28])"
      ]
     },
     "execution_count": 17,
     "metadata": {},
     "output_type": "execute_result"
    }
   ],
   "source": [
    "# Create a flatten layer \n",
    "flatten_model = nn.Flatten()\n",
    "\n",
    "# Get a sample\n",
    "x = train_features_batch[0]\n",
    "x.shape"
   ]
  },
  {
   "cell_type": "code",
   "execution_count": 18,
   "id": "8b94d947",
   "metadata": {},
   "outputs": [
    {
     "name": "stdout",
     "output_type": "stream",
     "text": [
      "New size = 28 * 28 = 784\n",
      "We went from [C,H,W] to [C, H*W]\n"
     ]
    }
   ],
   "source": [
    "output = flatten_model(x)\n",
    "print(f\"New size = 28 * 28 = {output.shape[1]}\")\n",
    "print(f\"We went from [C,H,W] to [C, H*W]\")"
   ]
  },
  {
   "cell_type": "code",
   "execution_count": 82,
   "id": "748df1f8",
   "metadata": {},
   "outputs": [],
   "source": [
    "from torch import nn\n",
    "class FashionMNISTModelV0(nn.Module):\n",
    "    def __init__(self,\n",
    "                 input_shape:int,\n",
    "                 hidden_units:int,\n",
    "                 output_shape:int):\n",
    "        super().__init__()\n",
    "        self.layer_stack = nn.Sequential(\n",
    "            nn.Flatten(),\n",
    "            nn.Linear(in_features=input_shape,\n",
    "                      out_features=hidden_units),\n",
    "            nn.Linear(in_features=hidden_units,\n",
    "                      out_features=output_shape)\n",
    "        )\n",
    "        \n",
    "    def forward(self, x:torch.Tensor) -> torch.Tensor:\n",
    "        return self.layer_stack(x)\n",
    "        "
   ]
  },
  {
   "cell_type": "code",
   "execution_count": 83,
   "id": "55e0d208",
   "metadata": {},
   "outputs": [
    {
     "data": {
      "text/plain": [
       "FashionMNISTModelV0(\n",
       "  (layer_stack): Sequential(\n",
       "    (0): Flatten(start_dim=1, end_dim=-1)\n",
       "    (1): Linear(in_features=784, out_features=10, bias=True)\n",
       "    (2): Linear(in_features=10, out_features=10, bias=True)\n",
       "  )\n",
       ")"
      ]
     },
     "execution_count": 83,
     "metadata": {},
     "output_type": "execute_result"
    }
   ],
   "source": [
    "torch.manual_seed(42)\n",
    "\n",
    "# Setup model with input parameters\n",
    "model_0 = FashionMNISTModelV0(\n",
    "    input_shape=28*28,\n",
    "    hidden_units=10, # How many units on the hidden layers\n",
    "    output_shape=len(class_names) # One for every class\n",
    ").to(\"cpu\")\n",
    "model_0"
   ]
  },
  {
   "cell_type": "code",
   "execution_count": 84,
   "id": "1ac0a9cf",
   "metadata": {},
   "outputs": [
    {
     "name": "stdout",
     "output_type": "stream",
     "text": [
      "tensor([[-0.0315,  0.3171,  0.0531, -0.2525,  0.5959,  0.2112,  0.3233,  0.2694,\n",
      "         -0.1004,  0.0157]]) \n",
      " torch.Size([1, 10])\n"
     ]
    }
   ],
   "source": [
    "with torch.inference_mode():\n",
    "    model_0.eval()\n",
    "    dummy_x = torch.rand([1, 1, 28, 28])\n",
    "    print(model_0(dummy_x),\"\\n\", model_0(dummy_x).shape) "
   ]
  },
  {
   "cell_type": "markdown",
   "id": "bfeb46da",
   "metadata": {},
   "source": [
    "### 3.1 Setup optimizer and loss function \n",
    "\n",
    "* Since we are in a multi-class model: `nn.CrossEntropyLoss()`.\n",
    "* Optimizer: `torch.optim.SGD()`.\n",
    "* Evaluation metric: sine we're working on classificatión, let's use accuracy (`torchmetrics.Accuracy`)."
   ]
  },
  {
   "cell_type": "code",
   "execution_count": 85,
   "id": "071245f2",
   "metadata": {},
   "outputs": [],
   "source": [
    "from torchmetrics import Accuracy\n",
    "optim = torch.optim.SGD(params=model_0.parameters(),\n",
    "                        lr=.1)\n",
    "loss_fn = torch.nn.CrossEntropyLoss()\n",
    "acc_fn = Accuracy(task=\"multiclass\", num_classes=len(class_names))"
   ]
  },
  {
   "cell_type": "markdown",
   "id": "b4a2a096",
   "metadata": {},
   "source": [
    "### 3.2 Creating a function to time our experimets \n",
    "\n",
    "ML is very experimental.\n",
    "\n",
    "Two of the main things you want to track:\n",
    "1. Model's performance (loss & evaluation metrics)\n",
    "2. How fast it runs"
   ]
  },
  {
   "cell_type": "code",
   "execution_count": 86,
   "id": "e0865ecd",
   "metadata": {},
   "outputs": [],
   "source": [
    "from timeit import default_timer as timer \n",
    "def print_train_time(start:float,\n",
    "                     end:float,\n",
    "                     device: str = \"cpu\"):\n",
    "    '''\n",
    "    Prints difference between start and end time.\n",
    "    '''\n",
    "    total_time = end-start\n",
    "    print(f\"Train time on {device}: {total_time:.3f} seconds\")\n",
    "    return total_time "
   ]
  },
  {
   "cell_type": "code",
   "execution_count": 87,
   "id": "e4317645",
   "metadata": {},
   "outputs": [
    {
     "name": "stdout",
     "output_type": "stream",
     "text": [
      "Train time on cpu: 0.000 seconds\n"
     ]
    },
    {
     "data": {
      "text/plain": [
       "4.868000019087049e-05"
      ]
     },
     "execution_count": 87,
     "metadata": {},
     "output_type": "execute_result"
    }
   ],
   "source": [
    "start_time = timer()\n",
    "# some code ....\n",
    "end_time = timer()\n",
    "print_train_time(start=start_time, end=end_time, device=\"cpu\")"
   ]
  },
  {
   "cell_type": "markdown",
   "id": "90448c46",
   "metadata": {},
   "source": [
    "### 3.3 Creating training loop \n",
    "1. Loop through epochs.\n",
    "2. Loop through training batches, calculate the train loss *per batch*.\n",
    "3. Loop through testing batches, calculate the test loss *per batch*.\n",
    "4. Print what's happening.\n",
    "5. Time it all (for fun)."
   ]
  },
  {
   "cell_type": "code",
   "execution_count": 88,
   "id": "88625bff",
   "metadata": {},
   "outputs": [
    {
     "name": "stderr",
     "output_type": "stream",
     "text": [
      "  0%|          | 0/3 [00:00<?, ?it/s]"
     ]
    },
    {
     "name": "stdout",
     "output_type": "stream",
     "text": [
      "Epoch: 0\n",
      "------\n",
      "Looked at 0/60000 samples.\n",
      "Looked at 12800/60000 samples.\n",
      "Looked at 25600/60000 samples.\n",
      "Looked at 38400/60000 samples.\n",
      "Looked at 51200/60000 samples.\n"
     ]
    },
    {
     "name": "stderr",
     "output_type": "stream",
     "text": [
      " 33%|███▎      | 1/3 [00:07<00:15,  7.84s/it]"
     ]
    },
    {
     "name": "stdout",
     "output_type": "stream",
     "text": [
      "\n",
      " Train loss: 0.5904 | Test loss & acc: [0.5095,0.8204]\n",
      "Epoch: 1\n",
      "------\n",
      "Looked at 0/60000 samples.\n",
      "Looked at 12800/60000 samples.\n",
      "Looked at 25600/60000 samples.\n",
      "Looked at 38400/60000 samples.\n",
      "Looked at 51200/60000 samples.\n"
     ]
    },
    {
     "name": "stderr",
     "output_type": "stream",
     "text": [
      " 67%|██████▋   | 2/3 [00:11<00:05,  5.26s/it]"
     ]
    },
    {
     "name": "stdout",
     "output_type": "stream",
     "text": [
      "\n",
      " Train loss: 0.4763 | Test loss & acc: [0.4799,0.8320]\n",
      "Epoch: 2\n",
      "------\n",
      "Looked at 0/60000 samples.\n",
      "Looked at 12800/60000 samples.\n",
      "Looked at 25600/60000 samples.\n",
      "Looked at 38400/60000 samples.\n",
      "Looked at 51200/60000 samples.\n"
     ]
    },
    {
     "name": "stderr",
     "output_type": "stream",
     "text": [
      "100%|██████████| 3/3 [00:14<00:00,  4.86s/it]"
     ]
    },
    {
     "name": "stdout",
     "output_type": "stream",
     "text": [
      "\n",
      " Train loss: 0.4550 | Test loss & acc: [0.4766,0.8343]\n",
      "Train time on cpu: 14.573 seconds\n"
     ]
    },
    {
     "name": "stderr",
     "output_type": "stream",
     "text": [
      "\n"
     ]
    }
   ],
   "source": [
    "# For progress bar \n",
    "from tqdm.auto import tqdm\n",
    "\n",
    "# Set seed and start the timer \n",
    "torch.manual_seed(42)\n",
    "train_time_start_on_cpu = timer()\n",
    "\n",
    "# Set the number of epochs \n",
    "epochs = 3 \n",
    "\n",
    "# Create training and test loop\n",
    "for epoch in tqdm(range(epochs)):\n",
    "    print(f\"Epoch: {epoch}\\n------\")\n",
    "    \n",
    "    # * TRAIN\n",
    "    train_loss = 0\n",
    "    # Add a loop to loop through the batches\n",
    "    for batch, (X, y) in enumerate(train_dataloader):\n",
    "        model_0.train()\n",
    "        \n",
    "        # 1. Forward pass \n",
    "        y_pred = model_0(X)\n",
    "        \n",
    "        # 2. Loss (per batch)\n",
    "        loss = loss_fn(y_pred, y)\n",
    "        train_loss += loss # Acumulate training loss\n",
    "        \n",
    "        # 3. Zero grad\n",
    "        optim.zero_grad()\n",
    "        \n",
    "        # 4. Backpropagation\n",
    "        loss.backward()\n",
    "        \n",
    "        # 5. Gradient descent \n",
    "        optim.step()\n",
    "        \n",
    "        # Print out whats happening \n",
    "        if batch % 400 == 0:\n",
    "            print(f\"Looked at {batch * len(X)}/{len(train_dataloader.dataset)} samples.\")\n",
    "        \n",
    "    # Loss per epoch\n",
    "    train_loss /= len(train_dataloader)\n",
    "    \n",
    "    ### Testing loop \n",
    "    test_loss, test_acc = 0, 0\n",
    "    with torch.inference_mode():\n",
    "        model_0.eval()\n",
    "        for X_test,y_test in test_dataloader:\n",
    "            # 1. Forward pass\n",
    "            test_pred = model_0(X_test)\n",
    "            \n",
    "            # 2. Calculate loss & accuracy per batch \n",
    "            test_loss += loss_fn(test_pred, y_test)\n",
    "            test_acc += acc_fn(test_pred.argmax(dim=1), y_test)\n",
    "            \n",
    "        # Calculate test loss & accuracy per epoch \n",
    "        test_loss /= len(test_dataloader)\n",
    "        test_acc /= len(test_dataloader)\n",
    "        \n",
    "    # Print out what's happening \n",
    "    print(f\"\\n Train loss: {train_loss:.4f} | Test loss & acc: [{test_loss:.4f},{test_acc:.4f}]\")\n",
    "    \n",
    "# Calculate training time \n",
    "train_time_end_on_cpu = timer()\n",
    "train_time_0 = print_train_time(start=train_time_start_on_cpu,\n",
    "                                 end=train_time_end_on_cpu,\n",
    "                                 device=str(next(model_0.parameters()).device))"
   ]
  },
  {
   "cell_type": "markdown",
   "id": "22783b9a",
   "metadata": {},
   "source": [
    "## 4. Make predictions and get Model 0 results"
   ]
  },
  {
   "cell_type": "code",
   "execution_count": 26,
   "id": "a3db3cc2",
   "metadata": {},
   "outputs": [
    {
     "name": "stderr",
     "output_type": "stream",
     "text": [
      "100%|██████████| 313/313 [00:00<00:00, 735.41it/s]\n"
     ]
    },
    {
     "data": {
      "text/plain": [
       "{'model_name': 'FashionMNISTModelV0',\n",
       " 'model_loss': 0.47663894295692444,\n",
       " 'model_acc': 0.8342651724815369}"
      ]
     },
     "execution_count": 26,
     "metadata": {},
     "output_type": "execute_result"
    }
   ],
   "source": [
    "torch.manual_seed(42)\n",
    "def eval_model(model:torch.nn.Module,\n",
    "               data_loader: DataLoader,\n",
    "               loss_fn: torch.nn.Module,\n",
    "               acc_fn,\n",
    "               device: str):\n",
    "    '''Returns a dictionary contaning the results of the model predicting on data_loader.'''\n",
    "    loss, acc = torch.Tensor([0]).type(dtype=torch.float).to(device), torch.Tensor([0]).type(dtype=torch.float).to(device)\n",
    "    with torch.inference_mode():\n",
    "        model_0.eval()\n",
    "        for X, y in tqdm(data_loader):\n",
    "            # Make predictions \n",
    "            y_pred = model_0(X)\n",
    "            \n",
    "            # Acumulate loss and acc per batch \n",
    "            loss += loss_fn(y_pred, y)\n",
    "            acc += acc_fn(y_pred.argmax(dim=1), y)\n",
    "        \n",
    "        # Scale loss and acc to fin average loss/acc per batch\n",
    "        loss /= len(data_loader)\n",
    "        acc /= len(data_loader)\n",
    "        \n",
    "    return {\"model_name\": model.__class__.__name__, # only works when model was created with a class\n",
    "            \"model_loss\" :loss.item(),\n",
    "            \"model_acc\": acc.item()}\n",
    "    \n",
    "# Calculate model 0 result on test dataset\n",
    "model_0_results = eval_model(model=model_0,\n",
    "                              data_loader=test_dataloader,\n",
    "                              loss_fn=loss_fn,\n",
    "                              acc_fn=acc_fn,\n",
    "                              device=device)\n",
    "model_0_results "
   ]
  },
  {
   "cell_type": "markdown",
   "id": "bd45237a",
   "metadata": {},
   "source": [
    "## 5. Setup device agnostic-code "
   ]
  },
  {
   "cell_type": "code",
   "execution_count": 27,
   "id": "6bdf6db4",
   "metadata": {},
   "outputs": [
    {
     "name": "stdout",
     "output_type": "stream",
     "text": [
      "Device: cuda\n",
      "Sat Aug 30 11:04:45 2025       \n",
      "+-----------------------------------------------------------------------------------------+\n",
      "| NVIDIA-SMI 575.64.03              Driver Version: 575.64.03      CUDA Version: 12.9     |\n",
      "|-----------------------------------------+------------------------+----------------------+\n",
      "| GPU  Name                 Persistence-M | Bus-Id          Disp.A | Volatile Uncorr. ECC |\n",
      "| Fan  Temp   Perf          Pwr:Usage/Cap |           Memory-Usage | GPU-Util  Compute M. |\n",
      "|                                         |                        |               MIG M. |\n",
      "|=========================================+========================+======================|\n",
      "|   0  NVIDIA GeForce RTX 4060 ...    Off |   00000000:01:00.0 Off |                  N/A |\n",
      "| N/A   37C    P3             12W /   55W |     187MiB /   8188MiB |      0%      Default |\n",
      "|                                         |                        |                  N/A |\n",
      "+-----------------------------------------+------------------------+----------------------+\n",
      "                                                                                         \n",
      "+-----------------------------------------------------------------------------------------+\n",
      "| Processes:                                                                              |\n",
      "|  GPU   GI   CI              PID   Type   Process name                        GPU Memory |\n",
      "|        ID   ID                                                               Usage      |\n",
      "|=========================================================================================|\n",
      "|    0   N/A  N/A            1557      G   /usr/lib/xorg/Xorg                        4MiB |\n",
      "|    0   N/A  N/A            4843      C   ...Course/pytorch.env/bin/python        168MiB |\n",
      "+-----------------------------------------------------------------------------------------+\n"
     ]
    }
   ],
   "source": [
    "device = \"cuda\" if torch.cuda.is_available() else \"cpu\"\n",
    "print(f\"Device: {device}\")\n",
    "!nvidia-smi"
   ]
  },
  {
   "cell_type": "markdown",
   "id": "c38d7af8",
   "metadata": {},
   "source": [
    "## 6. Model 1: Building a better model with non-linearity "
   ]
  },
  {
   "cell_type": "code",
   "execution_count": 28,
   "id": "d4cc44b8",
   "metadata": {},
   "outputs": [],
   "source": [
    "# Create a model with non-linear and linear layers\n",
    "class FashionMNISTModelV1(nn.Module):\n",
    "    def __init__(self,\n",
    "                 input_shape:int,\n",
    "                 hidden_units:int,\n",
    "                 output_shape:int) -> None:\n",
    "        super().__init__()  \n",
    "        \n",
    "        self.layer_stack = nn.Sequential(\n",
    "            nn.Flatten(), # Flatten inputs into a single vector \n",
    "            nn.Linear(in_features=input_shape,\n",
    "                      out_features=hidden_units),\n",
    "            nn.ReLU(),\n",
    "            nn.Linear(in_features=hidden_units,\n",
    "                      out_features=output_shape),\n",
    "            nn.ReLU()\n",
    "            )\n",
    "        \n",
    "    def forward(self, x:torch.Tensor) -> torch.Tensor:\n",
    "        return self.layer_stack(x)"
   ]
  },
  {
   "cell_type": "code",
   "execution_count": 29,
   "id": "7b68eaf5",
   "metadata": {},
   "outputs": [
    {
     "data": {
      "text/plain": [
       "device(type='cpu')"
      ]
     },
     "execution_count": 29,
     "metadata": {},
     "output_type": "execute_result"
    }
   ],
   "source": [
    "next(model_0.parameters()).device"
   ]
  },
  {
   "cell_type": "code",
   "execution_count": 30,
   "id": "3cd72134",
   "metadata": {},
   "outputs": [
    {
     "data": {
      "text/plain": [
       "(FashionMNISTModelV1(\n",
       "   (layer_stack): Sequential(\n",
       "     (0): Flatten(start_dim=1, end_dim=-1)\n",
       "     (1): Linear(in_features=784, out_features=10, bias=True)\n",
       "     (2): ReLU()\n",
       "     (3): Linear(in_features=10, out_features=10, bias=True)\n",
       "     (4): ReLU()\n",
       "   )\n",
       " ),\n",
       " device(type='cuda', index=0))"
      ]
     },
     "execution_count": 30,
     "metadata": {},
     "output_type": "execute_result"
    }
   ],
   "source": [
    "model_1 = FashionMNISTModelV1(input_shape=28*28, # Output of flatten layer, number of pixels\n",
    "                              output_shape=len(class_names),\n",
    "                              hidden_units=10).to(device)\n",
    "model_1, next(model_1.parameters()).device"
   ]
  },
  {
   "cell_type": "markdown",
   "id": "4687215f",
   "metadata": {},
   "source": [
    "### 6.1 Loss & optimizer"
   ]
  },
  {
   "cell_type": "code",
   "execution_count": 31,
   "id": "113090e9",
   "metadata": {},
   "outputs": [],
   "source": [
    "# Loss & optimizer \n",
    "optim = torch.optim.SGD(params=model_1.parameters(),\n",
    "                        lr=0.1)\n",
    "loss_fn = torch.nn.CrossEntropyLoss()\n",
    "acc_fn = Accuracy(task=\"multiclass\", \n",
    "                  num_classes=len(class_names)).to(device)"
   ]
  },
  {
   "cell_type": "markdown",
   "id": "6b80ab8e",
   "metadata": {},
   "source": [
    "### 6.2 Functionizing training and evaluation/testing loop\n",
    "\n",
    "* training loop -> `train_step`\n",
    "* test loop -> `test_step`"
   ]
  },
  {
   "cell_type": "code",
   "execution_count": 32,
   "id": "03c097cd",
   "metadata": {},
   "outputs": [],
   "source": [
    "# Train step \n",
    "def train_step(model: torch.nn.Module, \n",
    "               data_loader: DataLoader,\n",
    "               loss_fn: torch.nn.Module,\n",
    "               optimizer: torch.optim.Optimizer,\n",
    "               acc_fn,\n",
    "               device:str = device):\n",
    "    \n",
    "    '''\n",
    "    Performs a training with model trying to learn on data_loader\n",
    "    Args: \n",
    "        model: torch.nn.Module\n",
    "        data_loader: DataLoade\n",
    "        loss_fn: torch.nn.Module\n",
    "        optimizer: torch.optim.Optimizer\n",
    "        device:str \n",
    "    '''\n",
    "    \n",
    "    train_loss, train_acc = torch.tensor([0], dtype=torch.float32).to(device), torch.tensor([0], dtype=torch.float32).to(device)\n",
    "    \n",
    "    # Put model into training mode\n",
    "    model.train()\n",
    "    \n",
    "    for batch, (X, y) in enumerate(data_loader):    \n",
    "        # Put data into target device\n",
    "        X, y = X.to(device), y.to(device)\n",
    "                \n",
    "        # 1. Forward pass \n",
    "        y_pred = model(X) # Ouput raw logits from the model\n",
    "        \n",
    "        # 2. Loss & acc (per batch)\n",
    "        loss = loss_fn(y_pred, y)\n",
    "        train_loss += loss # Acumulate training loss\n",
    "        train_acc += acc_fn(y_pred.argmax(dim=1), y)\n",
    "        \n",
    "        # 3. Zero grad\n",
    "        optimizer.zero_grad()\n",
    "        \n",
    "        # 4. Backpropagation\n",
    "        loss.backward()\n",
    "        \n",
    "        # 5. Gradient descent \n",
    "        optimizer.step()\n",
    "        \n",
    "    # Loss & accuracy per epoch\n",
    "    train_loss /= len(data_loader)\n",
    "    train_acc /= len(data_loader)\n",
    "    print(f\"Train loss & accuracy: [{float(train_loss.item()):.5f},{float(train_acc.item()):.2f}]\\n\")"
   ]
  },
  {
   "cell_type": "code",
   "execution_count": 33,
   "id": "21cf81ef",
   "metadata": {},
   "outputs": [],
   "source": [
    "def test_step(model: torch.nn.Module, \n",
    "              data_loader: DataLoader,\n",
    "              loss_fn: torch.nn.Module,\n",
    "              acc_fn,\n",
    "              device:str = device):\n",
    "    \n",
    "    '''\n",
    "    Performs a testing with model trying to learn on data_loader\n",
    "    Args: \n",
    "        model: torch.nn.Module\n",
    "        data_loader: DataLoade\n",
    "        loss_fn: torch.nn.Module\n",
    "        device:str \n",
    "    '''\n",
    "    \n",
    "    test_loss, test_acc = torch.tensor([0], dtype=torch.float32).to(device), torch.tensor([0], dtype=torch.float32).to(device)\n",
    "    \n",
    "    # Putting model into inference context \n",
    "    with torch.inference_mode():\n",
    "        model.eval()\n",
    "        \n",
    "        # Looping through the batch\n",
    "        for X, y in data_loader:\n",
    "            # Send data into target device \n",
    "            X, y = X.to(device), y.to(device)\n",
    "            \n",
    "            # 1. Forward pass \n",
    "            test_pred = model(X) \n",
    "            \n",
    "            # 2. Loss & acc\n",
    "            test_loss += loss_fn(test_pred, y)\n",
    "            test_acc += acc_fn(test_pred.argmax(dim=1), y)\n",
    "            \n",
    "        # Adjust metrics and print out \n",
    "        test_loss /= len(data_loader)\n",
    "        test_acc /= len(data_loader)\n",
    "        print(f\"Test loss & acc: [{float(test_loss.item()):.5f},{float(test_acc.item()):.2f}]\\n\")\n",
    "        "
   ]
  },
  {
   "cell_type": "code",
   "execution_count": 34,
   "id": "b4317fb0",
   "metadata": {},
   "outputs": [
    {
     "name": "stderr",
     "output_type": "stream",
     "text": [
      "  0%|          | 0/3 [00:00<?, ?it/s]"
     ]
    },
    {
     "name": "stdout",
     "output_type": "stream",
     "text": [
      "Epoch: 0\n",
      "----------\n",
      "Train loss & accuracy: [1.11456,0.58]\n",
      "\n"
     ]
    },
    {
     "name": "stderr",
     "output_type": "stream",
     "text": [
      " 33%|███▎      | 1/3 [00:09<00:18,  9.33s/it]"
     ]
    },
    {
     "name": "stdout",
     "output_type": "stream",
     "text": [
      "Test loss & acc: [0.96320,0.63]\n",
      "\n",
      "Epoch: 1\n",
      "----------\n",
      "Train loss & accuracy: [0.90905,0.65]\n",
      "\n"
     ]
    },
    {
     "name": "stderr",
     "output_type": "stream",
     "text": [
      " 67%|██████▋   | 2/3 [00:20<00:10, 10.59s/it]"
     ]
    },
    {
     "name": "stdout",
     "output_type": "stream",
     "text": [
      "Test loss & acc: [0.74544,0.73]\n",
      "\n",
      "Epoch: 2\n",
      "----------\n",
      "Train loss & accuracy: [0.59508,0.78]\n",
      "\n"
     ]
    },
    {
     "name": "stderr",
     "output_type": "stream",
     "text": [
      "100%|██████████| 3/3 [00:27<00:00,  9.01s/it]"
     ]
    },
    {
     "name": "stdout",
     "output_type": "stream",
     "text": [
      "Test loss & acc: [0.49708,0.83]\n",
      "\n",
      "Train time on cuda: 27.026 seconds\n"
     ]
    },
    {
     "name": "stderr",
     "output_type": "stream",
     "text": [
      "\n"
     ]
    }
   ],
   "source": [
    "torch.manual_seed(42)\n",
    "\n",
    "# Measure time\n",
    "from timeit import default_timer as timer \n",
    "time_start_gpu = timer()\n",
    "\n",
    "epochs = 3\n",
    "\n",
    "# Looping \n",
    "for epoch in tqdm(range(epochs)):\n",
    "    print(f\"Epoch: {epoch}\\n----------\")\n",
    "    \n",
    "    train_step(model=model_1,\n",
    "               loss_fn=loss_fn,\n",
    "               optimizer=optim,\n",
    "               device=device,\n",
    "               acc_fn=acc_fn,\n",
    "               data_loader=train_dataloader)\n",
    "    \n",
    "    test_step(model=model_1,\n",
    "              loss_fn=loss_fn,\n",
    "              device=device,\n",
    "              acc_fn=acc_fn,\n",
    "              data_loader=test_dataloader)\n",
    "    \n",
    "time_end_gpu = timer()\n",
    "train_time_1 = print_train_time(start=time_start_gpu,\n",
    "                 end=time_end_gpu,\n",
    "                 device=device)\n"
   ]
  },
  {
   "cell_type": "code",
   "execution_count": 35,
   "id": "9341aaa5",
   "metadata": {},
   "outputs": [
    {
     "name": "stderr",
     "output_type": "stream",
     "text": [
      "100%|██████████| 313/313 [00:00<00:00, 561.81it/s]\n"
     ]
    },
    {
     "data": {
      "text/plain": [
       "{'model_name': 'FashionMNISTModelV1',\n",
       " 'model_loss': 0.47663894295692444,\n",
       " 'model_acc': 0.8342651724815369}"
      ]
     },
     "execution_count": 35,
     "metadata": {},
     "output_type": "execute_result"
    }
   ],
   "source": [
    "model_1_results = eval_model(model=model_1,\n",
    "                             data_loader=test_dataloader,\n",
    "                             loss_fn=loss_fn,\n",
    "                             acc_fn=acc_fn,\n",
    "                             device=device)\n",
    "model_1_results"
   ]
  },
  {
   "cell_type": "markdown",
   "id": "aa363202",
   "metadata": {},
   "source": [
    "## 7. Model 2: Building a Convolutional Neural Network (CNN)\n",
    "\n",
    "Also known as ConvNets\n",
    "\n",
    "CNN's are know for their capabilities to find patterns in data (feature extraction)\n",
    "\n",
    "We are going to build the \"CNN EXPLAINER\" from `poloclub.github.io/cnn-explainer/` (Tiny VGG)"
   ]
  },
  {
   "cell_type": "code",
   "execution_count": 36,
   "id": "81eee333",
   "metadata": {},
   "outputs": [],
   "source": [
    "# Create a convolutional neural network\n",
    "class FashionMNISTModelV2(nn.Module):\n",
    "    '''\n",
    "    Model architecture that replicates the TinyVGG\n",
    "    model from CNN explainer website \n",
    "    '''\n",
    "    def __init__(self,\n",
    "                 input_shape: int,\n",
    "                 hidden_units: int, \n",
    "                 output_shape:int) -> None:\n",
    "        super().__init__()\n",
    "        \n",
    "        # Block: multiple layers\n",
    "        # Model: multiple blocks\n",
    "        \n",
    "        # Convolutional block 1\n",
    "        self.conv_block_1 = nn.Sequential(\n",
    "             nn.Conv2d(in_channels=input_shape,\n",
    "                       out_channels=hidden_units,\n",
    "                       kernel_size=3, \n",
    "                       stride=1,    \n",
    "                       padding=1),\n",
    "             nn.ReLU(),\n",
    "             nn.Conv2d(in_channels=hidden_units,\n",
    "                       out_channels=hidden_units,\n",
    "                       kernel_size=3,\n",
    "                       stride=1,\n",
    "                       padding=1),\n",
    "             nn.ReLU(),\n",
    "             nn.MaxPool2d(kernel_size=(2))    \n",
    "        )\n",
    "        \n",
    "        # Convolutional block 2:\n",
    "        self.conv_block_2 = nn.Sequential(\n",
    "            nn.Conv2d(in_channels=hidden_units,\n",
    "                      out_channels=hidden_units,\n",
    "                      kernel_size=3,\n",
    "                      stride=1,\n",
    "                      padding=1),\n",
    "            nn.ReLU(),\n",
    "            nn.Conv2d(in_channels=hidden_units,\n",
    "                      out_channels=hidden_units,\n",
    "                      kernel_size=3,\n",
    "                      padding=1,\n",
    "                      stride=1),\n",
    "            nn.ReLU(),\n",
    "            nn.MaxPool2d(kernel_size=(2))\n",
    "        )\n",
    "        \n",
    "        self.classifier = nn.Sequential(\n",
    "            nn.Flatten(),\n",
    "            nn.Linear(in_features=hidden_units*7*7,\n",
    "                      out_features=output_shape)        \n",
    "            )\n",
    "        \n",
    "    def forward(self, x:torch.Tensor) -> torch.Tensor:\n",
    "        #print(f\"Output of original tensor: {x.shape}\")\n",
    "        x = self.conv_block_1(x)\n",
    "        #print(f\"Output shape of conv_block_1: {x.shape}\")\n",
    "        x = self.conv_block_2(x)\n",
    "        #print(f\"Output shape of conv_block_2: {x.shape}\")\n",
    "        x = self.classifier(x)\n",
    "        #print(f\"Output shape of classifier: {x.shape}\")\n",
    "        return x "
   ]
  },
  {
   "cell_type": "code",
   "execution_count": 37,
   "id": "9a248e07",
   "metadata": {},
   "outputs": [],
   "source": [
    "torch.manual_seed(42)\n",
    "model_2 = FashionMNISTModelV2(input_shape=1,\n",
    "                              hidden_units=10,\n",
    "                              output_shape=len(class_names)).to(device)"
   ]
  },
  {
   "cell_type": "code",
   "execution_count": 38,
   "id": "7a7a8dc8",
   "metadata": {},
   "outputs": [
    {
     "data": {
      "text/plain": [
       "(torch.Size([1, 28, 28]),\n",
       " device(type='cuda', index=0),\n",
       " device(type='cuda', index=0),\n",
       " torch.float32)"
      ]
     },
     "execution_count": 38,
     "metadata": {},
     "output_type": "execute_result"
    }
   ],
   "source": [
    "rand_img = torch.rand(size=(1,28,28)).to(device)\n",
    "rand_img.shape, rand_img.device, next(model_2.parameters()).device, rand_img.dtype"
   ]
  },
  {
   "cell_type": "code",
   "execution_count": 39,
   "id": "47cb9c45",
   "metadata": {},
   "outputs": [
    {
     "data": {
      "text/plain": [
       "tensor(0.0573, device='cuda:0')"
      ]
     },
     "execution_count": 39,
     "metadata": {},
     "output_type": "execute_result"
    }
   ],
   "source": [
    "with torch.inference_mode():\n",
    "    model_2.eval()\n",
    "    result = model_2(rand_img.unsqueeze(0)).max()\n",
    "result "
   ]
  },
  {
   "cell_type": "markdown",
   "id": "458f95b2",
   "metadata": {},
   "source": [
    "### 7.1 Stepping thorugh `nn.Conv2d()`"
   ]
  },
  {
   "cell_type": "code",
   "execution_count": 40,
   "id": "36255e7d",
   "metadata": {},
   "outputs": [
    {
     "name": "stdout",
     "output_type": "stream",
     "text": [
      "Image batch shape: torch.Size([32, 3, 64, 64])\n",
      "Single image shape: torch.Size([3, 64, 64])\n",
      "Test image: \n",
      " tensor([[[ 1.9269,  1.4873,  0.9007,  ...,  1.8446, -1.1845,  1.3835],\n",
      "         [ 1.4451,  0.8564,  2.2181,  ...,  0.3399,  0.7200,  0.4114],\n",
      "         [ 1.9312,  1.0119, -1.4364,  ..., -0.5558,  0.7043,  0.7099],\n",
      "         ...,\n",
      "         [-0.5610, -0.4830,  0.4770,  ..., -0.2713, -0.9537, -0.6737],\n",
      "         [ 0.3076, -0.1277,  0.0366,  ..., -2.0060,  0.2824, -0.8111],\n",
      "         [-1.5486,  0.0485, -0.7712,  ..., -0.1403,  0.9416, -0.0118]],\n",
      "\n",
      "        [[-0.5197,  1.8524,  1.8365,  ...,  0.8935, -1.5114, -0.8515],\n",
      "         [ 2.0818,  1.0677, -1.4277,  ...,  1.6612, -2.6223, -0.4319],\n",
      "         [-0.1010, -0.4388, -1.9775,  ...,  0.2106,  0.2536, -0.7318],\n",
      "         ...,\n",
      "         [ 0.2779,  0.7342, -0.3736,  ..., -0.4601,  0.1815,  0.1850],\n",
      "         [ 0.7205, -0.2833,  0.0937,  ..., -0.1002, -2.3609,  2.2465],\n",
      "         [-1.3242, -0.1973,  0.2920,  ...,  0.5409,  0.6940,  1.8563]],\n",
      "\n",
      "        [[-0.7978,  1.0261,  1.1465,  ...,  1.2134,  0.9354, -0.0780],\n",
      "         [-1.4647, -1.9571,  0.1017,  ..., -1.9986, -0.7409,  0.7011],\n",
      "         [-1.3938,  0.8466, -1.7191,  ..., -1.1867,  0.1320,  0.3407],\n",
      "         ...,\n",
      "         [ 0.8206, -0.3745,  1.2499,  ..., -0.0676,  0.0385,  0.6335],\n",
      "         [-0.5589, -0.3393,  0.2347,  ...,  2.1181,  2.4569,  1.3083],\n",
      "         [-0.4092,  1.5199,  0.2401,  ..., -0.2558,  0.7870,  0.9924]]])\n"
     ]
    }
   ],
   "source": [
    "torch.manual_seed(42)\n",
    "\n",
    "# Create a batch of images \n",
    "images = torch.randn(size=(32, 3, 64, 64))\n",
    "test_image = images[0]\n",
    "\n",
    "print(f\"Image batch shape: {images.shape}\")\n",
    "print(f\"Single image shape: {test_image.shape}\")\n",
    "print(f\"Test image: \\n {test_image}\")"
   ]
  },
  {
   "cell_type": "code",
   "execution_count": 41,
   "id": "cc90e8df",
   "metadata": {},
   "outputs": [
    {
     "data": {
      "text/plain": [
       "torch.Size([10, 64, 64])"
      ]
     },
     "execution_count": 41,
     "metadata": {},
     "output_type": "execute_result"
    }
   ],
   "source": [
    "# Create a single conv2d layer\n",
    "conv_layer = nn.Conv2d(in_channels=3,\n",
    "                       out_channels=10,\n",
    "                       kernel_size=(3,3),\n",
    "                       stride=1,\n",
    "                       padding=1)\n",
    "\n",
    "# Pass data through conv layer\n",
    "conv_ouptut = conv_layer(test_image)\n",
    "conv_ouptut.shape"
   ]
  },
  {
   "cell_type": "markdown",
   "id": "ea4b4556",
   "metadata": {},
   "source": [
    "### 7.2 Stepping throguh `nn.MaxPool2d()`"
   ]
  },
  {
   "cell_type": "code",
   "execution_count": 42,
   "id": "5afcacc7",
   "metadata": {},
   "outputs": [
    {
     "data": {
      "text/plain": [
       "torch.Size([3, 64, 64])"
      ]
     },
     "execution_count": 42,
     "metadata": {},
     "output_type": "execute_result"
    }
   ],
   "source": [
    "test_image.shape"
   ]
  },
  {
   "cell_type": "code",
   "execution_count": 43,
   "id": "871d3523",
   "metadata": {},
   "outputs": [
    {
     "name": "stdout",
     "output_type": "stream",
     "text": [
      "Test image original shape: torch.Size([3, 64, 64])\n",
      "Shape after just conv layer: torch.Size([10, 64, 64])\n",
      "Shape after conv layer & MaxPool layer: torch.Size([10, 32, 32])\n"
     ]
    }
   ],
   "source": [
    "# Print out original image shape\n",
    "print(f\"Test image original shape: {test_image.shape}\")\n",
    "\n",
    "# Create a sample of MaxPool2d layer\n",
    "max_pool_layer = nn.MaxPool2d(kernel_size=2)\n",
    "output = conv_layer(test_image)\n",
    "print(f\"Shape after just conv layer: {output.shape}\")\n",
    "output = max_pool_layer(output)\n",
    "print(f\"Shape after conv layer & MaxPool layer: {output.shape}\")"
   ]
  },
  {
   "cell_type": "code",
   "execution_count": 44,
   "id": "72c41b0d",
   "metadata": {},
   "outputs": [
    {
     "name": "stdout",
     "output_type": "stream",
     "text": [
      "Original shape: torch.Size([1, 1, 2, 2])\n",
      "After maxpool: torch.Size([1, 1, 1, 1])\n",
      "\n",
      "Tensor: \n",
      "tensor([[[[0.3367, 0.1288],\n",
      "          [0.2345, 0.2303]]]])\n",
      "After maxpool:\n",
      "tensor([[[[0.3367]]]])\n"
     ]
    }
   ],
   "source": [
    "torch.manual_seed(42)\n",
    "random_tensor = torch.randn(size=(1,1,2,2))\n",
    "\n",
    "# Create MaxPool layer\n",
    "max_pool_layer = nn.MaxPool2d(kernel_size=2)\n",
    "output = max_pool_layer(random_tensor)\n",
    "print(f\"Original shape: {random_tensor.shape}\")\n",
    "print(f\"After maxpool: {output.shape}\")\n",
    "print(f\"\\nTensor: \\n{random_tensor}\\nAfter maxpool:\\n{output}\")"
   ]
  },
  {
   "cell_type": "markdown",
   "id": "daa55574",
   "metadata": {},
   "source": [
    "### 7.3 Setup loss function & optimizer "
   ]
  },
  {
   "cell_type": "code",
   "execution_count": 45,
   "id": "be8ceb68",
   "metadata": {},
   "outputs": [
    {
     "data": {
      "text/plain": [
       "device(type='cuda', index=0)"
      ]
     },
     "execution_count": 45,
     "metadata": {},
     "output_type": "execute_result"
    }
   ],
   "source": [
    "# Loss & optimizer \n",
    "loss_fn = torch.nn.CrossEntropyLoss()\n",
    "optimizer = torch.optim.SGD(params=model_2.parameters(),\n",
    "                            lr=.1)\n",
    "acc_fn = Accuracy(task=\"multiclass\",\n",
    "                  num_classes=len(class_names)).to(device)\n",
    "acc_fn.device"
   ]
  },
  {
   "cell_type": "markdown",
   "id": "304c4006",
   "metadata": {},
   "source": [
    "### 7.4 Trainig and testing `model_2` using our hand-made functions "
   ]
  },
  {
   "cell_type": "code",
   "execution_count": 46,
   "id": "aeb044f4",
   "metadata": {},
   "outputs": [
    {
     "name": "stderr",
     "output_type": "stream",
     "text": [
      "  0%|          | 0/3 [00:00<?, ?it/s]"
     ]
    },
    {
     "name": "stdout",
     "output_type": "stream",
     "text": [
      "Epoch: 0\n",
      "---------\n",
      "Train loss & accuracy: [0.59262,0.79]\n",
      "\n"
     ]
    },
    {
     "name": "stderr",
     "output_type": "stream",
     "text": [
      " 33%|███▎      | 1/3 [00:09<00:19,  9.58s/it]"
     ]
    },
    {
     "name": "stdout",
     "output_type": "stream",
     "text": [
      "Test loss & acc: [0.39824,0.86]\n",
      "\n",
      "Epoch: 1\n",
      "---------\n",
      "Train loss & accuracy: [0.36338,0.87]\n",
      "\n"
     ]
    },
    {
     "name": "stderr",
     "output_type": "stream",
     "text": [
      " 67%|██████▋   | 2/3 [00:18<00:09,  9.03s/it]"
     ]
    },
    {
     "name": "stdout",
     "output_type": "stream",
     "text": [
      "Test loss & acc: [0.35655,0.87]\n",
      "\n",
      "Epoch: 2\n",
      "---------\n",
      "Train loss & accuracy: [0.32383,0.88]\n",
      "\n"
     ]
    },
    {
     "name": "stderr",
     "output_type": "stream",
     "text": [
      "100%|██████████| 3/3 [00:26<00:00,  8.97s/it]"
     ]
    },
    {
     "name": "stdout",
     "output_type": "stream",
     "text": [
      "Test loss & acc: [0.32801,0.88]\n",
      "\n",
      "Train time on cuda: 26.900 seconds\n"
     ]
    },
    {
     "name": "stderr",
     "output_type": "stream",
     "text": [
      "\n"
     ]
    }
   ],
   "source": [
    "torch.manual_seed(42)\n",
    "torch.cuda.manual_seed(42)\n",
    "\n",
    "# Measure time \n",
    "from timeit import default_timer as Timer\n",
    "start_time = timer()\n",
    "\n",
    "# Train & test model \n",
    "epochs = 3\n",
    "for epoch in tqdm(range(epochs)):\n",
    "    print(f\"Epoch: {epoch}\\n---------\")\n",
    "    train_step(model=model_2,\n",
    "               data_loader=train_dataloader,\n",
    "               loss_fn=loss_fn,\n",
    "               optimizer=optimizer,\n",
    "               acc_fn=acc_fn,\n",
    "               device=device)\n",
    "    test_step(model=model_2,\n",
    "              data_loader=test_dataloader,\n",
    "              loss_fn=loss_fn,\n",
    "              acc_fn=acc_fn,\n",
    "              device=device)\n",
    "    \n",
    "end_time = timer()\n",
    "train_time_2 = print_train_time(start=start_time,\n",
    "                              end=end_time,\n",
    "                              device=device)"
   ]
  },
  {
   "cell_type": "code",
   "execution_count": 47,
   "id": "d11eb8a0",
   "metadata": {},
   "outputs": [
    {
     "name": "stderr",
     "output_type": "stream",
     "text": [
      "100%|██████████| 313/313 [00:00<00:00, 615.74it/s]\n"
     ]
    },
    {
     "data": {
      "text/plain": [
       "{'model_name': 'FashionMNISTModelV2',\n",
       " 'model_loss': 0.47663894295692444,\n",
       " 'model_acc': 0.8342651724815369}"
      ]
     },
     "execution_count": 47,
     "metadata": {},
     "output_type": "execute_result"
    }
   ],
   "source": [
    "# Model 2 results \n",
    "model_2_results = eval_model(model=model_2, \n",
    "                             data_loader=test_dataloader,\n",
    "                             acc_fn=acc_fn,\n",
    "                             device=device,\n",
    "                             loss_fn=loss_fn)\n",
    "model_2_results"
   ]
  },
  {
   "cell_type": "markdown",
   "id": "aed743b4",
   "metadata": {},
   "source": [
    "## 8. Compare model results and training time \n"
   ]
  },
  {
   "cell_type": "code",
   "execution_count": 48,
   "id": "ebfaa744",
   "metadata": {},
   "outputs": [
    {
     "data": {
      "text/html": [
       "<div>\n",
       "<style scoped>\n",
       "    .dataframe tbody tr th:only-of-type {\n",
       "        vertical-align: middle;\n",
       "    }\n",
       "\n",
       "    .dataframe tbody tr th {\n",
       "        vertical-align: top;\n",
       "    }\n",
       "\n",
       "    .dataframe thead th {\n",
       "        text-align: right;\n",
       "    }\n",
       "</style>\n",
       "<table border=\"1\" class=\"dataframe\">\n",
       "  <thead>\n",
       "    <tr style=\"text-align: right;\">\n",
       "      <th></th>\n",
       "      <th>model_name</th>\n",
       "      <th>model_loss</th>\n",
       "      <th>model_acc</th>\n",
       "    </tr>\n",
       "  </thead>\n",
       "  <tbody>\n",
       "    <tr>\n",
       "      <th>0</th>\n",
       "      <td>FashionMNISTModelV0</td>\n",
       "      <td>0.476639</td>\n",
       "      <td>0.834265</td>\n",
       "    </tr>\n",
       "    <tr>\n",
       "      <th>1</th>\n",
       "      <td>FashionMNISTModelV1</td>\n",
       "      <td>0.476639</td>\n",
       "      <td>0.834265</td>\n",
       "    </tr>\n",
       "    <tr>\n",
       "      <th>2</th>\n",
       "      <td>FashionMNISTModelV2</td>\n",
       "      <td>0.476639</td>\n",
       "      <td>0.834265</td>\n",
       "    </tr>\n",
       "  </tbody>\n",
       "</table>\n",
       "</div>"
      ],
      "text/plain": [
       "            model_name  model_loss  model_acc\n",
       "0  FashionMNISTModelV0    0.476639   0.834265\n",
       "1  FashionMNISTModelV1    0.476639   0.834265\n",
       "2  FashionMNISTModelV2    0.476639   0.834265"
      ]
     },
     "execution_count": 48,
     "metadata": {},
     "output_type": "execute_result"
    }
   ],
   "source": [
    "import pandas as pd \n",
    "\n",
    "compare_results = pd.DataFrame([model_0_results,\n",
    "                                model_1_results,\n",
    "                                model_2_results])\n",
    "compare_results"
   ]
  },
  {
   "cell_type": "code",
   "execution_count": 49,
   "id": "b6f38adc",
   "metadata": {},
   "outputs": [
    {
     "data": {
      "text/html": [
       "<div>\n",
       "<style scoped>\n",
       "    .dataframe tbody tr th:only-of-type {\n",
       "        vertical-align: middle;\n",
       "    }\n",
       "\n",
       "    .dataframe tbody tr th {\n",
       "        vertical-align: top;\n",
       "    }\n",
       "\n",
       "    .dataframe thead th {\n",
       "        text-align: right;\n",
       "    }\n",
       "</style>\n",
       "<table border=\"1\" class=\"dataframe\">\n",
       "  <thead>\n",
       "    <tr style=\"text-align: right;\">\n",
       "      <th></th>\n",
       "      <th>model_name</th>\n",
       "      <th>model_loss</th>\n",
       "      <th>model_acc</th>\n",
       "      <th>training_time</th>\n",
       "    </tr>\n",
       "  </thead>\n",
       "  <tbody>\n",
       "    <tr>\n",
       "      <th>0</th>\n",
       "      <td>FashionMNISTModelV0</td>\n",
       "      <td>0.476639</td>\n",
       "      <td>0.834265</td>\n",
       "      <td>10.263923</td>\n",
       "    </tr>\n",
       "    <tr>\n",
       "      <th>1</th>\n",
       "      <td>FashionMNISTModelV1</td>\n",
       "      <td>0.476639</td>\n",
       "      <td>0.834265</td>\n",
       "      <td>27.025616</td>\n",
       "    </tr>\n",
       "    <tr>\n",
       "      <th>2</th>\n",
       "      <td>FashionMNISTModelV2</td>\n",
       "      <td>0.476639</td>\n",
       "      <td>0.834265</td>\n",
       "      <td>26.899637</td>\n",
       "    </tr>\n",
       "  </tbody>\n",
       "</table>\n",
       "</div>"
      ],
      "text/plain": [
       "            model_name  model_loss  model_acc  training_time\n",
       "0  FashionMNISTModelV0    0.476639   0.834265      10.263923\n",
       "1  FashionMNISTModelV1    0.476639   0.834265      27.025616\n",
       "2  FashionMNISTModelV2    0.476639   0.834265      26.899637"
      ]
     },
     "execution_count": 49,
     "metadata": {},
     "output_type": "execute_result"
    }
   ],
   "source": [
    "compare_results[\"training_time\"] = [train_time_0,\n",
    "                                    train_time_1,\n",
    "                                    train_time_2]\n",
    "compare_results"
   ]
  },
  {
   "cell_type": "code",
   "execution_count": 50,
   "id": "77c8a668",
   "metadata": {},
   "outputs": [
    {
     "data": {
      "text/plain": [
       "Text(0, 0.5, 'model')"
      ]
     },
     "execution_count": 50,
     "metadata": {},
     "output_type": "execute_result"
    },
    {
     "data": {
      "image/png": "[encoded data removed]",
      "text/plain": [
       "<Figure size 640x480 with 1 Axes>"
      ]
     },
     "metadata": {},
     "output_type": "display_data"
    }
   ],
   "source": [
    "# Visualize our model results \n",
    "compare_results.set_index(\"model_name\")[\"model_acc\"].plot(kind=\"barh\")\n",
    "plt.xlabel(\"accuracy (%)\")\n",
    "plt.ylabel(\"model\")"
   ]
  },
  {
   "cell_type": "markdown",
   "id": "06da07ae",
   "metadata": {},
   "source": [
    "## 9. Make and evaluate random predictions with best model "
   ]
  },
  {
   "cell_type": "code",
   "execution_count": 51,
   "id": "0456530a",
   "metadata": {},
   "outputs": [],
   "source": [
    "# \n",
    "def make_predictions(model: torch.nn.Module,\n",
    "                     data: list,\n",
    "                     device: str = device) -> torch.Tensor:\n",
    "    pred_probs_list = []\n",
    "    model.to(device)\n",
    "    with torch.inference_mode():\n",
    "        model.eval() \n",
    "        for sample in data:\n",
    "            # Prepare the sample \n",
    "            sample = torch.unsqueeze(sample, dim=0).to(device)\n",
    "\n",
    "            # Forward pass (raw logits)\n",
    "            pred_logits = model(sample)\n",
    "            \n",
    "            # Get probs (logits -> probs)\n",
    "            pred_prob = torch.softmax(pred_logits.squeeze(), dim=0)\n",
    "            \n",
    "            # Get pred_prob off gpu \n",
    "            pred_probs_list.append(pred_prob.cpu())\n",
    "            \n",
    "    # Stack the pred_probs to turn list into tensor \n",
    "    return torch.stack(pred_probs_list)        "
   ]
  },
  {
   "cell_type": "code",
   "execution_count": 52,
   "id": "2b070630",
   "metadata": {},
   "outputs": [
    {
     "data": {
      "text/plain": [
       "torch.Size([1, 28, 28])"
      ]
     },
     "execution_count": 52,
     "metadata": {},
     "output_type": "execute_result"
    }
   ],
   "source": [
    "import random\n",
    "#random.seed(42)\n",
    "test_samples = []\n",
    "test_labels = []\n",
    "\n",
    "for sample, label in random.sample(list(test_data), k=9):\n",
    "    test_samples.append(sample)\n",
    "    test_labels.append(label)\n",
    "    \n",
    "# View first sample shape \n",
    "test_samples[0].shape"
   ]
  },
  {
   "cell_type": "code",
   "execution_count": 53,
   "id": "a06206c9",
   "metadata": {},
   "outputs": [
    {
     "data": {
      "text/plain": [
       "Text(0.5, 1.0, 'Sandal')"
      ]
     },
     "execution_count": 53,
     "metadata": {},
     "output_type": "execute_result"
    },
    {
     "data": {
      "image/png": "[encoded data removed]",
      "text/plain": [
       "<Figure size 640x480 with 1 Axes>"
      ]
     },
     "metadata": {},
     "output_type": "display_data"
    }
   ],
   "source": [
    "plt.imshow(test_samples[0].squeeze())\n",
    "plt.title(class_names[test_labels[0]])"
   ]
  },
  {
   "cell_type": "code",
   "execution_count": 54,
   "id": "e5a23ed4",
   "metadata": {},
   "outputs": [
    {
     "data": {
      "text/plain": [
       "(tensor([5, 4, 1, 2, 6, 9, 4, 6, 3]), [5, 3, 1, 2, 6, 9, 4, 2, 3])"
      ]
     },
     "execution_count": 54,
     "metadata": {},
     "output_type": "execute_result"
    }
   ],
   "source": [
    "# Make predictions \n",
    "pred_probs = make_predictions(model = model_2,\n",
    "                              data=test_samples)\n",
    "\n",
    "# View first \n",
    "pred_classes = pred_probs.argmax(dim=1)\n",
    "pred_classes, test_labels"
   ]
  },
  {
   "cell_type": "code",
   "execution_count": 55,
   "id": "c9f62a38",
   "metadata": {},
   "outputs": [
    {
     "data": {
      "image/png": "[encoded data removed]",
      "text/plain": [
       "<Figure size 900x900 with 9 Axes>"
      ]
     },
     "metadata": {},
     "output_type": "display_data"
    }
   ],
   "source": [
    "# Plot predictions \n",
    "plt.figure(figsize=(9, 9))\n",
    "nrows = 3\n",
    "ncols = 3\n",
    "for i, sample in enumerate(test_samples):\n",
    "    plt.subplot(nrows, ncols, i+1)\n",
    "    \n",
    "    # Plot target image\n",
    "    plt.imshow(sample.squeeze())\n",
    "    \n",
    "    # Find predictions label in text form \n",
    "    pred_label = class_names[pred_classes[i]]\n",
    "    \n",
    "    # Get truth label\n",
    "    truth_label = class_names[test_labels[i]]\n",
    "    \n",
    "    # Create title \n",
    "    title_text = f\"Pred: {pred_label} | Truth: {truth_label}\"\n",
    "    \n",
    "    # Check equiality between pred and real label \n",
    "    if pred_label == truth_label:\n",
    "        plt.title(title_text, fontsize=10, c=\"g\")\n",
    "    else:\n",
    "        plt.title(title_text, fontsize=10, c=\"r\")\n",
    "    plt.axis(False)\n",
    "plt.show()"
   ]
  },
  {
   "cell_type": "markdown",
   "id": "3041446e",
   "metadata": {},
   "source": [
    "## 10. Making a confusion matrix for further prediction evaluation \n",
    "\n",
    "1. Make predictions with our tranining model on the test dataset \n",
    "2. Make a confusion matrix `torchmetrics.ConfusionMatrix`\n",
    "3. Plot the confusion matrix using `mlxtend.plotting.plot_confusion_matrix()`"
   ]
  },
  {
   "cell_type": "code",
   "execution_count": 56,
   "id": "d9635aff",
   "metadata": {},
   "outputs": [
    {
     "name": "stderr",
     "output_type": "stream",
     "text": [
      "Making predictions...: 100%|██████████| 313/313 [00:00<00:00, 583.91it/s]\n"
     ]
    },
    {
     "data": {
      "text/plain": [
       "tensor([9, 2, 1, 1, 6, 1, 4, 6, 5, 7])"
      ]
     },
     "execution_count": 56,
     "metadata": {},
     "output_type": "execute_result"
    }
   ],
   "source": [
    "torch.manual_seed(42)\n",
    "# 1. Make predictions with trained model\n",
    "y_preds = []\n",
    "y_labels = []\n",
    "with torch.inference_mode():\n",
    "    model_2.eval()\n",
    "    \n",
    "    for X, y in tqdm(test_dataloader, desc=\"Making predictions...\"):\n",
    "        X, y = X.to(device), y.to(device)\n",
    "        # Forward pass\n",
    "        y_logits = model_2(X)\n",
    "        \n",
    "        # Logits -> Probs -> Labels\n",
    "        y_pred = y_logits.squeeze().argmax(dim=1) # softmax here is actually useless\n",
    "        \n",
    "        # Put pred on CPU for evaluation \n",
    "        y_preds.append(y_pred.cpu())\n",
    "        \n",
    "# Concatenate list of predictions \n",
    "#print(y_preds)\n",
    "y_pred_tensor = torch.cat(y_preds)\n",
    "y_pred_tensor[:10]\n",
    "    "
   ]
  },
  {
   "cell_type": "code",
   "execution_count": 57,
   "id": "5f374a46",
   "metadata": {},
   "outputs": [
    {
     "data": {
      "image/png": "[encoded data removed]",
      "text/plain": [
       "<Figure size 1000x700 with 1 Axes>"
      ]
     },
     "metadata": {},
     "output_type": "display_data"
    }
   ],
   "source": [
    "from torchmetrics import ConfusionMatrix \n",
    "from mlxtend.plotting import plot_confusion_matrix \n",
    "\n",
    "# 2. Setup confusion matrix and compare predictions to targets\n",
    "conf_mat = ConfusionMatrix(num_classes=len(class_names),  task=\"multiclass\")\n",
    "conf_mat_tensor = conf_mat(preds=y_pred_tensor,\n",
    "                           target=test_data.targets)\n",
    "\n",
    "# 3. Plot the confusion matrix \n",
    "fig, ax = plot_confusion_matrix(\n",
    "    conf_mat=conf_mat_tensor.numpy(),\n",
    "    class_names=class_names,\n",
    "    figsize=(10,7)\n",
    ")\n",
    "plt.show()"
   ]
  },
  {
   "cell_type": "markdown",
   "id": "e8dc4813",
   "metadata": {},
   "source": [
    "## 11. Save and load best performing model "
   ]
  },
  {
   "cell_type": "code",
   "execution_count": 59,
   "id": "e50fab56",
   "metadata": {},
   "outputs": [
    {
     "name": "stdout",
     "output_type": "stream",
     "text": [
      "Saving model to: ./models/03_pytorch_computer_vision_model_2.pth\n"
     ]
    }
   ],
   "source": [
    "# Path\n",
    "MODEL_PATH = \"./models/03_pytorch_computer_vision_model_2.pth\" \n",
    "print(f\"Saving model to: {MODEL_PATH}\")\n",
    "torch.save(obj=model_2.state_dict(),\n",
    "           f=MODEL_PATH)\n"
   ]
  },
  {
   "cell_type": "code",
   "execution_count": 60,
   "id": "1e605391",
   "metadata": {},
   "outputs": [
    {
     "data": {
      "text/plain": [
       "FashionMNISTModelV2(\n",
       "  (conv_block_1): Sequential(\n",
       "    (0): Conv2d(1, 10, kernel_size=(3, 3), stride=(1, 1), padding=(1, 1))\n",
       "    (1): ReLU()\n",
       "    (2): Conv2d(10, 10, kernel_size=(3, 3), stride=(1, 1), padding=(1, 1))\n",
       "    (3): ReLU()\n",
       "    (4): MaxPool2d(kernel_size=2, stride=2, padding=0, dilation=1, ceil_mode=False)\n",
       "  )\n",
       "  (conv_block_2): Sequential(\n",
       "    (0): Conv2d(10, 10, kernel_size=(3, 3), stride=(1, 1), padding=(1, 1))\n",
       "    (1): ReLU()\n",
       "    (2): Conv2d(10, 10, kernel_size=(3, 3), stride=(1, 1), padding=(1, 1))\n",
       "    (3): ReLU()\n",
       "    (4): MaxPool2d(kernel_size=2, stride=2, padding=0, dilation=1, ceil_mode=False)\n",
       "  )\n",
       "  (classifier): Sequential(\n",
       "    (0): Flatten(start_dim=1, end_dim=-1)\n",
       "    (1): Linear(in_features=490, out_features=10, bias=True)\n",
       "  )\n",
       ")"
      ]
     },
     "execution_count": 60,
     "metadata": {},
     "output_type": "execute_result"
    }
   ],
   "source": [
    "# Create a new instance of our model\n",
    "torch.manual_seed(42)\n",
    "\n",
    "loaded_model = FashionMNISTModelV2(\n",
    "    input_shape=1,\n",
    "    hidden_units=10,\n",
    "    output_shape=len(class_names)\n",
    ")\n",
    "\n",
    "# Load state dict \n",
    "loaded_model.load_state_dict(torch.load(f=MODEL_PATH))\n",
    "loaded_model = loaded_model.to(device)\n",
    "loaded_model\n"
   ]
  },
  {
   "cell_type": "code",
   "execution_count": 66,
   "id": "5c4c447f",
   "metadata": {},
   "outputs": [
    {
     "name": "stderr",
     "output_type": "stream",
     "text": [
      "100%|██████████| 313/313 [00:01<00:00, 216.30it/s]\n"
     ]
    },
    {
     "data": {
      "text/plain": [
       "{'model_name': 'FashionMNISTModelV2',\n",
       " 'model_loss': 0.47663894295692444,\n",
       " 'model_acc': 0.8342651724815369}"
      ]
     },
     "execution_count": 66,
     "metadata": {},
     "output_type": "execute_result"
    }
   ],
   "source": [
    "# Evaluate loaded model \n",
    "torch.manual_seed(42)\n",
    "\n",
    "loaded_model_results = eval_model(model=loaded_model,\n",
    "                                  data_loader=test_dataloader,\n",
    "                                  loss_fn=loss_fn,\n",
    "                                  device=device,\n",
    "                                  acc_fn=acc_fn)\n",
    "loaded_model_results"
   ]
  },
  {
   "cell_type": "code",
   "execution_count": 77,
   "id": "6eb5e009",
   "metadata": {},
   "outputs": [
    {
     "data": {
      "text/plain": [
       "tensor(True)"
      ]
     },
     "execution_count": 77,
     "metadata": {},
     "output_type": "execute_result"
    }
   ],
   "source": [
    "# Check if model results are close to each other \n",
    "torch.isclose(torch.tensor(model_2_results[\"model_loss\"]),\n",
    "              torch.tensor(loaded_model_results[\"model_loss\"]),\n",
    "              atol=1e-02)"
   ]
  }
 ],
 "metadata": {
  "kernelspec": {
   "display_name": "pytorch.env",
   "language": "python",
   "name": "python3"
  },
  "language_info": {
   "codemirror_mode": {
    "name": "ipython",
    "version": 3
   },
   "file_extension": ".py",
   "mimetype": "text/x-python",
   "name": "python",
   "nbconvert_exporter": "python",
   "pygments_lexer": "ipython3",
   "version": "3.8.13"
  }
 },
 "nbformat": 4,
 "nbformat_minor": 5
}
