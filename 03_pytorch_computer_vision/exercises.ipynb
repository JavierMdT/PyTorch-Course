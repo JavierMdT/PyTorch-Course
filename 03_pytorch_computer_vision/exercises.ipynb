{
 "cells": [
  {
   "cell_type": "markdown",
   "id": "aa199496",
   "metadata": {},
   "source": [
    "# Exercises & extra-curricular"
   ]
  },
  {
   "cell_type": "code",
   "execution_count": null,
   "id": "e1b4421e",
   "metadata": {},
   "outputs": [
    {
     "name": "stdout",
     "output_type": "stream",
     "text": [
      "PyTorch & cuda version: 1.13.1+cu117\n",
      "Device in use: cuda\n"
     ]
    }
   ],
   "source": [
    "# Device agnostic-code\n",
    "import torch\n",
    "\n",
    "device = \"cuda\" if torch.cuda.is_available() else \"cpu\"\n",
    "\n",
    "print(f\"PyTorch & cuda version: {torch.__version__}\")\n",
    "print(f\"Device in use: {device}\")\n",
    "\n",
    "\n"
   ]
  },
  {
   "cell_type": "markdown",
   "id": "ec8c21e0",
   "metadata": {},
   "source": [
    "#### **1.** What are 3 areas in industry where computer vision is currently being used\n",
    "\n",
    "In security cameras to detect intruders, in factory cameras to search defective products and in self-driving cars.\n",
    "\n"
   ]
  },
  {
   "cell_type": "markdown",
   "id": "69abf59d",
   "metadata": {},
   "source": [
    "#### **2.** Search \"what is overfitting in machine learning\" and write down a sentence about what you find.\n",
    "\n",
    "Overfitting refers to models that memorize the training data, losing the ability to generalizing in unseen data. This is why we use another subset to evaluate the model, to find if the model is overfitting."
   ]
  },
  {
   "cell_type": "markdown",
   "id": "01d9a895",
   "metadata": {},
   "source": [
    "#### **3.** Search \"ways to prevent overfitting in machine learning\", write down 3 of the things you find and a sentence about each. Note: there are lots of these, so don't worry too much about all of them, just pick 3 and start with those.\n",
    "\n",
    "1. L1 & L2 regularization: These two concepts referes to regularization of the weights, which means not letting them to grow a lot, by adding an extra module to the loss function. If weights go high, loss will go too, so the algorithm is \"forced\" to mantain the weights in a not so big scale. It's like a trade off, we could say that the loss function is saying to the aloritm \"hey, if you want to grow some weight, it must be worth it, because now it has a cost\". For one hand, L2 works also like a feature selection because it usually throw weights to zero and, by the other hand, L1 just regularize, but better. It's also nice to metion that exist a regularization that combines this two: elastic-net.\n",
    "\n",
    "2. Dropout: for every weights update, every layer that has at the end a `nn.Dropout()` will get it's output modified by a binary mask that, by a probability *p*, it will or scale the output by *1/(1-p)* (neuron on & scaled) or multiplied by zero (neuron off), and this happens **by neuron**, not by layer. This makes the network generalize much better, because in every iteration a \"different neural network\" is getting train, forcing it to don't relay in the same neurons all the time. \n",
    "\n",
    "3. Early stopping: This is an easy method. The idea is just stopping the model when it learns the general pattern, because after that it will be trying predict better in train data, which will end, if the model can, in overfitting. "
   ]
  },
  {
   "cell_type": "markdown",
   "id": "780a7514",
   "metadata": {},
   "source": [
    "#### **4.** Spend 20-minutes reading and clicking through the CNN Explainer website.\n",
    "\n",
    "Upload your own example image using the \"upload\" button and see what happens in each layer of a CNN as your image passes through it."
   ]
  },
  {
   "cell_type": "markdown",
   "id": "ccc6d71a",
   "metadata": {},
   "source": [
    "#### **5.** Load the torchvision.datasets.MNIST() train and test datasets."
   ]
  },
  {
   "cell_type": "code",
   "execution_count": 12,
   "id": "2c154749",
   "metadata": {},
   "outputs": [],
   "source": [
    "import torchvision\n",
    "\n",
    "train_dataset = torchvision.datasets.MNIST(\n",
    "    root=\"exercises.data\",\n",
    "    train=True,\n",
    "    transform=torchvision.transforms.ToTensor(),\n",
    "    download=True\n",
    ")\n",
    "\n",
    "\n",
    "test_dataset = torchvision.datasets.MNIST(\n",
    "    root=\"exercises.data\",\n",
    "    train=False,\n",
    "    transform=torchvision.transforms.ToTensor(),\n",
    "    download=True\n",
    ")"
   ]
  },
  {
   "cell_type": "code",
   "execution_count": 14,
   "id": "807fd538",
   "metadata": {},
   "outputs": [
    {
     "data": {
      "text/plain": [
       "(10000, 60000)"
      ]
     },
     "execution_count": 14,
     "metadata": {},
     "output_type": "execute_result"
    }
   ],
   "source": [
    "len(test_dataset), len(train_dataset)"
   ]
  },
  {
   "cell_type": "code",
   "execution_count": 22,
   "id": "03b0350e",
   "metadata": {},
   "outputs": [
    {
     "data": {
      "text/plain": [
       "'2 - two'"
      ]
     },
     "execution_count": 22,
     "metadata": {},
     "output_type": "execute_result"
    }
   ],
   "source": [
    "class_names = train_dataset.classes\n",
    "class_names[2]"
   ]
  },
  {
   "cell_type": "markdown",
   "id": "32ab4fe7",
   "metadata": {},
   "source": [
    "#### **6.** Visualize at least 5 different samples of the MNIST training dataset. "
   ]
  },
  {
   "cell_type": "code",
   "execution_count": 43,
   "id": "0a7fd26d",
   "metadata": {},
   "outputs": [
    {
     "data": {
      "image/png": "[encoded data removed]",
      "text/plain": [
       "<Figure size 1000x700 with 5 Axes>"
      ]
     },
     "metadata": {},
     "output_type": "display_data"
    }
   ],
   "source": [
    "import matplotlib.pyplot as plt \n",
    "torch.manual_seed(42)\n",
    "nrows = 1\n",
    "ncols = 5\n",
    "fig = plt.figure(figsize=(10,7))\n",
    "\n",
    "for i in range(5):\n",
    "    rand_idx = torch.randint(low=0, high=len(train_dataset), size=[1]).item()\n",
    "    image, label = train_dataset[rand_idx]\n",
    "    fig.add_subplot(nrows, ncols, i+1)\n",
    "    plt.imshow(image.squeeze())\n",
    "    plt.axis(False)\n",
    "    plt.title(class_names[label])\n",
    "    \n"
   ]
  },
  {
   "cell_type": "markdown",
   "id": "06f2f924",
   "metadata": {},
   "source": [
    "#### **7.** Turn the MNIST train and test datasets into dataloaders using torch.utils.data.DataLoader, set the batch_size=32."
   ]
  },
  {
   "cell_type": "code",
   "execution_count": 47,
   "id": "73505dab",
   "metadata": {},
   "outputs": [
    {
     "data": {
      "text/plain": [
       "(<torch.utils.data.dataloader.DataLoader at 0x726b00873ac0>,\n",
       " <torch.utils.data.dataloader.DataLoader at 0x726b00873fd0>)"
      ]
     },
     "execution_count": 47,
     "metadata": {},
     "output_type": "execute_result"
    }
   ],
   "source": [
    "# Turn the datasets into dataloaders \n",
    "from torch.utils.data import DataLoader\n",
    "train_dataloader = DataLoader(dataset=train_dataset,\n",
    "                              batch_size=32,\n",
    "                              shuffle=True)\n",
    "test_dataloader = DataLoader(dataset=test_dataset,\n",
    "                              batch_size=32,\n",
    "                              shuffle=False)\n",
    "train_dataloader, test_dataloader"
   ]
  },
  {
   "cell_type": "markdown",
   "id": "08202b99",
   "metadata": {},
   "source": [
    "#### **8.** Recreate model_2 used in this notebook (the same model from the CNN Explainer website, also known as TinyVGG) capable of fitting on the MNIST dataset. "
   ]
  },
  {
   "cell_type": "code",
   "execution_count": null,
   "id": "6dc848d6",
   "metadata": {},
   "outputs": [],
   "source": [
    "from torch import nn\n",
    "\n",
    "class NumberClassification(nn.Module):\n",
    "    def __init__(self,\n",
    "                 input_features:int,\n",
    "                 output_features:int,\n",
    "                 hidden_layers:int) -> None:\n",
    "        super().__init__()\n",
    "    \n",
    "        # FEATURE SELECTION\n",
    "        self.conv_block_1 = nn.Sequential()\n",
    "        \n",
    "        self.conv_block_2 = nn.Sequential()\n",
    "\n",
    "        # CLASSIFICATION \n",
    "        self.classifier = nn.Sequential()\n",
    "        \n",
    "    \n",
    "    def forward(self,\n",
    "                x:torch.Tensor) -> torch.Tensor:\n",
    "        return self.classifier(self.conv_block_2(self.conv_block_1(x)))"
   ]
  },
  {
   "cell_type": "markdown",
   "id": "4d8ce525",
   "metadata": {},
   "source": [
    "#### **1.** "
   ]
  },
  {
   "cell_type": "markdown",
   "id": "da74bf74",
   "metadata": {},
   "source": [
    "#### **1.** "
   ]
  },
  {
   "cell_type": "markdown",
   "id": "1c2b6397",
   "metadata": {},
   "source": [
    "#### **1.** "
   ]
  },
  {
   "cell_type": "markdown",
   "id": "09bf309b",
   "metadata": {},
   "source": [
    "#### **1.** "
   ]
  },
  {
   "cell_type": "markdown",
   "id": "033ff45b",
   "metadata": {},
   "source": [
    "#### **1.** "
   ]
  }
 ],
 "metadata": {
  "kernelspec": {
   "display_name": "pytorch.env",
   "language": "python",
   "name": "python3"
  },
  "language_info": {
   "codemirror_mode": {
    "name": "ipython",
    "version": 3
   },
   "file_extension": ".py",
   "mimetype": "text/x-python",
   "name": "python",
   "nbconvert_exporter": "python",
   "pygments_lexer": "ipython3",
   "version": "3.8.13"
  }
 },
 "nbformat": 4,
 "nbformat_minor": 5
}
