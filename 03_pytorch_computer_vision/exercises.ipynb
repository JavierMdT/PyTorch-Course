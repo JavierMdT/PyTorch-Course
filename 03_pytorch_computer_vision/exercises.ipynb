{
 "cells": [
  {
   "cell_type": "markdown",
   "id": "aa199496",
   "metadata": {},
   "source": [
    "# Exercises & extra-curricular"
   ]
  },
  {
   "cell_type": "code",
   "execution_count": 1,
   "id": "e1b4421e",
   "metadata": {},
   "outputs": [
    {
     "name": "stderr",
     "output_type": "stream",
     "text": [
      "/home/jvier/PyTorch-Course/pytorch.env/lib/python3.8/site-packages/tqdm/auto.py:21: TqdmWarning: IProgress not found. Please update jupyter and ipywidgets. See https://ipywidgets.readthedocs.io/en/stable/user_install.html\n",
      "  from .autonotebook import tqdm as notebook_tqdm\n"
     ]
    },
    {
     "name": "stdout",
     "output_type": "stream",
     "text": [
      "PyTorch & cuda version: 1.13.1+cu117\n",
      "Device in use: cuda\n"
     ]
    }
   ],
   "source": [
    "# Device agnostic-code\n",
    "import torch\n",
    "import sys \n",
    "sys.path.insert(0,\"/home/jvier/PyTorch-Course\")\n",
    "from extra_functions import print_progress\n",
    "from extra_functions import plot_pred_images\n",
    "\n",
    "device = \"cuda\" if torch.cuda.is_available() else \"cpu\"\n",
    "\n",
    "print(f\"PyTorch & cuda version: {torch.__version__}\")\n",
    "print(f\"Device in use: {device}\")\n",
    "\n",
    "\n"
   ]
  },
  {
   "cell_type": "markdown",
   "id": "ec8c21e0",
   "metadata": {},
   "source": [
    "#### **1.** What are 3 areas in industry where computer vision is currently being used\n",
    "\n",
    "In security cameras to detect intruders, in factory cameras to search defective products and in self-driving cars.\n",
    "\n"
   ]
  },
  {
   "cell_type": "markdown",
   "id": "69abf59d",
   "metadata": {},
   "source": [
    "#### **2.** Search \"what is overfitting in machine learning\" and write down a sentence about what you find.\n",
    "\n",
    "Overfitting refers to models that memorize the training data, losing the ability to generalizing in unseen data. This is why we use another subset to evaluate the model, to find if the model is overfitting."
   ]
  },
  {
   "cell_type": "markdown",
   "id": "01d9a895",
   "metadata": {},
   "source": [
    "#### **3.** Search \"ways to prevent overfitting in machine learning\", write down 3 of the things you find and a sentence about each. Note: there are lots of these, so don't worry too much about all of them, just pick 3 and start with those.\n",
    "\n",
    "1. L1 & L2 regularization: These two concepts referes to regularization of the weights, which means not letting them to grow a lot, by adding an extra module to the loss function. If weights go high, loss will go too, so the algorithm is \"forced\" to mantain the weights in a not so big scale. It's like a trade off, we could say that the loss function is saying to the aloritm \"hey, if you want to grow some weight, it must be worth it, because now it has a cost\". For one hand, L2 works also like a feature selection because it usually throw weights to zero and, by the other hand, L1 just regularize, but better. It's also nice to metion that exist a regularization that combines this two: elastic-net.\n",
    "\n",
    "2. Dropout: for every weights update, every layer that has at the end a `nn.Dropout()` will get it's output modified by a binary mask that, by a probability *p*, it will or scale the output by *1/(1-p)* (neuron on & scaled) or multiplied by zero (neuron off), and this happens **by neuron**, not by layer. This makes the network generalize much better, because in every iteration a \"different neural network\" is getting train, forcing it to don't relay in the same neurons all the time. \n",
    "\n",
    "3. Early stopping: This is an easy method. The idea is just stopping the model when it learns the general pattern, because after that it will be trying predict better in train data, which will end, if the model can, in overfitting. "
   ]
  },
  {
   "cell_type": "markdown",
   "id": "780a7514",
   "metadata": {},
   "source": [
    "#### **4.** Spend 20-minutes reading and clicking through the CNN Explainer website.\n",
    "\n",
    "Upload your own example image using the \"upload\" button and see what happens in each layer of a CNN as your image passes through it."
   ]
  },
  {
   "cell_type": "markdown",
   "id": "ccc6d71a",
   "metadata": {},
   "source": [
    "#### **5.** Load the torchvision.datasets.MNIST() train and test datasets."
   ]
  },
  {
   "cell_type": "code",
   "execution_count": 2,
   "id": "2c154749",
   "metadata": {},
   "outputs": [],
   "source": [
    "import torchvision\n",
    "\n",
    "train_dataset = torchvision.datasets.MNIST(\n",
    "    root=\"exercises.data\",\n",
    "    train=True,\n",
    "    transform=torchvision.transforms.ToTensor(),\n",
    "    download=True\n",
    ")\n",
    "\n",
    "\n",
    "test_dataset = torchvision.datasets.MNIST(\n",
    "    root=\"exercises.data\",\n",
    "    train=False,\n",
    "    transform=torchvision.transforms.ToTensor(),\n",
    "    download=True\n",
    ")"
   ]
  },
  {
   "cell_type": "code",
   "execution_count": 3,
   "id": "807fd538",
   "metadata": {},
   "outputs": [
    {
     "data": {
      "text/plain": [
       "(10000, 60000)"
      ]
     },
     "execution_count": 3,
     "metadata": {},
     "output_type": "execute_result"
    }
   ],
   "source": [
    "len(test_dataset), len(train_dataset)"
   ]
  },
  {
   "cell_type": "code",
   "execution_count": 4,
   "id": "03b0350e",
   "metadata": {},
   "outputs": [
    {
     "data": {
      "text/plain": [
       "('2 - two', 10)"
      ]
     },
     "execution_count": 4,
     "metadata": {},
     "output_type": "execute_result"
    }
   ],
   "source": [
    "class_names = train_dataset.classes\n",
    "n_classes = len(class_names)\n",
    "class_names[2], n_classes"
   ]
  },
  {
   "cell_type": "markdown",
   "id": "32ab4fe7",
   "metadata": {},
   "source": [
    "#### **6.** Visualize at least 5 different samples of the MNIST training dataset. "
   ]
  },
  {
   "cell_type": "code",
   "execution_count": 5,
   "id": "0a7fd26d",
   "metadata": {},
   "outputs": [
    {
     "data": {
      "image/png": "[encoded data removed]",
      "text/plain": [
       "<Figure size 1000x700 with 5 Axes>"
      ]
     },
     "metadata": {},
     "output_type": "display_data"
    }
   ],
   "source": [
    "import matplotlib.pyplot as plt \n",
    "torch.manual_seed(42)\n",
    "nrows = 1\n",
    "ncols = 5\n",
    "fig = plt.figure(figsize=(10,7))\n",
    "\n",
    "for i in range(5):\n",
    "    rand_idx = torch.randint(low=0, high=len(train_dataset), size=[1]).item()\n",
    "    image, label = train_dataset[rand_idx]\n",
    "    fig.add_subplot(nrows, ncols, i+1)\n",
    "    plt.imshow(image.squeeze())\n",
    "    plt.axis(False)\n",
    "    plt.title(class_names[label])\n",
    "    \n"
   ]
  },
  {
   "cell_type": "code",
   "execution_count": 6,
   "id": "cc49a132",
   "metadata": {},
   "outputs": [
    {
     "data": {
      "text/plain": [
       "torch.Size([1, 28, 28])"
      ]
     },
     "execution_count": 6,
     "metadata": {},
     "output_type": "execute_result"
    }
   ],
   "source": [
    "image.shape"
   ]
  },
  {
   "cell_type": "markdown",
   "id": "06f2f924",
   "metadata": {},
   "source": [
    "#### **7.** Turn the MNIST train and test datasets into dataloaders using torch.utils.data.DataLoader, set the batch_size=32."
   ]
  },
  {
   "cell_type": "code",
   "execution_count": 7,
   "id": "73505dab",
   "metadata": {},
   "outputs": [
    {
     "data": {
      "text/plain": [
       "(<torch.utils.data.dataloader.DataLoader at 0x71ac3c0daca0>,\n",
       " <torch.utils.data.dataloader.DataLoader at 0x71ac3c0dad00>)"
      ]
     },
     "execution_count": 7,
     "metadata": {},
     "output_type": "execute_result"
    }
   ],
   "source": [
    "# Turn the datasets into dataloaders \n",
    "from torch.utils.data import DataLoader\n",
    "train_dataloader = DataLoader(dataset=train_dataset,\n",
    "                              batch_size=32,\n",
    "                              shuffle=True)\n",
    "test_dataloader = DataLoader(dataset=test_dataset,\n",
    "                              batch_size=32,\n",
    "                              shuffle=False)\n",
    "train_dataloader, test_dataloader"
   ]
  },
  {
   "cell_type": "markdown",
   "id": "08202b99",
   "metadata": {},
   "source": [
    "#### **8.** Recreate model_2 used in this notebook (the same model from the CNN Explainer website, also known as TinyVGG) capable of fitting on the MNIST dataset. "
   ]
  },
  {
   "cell_type": "code",
   "execution_count": 8,
   "id": "6dc848d6",
   "metadata": {},
   "outputs": [],
   "source": [
    "from torch import nn\n",
    "\n",
    "class NumberClassification(nn.Module):\n",
    "    def __init__(self,\n",
    "                 input_channels:int,\n",
    "                 output_shape:int,\n",
    "                 hidden_units:int,\n",
    "                 stride: int = 1,\n",
    "                 padding: int = 0,\n",
    "                 kernel_size: tuple = (3,3),\n",
    "                 maxpool_kernel_size: tuple = (2,2)) -> None:\n",
    "        \n",
    "        super().__init__()\n",
    "    \n",
    "        # FEATURE SELECTION\n",
    "        self.conv_block_1 = nn.Sequential(\n",
    "            nn.Conv2d(in_channels=input_channels,\n",
    "                      out_channels=hidden_units,\n",
    "                      kernel_size=kernel_size,\n",
    "                      stride=stride,\n",
    "                      padding=padding),\n",
    "            nn.ReLU(),\n",
    "            nn.Conv2d(in_channels=hidden_units,\n",
    "                      out_channels=hidden_units,\n",
    "                      kernel_size=(3,3),\n",
    "                      stride=1,\n",
    "                      padding=0),\n",
    "            nn.ReLU(),\n",
    "            nn.MaxPool2d(kernel_size=maxpool_kernel_size)\n",
    "        )\n",
    "        \n",
    "        self.conv_block_2 = nn.Sequential(\n",
    "            nn.Conv2d(in_channels=hidden_units,\n",
    "                      out_channels=hidden_units,\n",
    "                      kernel_size=kernel_size,\n",
    "                      stride=stride,\n",
    "                      padding=padding),\n",
    "            nn.ReLU(),\n",
    "            nn.Conv2d(in_channels=hidden_units,\n",
    "                      out_channels=hidden_units,\n",
    "                      stride=stride,\n",
    "                      padding=padding,\n",
    "                      kernel_size=kernel_size),\n",
    "            nn.MaxPool2d(kernel_size=maxpool_kernel_size)\n",
    "        )\n",
    "\n",
    "        # CLASSIFICATION \n",
    "        self.classifier = nn.Sequential(\n",
    "            nn.Flatten(),\n",
    "            nn.Linear(in_features=hidden_units * 4 * 4,  \n",
    "                      out_features=output_shape) \n",
    "        )\n",
    "        \n",
    "    \n",
    "    def forward(self,\n",
    "                x:torch.Tensor) -> torch.Tensor:\n",
    "        \n",
    "        if (False): # This is just for finding the output shape of the flatten layer \n",
    "            x = self.conv_block_1(x) \n",
    "            print(f\"Shape after first conv block: {x.shape}\")\n",
    "            x = self.conv_block_2(x)\n",
    "            print(f\"Shape afeter second conv block: {x.shape}\")\n",
    "            x = self.classifier(x)\n",
    "            print(f\"Shape after classification: {x.shape}\")\n",
    "            return x \n",
    "        else: # This is the normal way of inference\n",
    "            return self.classifier(self.conv_block_2(self.conv_block_1(x)))"
   ]
  },
  {
   "cell_type": "code",
   "execution_count": 9,
   "id": "c5ea1983",
   "metadata": {},
   "outputs": [
    {
     "data": {
      "text/plain": [
       "tensor([[ 0.0229,  0.0016,  0.0167,  0.0581,  0.0744,  0.0169,  0.1171, -0.0010,\n",
       "         -0.0415, -0.0071]], device='cuda:0', grad_fn=<AddmmBackward0>)"
      ]
     },
     "execution_count": 9,
     "metadata": {},
     "output_type": "execute_result"
    }
   ],
   "source": [
    "# Make a prediction to find the outputshape of the flatten\n",
    "tmp = NumberClassification(input_channels=1,\n",
    "                           hidden_units=10,\n",
    "                           output_shape=n_classes).to(device)\n",
    "tmp(torch.randn(size=(1, 28, 28)).to(device).unsqueeze(dim=0))"
   ]
  },
  {
   "cell_type": "markdown",
   "id": "4d8ce525",
   "metadata": {},
   "source": [
    "#### **9.** Train the model you built in exercise 8. on CPU and GPU and see how long it takes on each."
   ]
  },
  {
   "cell_type": "code",
   "execution_count": 10,
   "id": "384d87f5",
   "metadata": {},
   "outputs": [],
   "source": [
    "from timeit import default_timer as timer \n",
    "from torchmetrics import Accuracy\n",
    "\n",
    "model_cpu = NumberClassification(input_channels=1,\n",
    "                                 output_shape=n_classes,\n",
    "                                 hidden_units=10).to(\"cpu\")\n",
    "model_gpu = NumberClassification(input_channels=1,\n",
    "                                 output_shape=n_classes,\n",
    "                                 hidden_units=10).to(\"cuda\")"
   ]
  },
  {
   "cell_type": "code",
   "execution_count": 11,
   "id": "ffb37d08",
   "metadata": {},
   "outputs": [],
   "source": [
    "# Loss & optim\n",
    "loss_fn = torch.nn.CrossEntropyLoss()\n",
    "optimizer_cpu = torch.optim.SGD(params=model_cpu.parameters(),\n",
    "                            lr=.1)\n",
    "optimizer_gpu = torch.optim.SGD(params=model_gpu.parameters(),\n",
    "                            lr=.1)\n",
    "acc_fn_cpu=Accuracy(task=\"multiclass\",\n",
    "                num_classes=n_classes).to(\"cpu\")\n",
    "acc_fn_gpu=Accuracy(task=\"multiclass\",\n",
    "                num_classes=n_classes).to(\"cuda\")\n",
    "               "
   ]
  },
  {
   "cell_type": "code",
   "execution_count": 12,
   "id": "6763289e",
   "metadata": {},
   "outputs": [],
   "source": [
    "# Train and test steps definded\n",
    "def train_step(model: nn.Module,\n",
    "               dataloader: DataLoader,\n",
    "               loss_fn: nn.Module,\n",
    "               acc_fn,\n",
    "               optimizer: torch.optim.Optimizer,\n",
    "               dev:str):\n",
    "    \n",
    "    '''\n",
    "    Performs the train step\n",
    "    Model output must be logits\n",
    "    \n",
    "    Args:\n",
    "        model: nn.Module\n",
    "        dataloader: DataLoader\n",
    "        loss_fn: nn.Module\n",
    "        acc_fn: Accuracy\n",
    "        optimizer: torch.optim.Optimizer\n",
    "        device:str\n",
    "    '''\n",
    "    \n",
    "    # Train mode\n",
    "    model.train()\n",
    "    \n",
    "    # Cum-variables \n",
    "    train_loss, train_acc = 0.0, 0.0\n",
    "    \n",
    "    # Weights update per batch \n",
    "    for batch, (X, y) in enumerate(dataloader):\n",
    "        \n",
    "        # Progress tracking \n",
    "        step = len(dataloader) // 10\n",
    "        if batch % step == 0:\n",
    "            progress_completed: int = batch // step\n",
    "            print_progress(progress_completed)\n",
    "            \n",
    "        X, y = X.to(dev), y.to(dev)\n",
    "        \n",
    "        # 1. Forward step\n",
    "        pred_logits = model(X)\n",
    "        \n",
    "        # 2. Calculate the loss & accuracy \n",
    "        loss = loss_fn(pred_logits, y)\n",
    "        train_loss += loss.item()\n",
    "        train_acc += acc_fn(pred_logits.argmax(dim=1), y).item()\n",
    "        \n",
    "        # 3. Optimizer zero gradient \n",
    "        optimizer.zero_grad()\n",
    "        \n",
    "        # 4. Backpropagation\n",
    "        loss.backward()\n",
    "        \n",
    "        # 5. Gradient descent step\n",
    "        optimizer.step()\n",
    "    \n",
    "    # Average loss & accuracy\n",
    "    train_loss /= len(dataloader)\n",
    "    train_acc  /= len(dataloader)\n",
    "    \n",
    "    # Results tracking \n",
    "    print(f\"\\nTrain loss:     {train_loss:.4f}\\nTrain accuracy: {train_acc:.2f}\")\n",
    "\n",
    "\n",
    "\n",
    "def test_step(model: nn.Module,\n",
    "              dataloader: DataLoader,\n",
    "              loss_fn: nn.Module,\n",
    "              acc_fn,\n",
    "              dev:str):\n",
    "    \n",
    "    \n",
    "    # Inference mode \n",
    "    with torch.inference_mode():\n",
    "        model.eval()\n",
    "        \n",
    "        # Cum-variables \n",
    "        test_loss, test_acc = 0.0, 0.0\n",
    "\n",
    "        # Iteration per batch \n",
    "        for batch, (X, y) in enumerate(dataloader):\n",
    "            \n",
    "             # Progress tracking \n",
    "            step = len(dataloader) // 10\n",
    "            if batch % step == 0:\n",
    "                progress_completed: int = batch // step\n",
    "                print_progress(progress_completed)\n",
    "                \n",
    "            X, y = X.to(dev), y.to(dev)\n",
    "            \n",
    "            # 1. Forward pass\n",
    "            pred_logits = model(X)\n",
    "            \n",
    "            # 2. Calculate loss & accuracy \n",
    "            loss_batch = loss_fn(pred_logits, y)\n",
    "            test_loss += loss_batch.item()\n",
    "            test_acc += acc_fn(pred_logits.argmax(dim=1), y).item()\n",
    "            \n",
    "        # Average loss & accuracy \n",
    "        test_loss /= len(dataloader)\n",
    "        test_acc /= len(dataloader)\n",
    "        \n",
    "        # Results tracking  \n",
    "        print(f\"\\nTest loss:      {test_loss:.4f}\\nTest accuracy:  {test_acc:.2f}\")\n",
    "    return "
   ]
  },
  {
   "cell_type": "code",
   "execution_count": 13,
   "id": "5588f663",
   "metadata": {},
   "outputs": [
    {
     "name": "stdout",
     "output_type": "stream",
     "text": [
      "---------\n",
      "Epoch: 0\n",
      "Train progress: ⬜⬜⬜⬜⬜⬜⬜⬜⬜⬜\n",
      "Train loss:     0.2420\n",
      "Train accuracy: 0.92\n",
      "Train progress: ⬜⬜⬜⬜⬜⬜⬜⬜⬜⬜\n",
      "Test loss:      0.0699\n",
      "Test accuracy:  0.98\n",
      "---------\n",
      "Epoch: 1\n",
      "Train progress: ⬜⬜⬜⬜⬜⬜⬜⬜⬜⬜\n",
      "Train loss:     0.0716\n",
      "Train accuracy: 0.98\n",
      "Train progress: ⬜⬜⬜⬜⬜⬜⬜⬜⬜⬜\n",
      "Test loss:      0.0458\n",
      "Test accuracy:  0.99\n",
      "---------\n",
      "Epoch: 2\n",
      "Train progress: ⬜⬜⬜⬜⬜⬜⬜⬜⬜⬜\n",
      "Train loss:     0.0562\n",
      "Train accuracy: 0.98\n",
      "Train progress: ⬜⬜⬜⬜⬜⬜⬜⬜⬜⬜\n",
      "Test loss:      0.0514\n",
      "Test accuracy:  0.98\n",
      "---------\n"
     ]
    }
   ],
   "source": [
    "# CPU version \n",
    "torch.manual_seed(42)\n",
    "torch.cuda.manual_seed(42)\n",
    "cpu_start_time = timer()\n",
    "epochs = 3\n",
    "print(\"---------\")\n",
    "for e in range(epochs):\n",
    "    print(f\"Epoch: {e}\")\n",
    "    train_step(dataloader=train_dataloader,\n",
    "               model=model_cpu,\n",
    "               loss_fn=loss_fn,\n",
    "               acc_fn=acc_fn_cpu,\n",
    "               optimizer=optimizer_cpu,\n",
    "               dev=\"cpu\")\n",
    "    test_step(dataloader=test_dataloader,\n",
    "              model=model_cpu,\n",
    "              loss_fn=loss_fn,\n",
    "              acc_fn=acc_fn_cpu,\n",
    "              dev=\"cpu\")\n",
    "    print(\"---------\")\n",
    "cpu_end_time = timer()\n",
    "cpu_total_time = cpu_end_time - cpu_start_time"
   ]
  },
  {
   "cell_type": "code",
   "execution_count": 14,
   "id": "4032e9a9",
   "metadata": {},
   "outputs": [
    {
     "name": "stdout",
     "output_type": "stream",
     "text": [
      "---------\n",
      "Epoch: 0\n",
      "Train progress: ⬜⬜⬜⬜⬜⬜⬜⬜⬜⬜\n",
      "Train loss:     0.2877\n",
      "Train accuracy: 0.90\n",
      "Train progress: ⬜⬜⬜⬜⬜⬜⬜⬜⬜⬜\n",
      "Test loss:      0.0756\n",
      "Test accuracy:  0.98\n",
      "---------\n",
      "Epoch: 1\n",
      "Train progress: ⬜⬜⬜⬜⬜⬜⬜⬜⬜⬜\n",
      "Train loss:     0.0777\n",
      "Train accuracy: 0.98\n",
      "Train progress: ⬜⬜⬜⬜⬜⬜⬜⬜⬜⬜\n",
      "Test loss:      0.0513\n",
      "Test accuracy:  0.98\n",
      "---------\n",
      "Epoch: 2\n",
      "Train progress: ⬜⬜⬜⬜⬜⬜⬜⬜⬜⬜\n",
      "Train loss:     0.0593\n",
      "Train accuracy: 0.98\n",
      "Train progress: ⬜⬜⬜⬜⬜⬜⬜⬜⬜⬜\n",
      "Test loss:      0.0496\n",
      "Test accuracy:  0.98\n",
      "---------\n"
     ]
    }
   ],
   "source": [
    "# GPU version \n",
    "torch.manual_seed(42)\n",
    "torch.cuda.manual_seed(42)\n",
    "gpu_start_time = timer()\n",
    "epochs = 3\n",
    "print(\"---------\")\n",
    "for e in range(epochs):\n",
    "    print(f\"Epoch: {e}\")\n",
    "    train_step(dataloader=train_dataloader,\n",
    "               model=model_gpu,\n",
    "               loss_fn=loss_fn,\n",
    "               acc_fn=acc_fn_gpu,\n",
    "               optimizer=optimizer_gpu,\n",
    "               dev=\"cuda\")\n",
    "    test_step(dataloader=test_dataloader,\n",
    "              model=model_gpu,\n",
    "              loss_fn=loss_fn,\n",
    "              acc_fn=acc_fn_gpu,\n",
    "              dev=\"cuda\")\n",
    "    print(\"---------\")\n",
    "gpu_end_time = timer()\n",
    "gpu_total_time = gpu_end_time - gpu_start_time"
   ]
  },
  {
   "cell_type": "code",
   "execution_count": 15,
   "id": "64a474ca",
   "metadata": {},
   "outputs": [
    {
     "name": "stdout",
     "output_type": "stream",
     "text": [
      "Training time for CPU: 24.324517827000022\n",
      "Training time for GPU: 19.593926807999992\n"
     ]
    }
   ],
   "source": [
    "print(f\"Training time for CPU: {cpu_total_time}\\nTraining time for GPU: {gpu_total_time}\")"
   ]
  },
  {
   "cell_type": "markdown",
   "id": "da74bf74",
   "metadata": {},
   "source": [
    "#### **10.** Make predictions using your trained model and visualize at least 5 of them comparing the prediction to the target label. "
   ]
  },
  {
   "cell_type": "code",
   "execution_count": 16,
   "id": "4a4e5c06",
   "metadata": {},
   "outputs": [
    {
     "data": {
      "text/plain": [
       "(5, 5, torch.Size([1, 28, 28]))"
      ]
     },
     "execution_count": 16,
     "metadata": {},
     "output_type": "execute_result"
    }
   ],
   "source": [
    "import random\n",
    "random.seed(42)\n",
    "torch.manual_seed(42)\n",
    "\n",
    "samples_list = []\n",
    "labels_list = []\n",
    "for img, label in random.sample(list(test_dataset), k=5):\n",
    "    \n",
    "    samples_list.append(img)\n",
    "    labels_list.append(label)\n",
    "\n",
    "len(samples_list), len(labels_list), samples_list[0].shape"
   ]
  },
  {
   "cell_type": "code",
   "execution_count": 17,
   "id": "29f35552",
   "metadata": {},
   "outputs": [],
   "source": [
    "import random\n",
    "def make_predictions(model: nn.Module,\n",
    "                     data: list,\n",
    "                     dev: str) -> torch.Tensor:\n",
    "    '''\n",
    "    Make predictions with the given data and model\n",
    "    Args:\n",
    "        model: nn.Module\n",
    "        data: list = list of tensors \n",
    "        dev: str = device\n",
    "    '''\n",
    "    \n",
    "    probs_list = []\n",
    "    \n",
    "    # Inference mode \n",
    "    with torch.inference_mode():\n",
    "        model_gpu.eval()\n",
    "        \n",
    "        for sample in data:\n",
    "            # 1. Forward pass \n",
    "            logits = model(sample.to(dev).unsqueeze(dim=0))\n",
    "            #print(logits.shape)\n",
    "            \n",
    "            # 2. Calculate probs\n",
    "            probs_list.append(torch.softmax(logits.squeeze(), dim=0).cpu())\n",
    "            \n",
    "    return torch.stack(probs_list)"
   ]
  },
  {
   "cell_type": "code",
   "execution_count": 18,
   "id": "1e4cec24",
   "metadata": {},
   "outputs": [
    {
     "name": "stdout",
     "output_type": "stream",
     "text": [
      "Probs shape: torch.Size([5, 10])\n",
      "Preds shape: torch.Size([5])\n"
     ]
    }
   ],
   "source": [
    "# Get class probabilities\n",
    "probs = make_predictions(model=model_gpu,\n",
    "                 data=samples_list,\n",
    "                 dev=\"cuda\")\n",
    "print(f\"Probs shape: {probs.shape}\")\n",
    "\n",
    "# Get most likely \n",
    "preds = torch.argmax(probs, dim=1)\n",
    "print(f\"Preds shape: {preds.shape}\")"
   ]
  },
  {
   "cell_type": "code",
   "execution_count": 19,
   "id": "be7d459b",
   "metadata": {},
   "outputs": [
    {
     "data": {
      "image/png": "[encoded data removed]",
      "text/plain": [
       "<Figure size 1000x200 with 5 Axes>"
      ]
     },
     "metadata": {},
     "output_type": "display_data"
    }
   ],
   "source": [
    "from extra_functions import plot_pred_images\n",
    "plot_pred_images(preds=list(preds),\n",
    "                 y=labels_list,\n",
    "                 figsize=(10, 2),\n",
    "                 nrows=1,\n",
    "                 ncols=5,\n",
    "                 images=samples_list,\n",
    "                 class_names=class_names)"
   ]
  },
  {
   "cell_type": "markdown",
   "id": "1c2b6397",
   "metadata": {},
   "source": [
    "#### **11.** Plot a confusion matrix comparing your model's predictions to the truth labels.\n"
   ]
  },
  {
   "cell_type": "code",
   "execution_count": 20,
   "id": "95c1d280",
   "metadata": {},
   "outputs": [
    {
     "name": "stderr",
     "output_type": "stream",
     "text": [
      "Making predictions...: 100%|██████████| 313/313 [00:00<00:00, 533.32it/s]\n"
     ]
    }
   ],
   "source": [
    "from tqdm.auto import tqdm\n",
    "torch.manual_seed(42)\n",
    "\n",
    "y_preds = [] # List of predictions on the test data\n",
    "\n",
    "with torch.inference_mode():\n",
    "    model_gpu.eval()\n",
    "    \n",
    "    for X, y in tqdm(test_dataloader, desc=\"Making predictions...\"):\n",
    "        X, y = X.to(device), y.to(device)\n",
    "        # Forward pass\n",
    "        logits = model_gpu(X)\n",
    "        \n",
    "        # Logits -> Label\n",
    "        y_pred = logits.argmax(dim=1)\n",
    "        \n",
    "        y_preds.append(y_pred.cpu())\n",
    "        "
   ]
  },
  {
   "cell_type": "code",
   "execution_count": 21,
   "id": "424e926e",
   "metadata": {},
   "outputs": [
    {
     "data": {
      "image/png": "[encoded data removed]",
      "text/plain": [
       "<Figure size 1000x700 with 1 Axes>"
      ]
     },
     "metadata": {},
     "output_type": "display_data"
    }
   ],
   "source": [
    "from torchmetrics import ConfusionMatrix \n",
    "from mlxtend.plotting import plot_confusion_matrix \n",
    "\n",
    "conf_mat = ConfusionMatrix(task=\"multiclass\",\n",
    "                           num_classes=n_classes)\n",
    "\n",
    "conf_mat_tensor = conf_mat(preds=torch.cat(y_preds),\n",
    "                           target=test_dataset.targets)\n",
    "\n",
    "fig, ax = plot_confusion_matrix(\n",
    "    conf_mat=conf_mat_tensor.numpy(),\n",
    "    class_names=class_names,\n",
    "    figsize=(10,7)\n",
    ")\n",
    "plt.show()\n",
    "\n",
    "## PONER MUCHAS PREDS CON TEST PARA ETSO MAQUINON "
   ]
  },
  {
   "cell_type": "markdown",
   "id": "09bf309b",
   "metadata": {},
   "source": [
    "#### **12.** Create a random tensor of shape [1, 3, 64, 64] and pass it through a nn.Conv2d() layer with various hyperparameter settings (these can be any settings you choose), what do you notice if the kernel_size parameter goes up and down?"
   ]
  },
  {
   "cell_type": "code",
   "execution_count": 22,
   "id": "65f92fbf",
   "metadata": {},
   "outputs": [
    {
     "name": "stdout",
     "output_type": "stream",
     "text": [
      "Input shape: torch.Size([1, 3, 64, 64])\n",
      "Output shape: torch.Size([1, 3, 33, 33])\n"
     ]
    }
   ],
   "source": [
    "random_tensor = torch.randn(size=(1, 3, 64, 64)) # Basically a color image \n",
    "\n",
    "example_layer = nn.Conv2d(in_channels=3,\n",
    "                          out_channels=3,\n",
    "                          stride=2,\n",
    "                          padding=1, \n",
    "                          kernel_size=(1,1))\n",
    "\n",
    "output = example_layer(random_tensor)\n",
    "print(f\"Input shape: {random_tensor.shape}\\nOutput shape: {output.shape}\")\n"
   ]
  },
  {
   "cell_type": "markdown",
   "id": "6adf5d68",
   "metadata": {},
   "source": [
    "Note: shape = (n_images, C, H, W)\n",
    "\n",
    "When the kernel size increment it reduces the output shape. The max shape you can get with just changing the kernel size is with (1,1) when, basically, using a filter per pixel (which is not very usefull). With and stride 1, you lose unit size dim (per dimension, in this case, just in H & W) every extra unit you give to the kernel size, with a stride 2, you lose it every two extra units, if we continue like that, for a stride 10 you will lose a unit every 10 units of size.  "
   ]
  },
  {
   "cell_type": "markdown",
   "id": "033ff45b",
   "metadata": {},
   "source": [
    "#### **13.** Use a model similar to the trained model_2 from this notebook to make predictions on the test torchvision.datasets.FashionMNIST dataset.\n",
    "* Then plot some predictions where the model was wrong alongside what the label of the image should've been.\n",
    "* After visualizing these predictions do you think it's more of a modelling error or a data error?\n",
    "* As in, could the model do better or are the labels of the data too close to each other (e.g. a \"Shirt\" label is too close to \"T-shirt/top\")?"
   ]
  },
  {
   "cell_type": "markdown",
   "id": "264b5893",
   "metadata": {},
   "source": [
    "##### 13.1 Dataset "
   ]
  },
  {
   "cell_type": "code",
   "execution_count": 23,
   "id": "6ada5979",
   "metadata": {},
   "outputs": [],
   "source": [
    "# Download data \n",
    "train_dataset2 = torchvision.datasets.FashionMNIST(root=\"exercises_2.data\",\n",
    "                                                   train=True,\n",
    "                                                   transform=torchvision.transforms.ToTensor(),\n",
    "                                                   download=True)\n",
    "\n",
    "\n",
    "\n",
    "\n",
    "test_dataset2 = torchvision.datasets.FashionMNIST(root=\"exercises_2.data\",\n",
    "                                                   train=False,\n",
    "                                                   transform=torchvision.transforms.ToTensor(),\n",
    "                                                   download=True)"
   ]
  },
  {
   "cell_type": "code",
   "execution_count": 24,
   "id": "fc998298",
   "metadata": {},
   "outputs": [
    {
     "data": {
      "text/plain": [
       "torch.Size([1, 28, 28])"
      ]
     },
     "execution_count": 24,
     "metadata": {},
     "output_type": "execute_result"
    }
   ],
   "source": [
    "train_dataset2[0][0].shape # Gray scale "
   ]
  },
  {
   "cell_type": "code",
   "execution_count": 25,
   "id": "a3b0b4ed",
   "metadata": {},
   "outputs": [
    {
     "data": {
      "text/plain": [
       "'T-shirt/top'"
      ]
     },
     "execution_count": 25,
     "metadata": {},
     "output_type": "execute_result"
    }
   ],
   "source": [
    "class_names2 = train_dataset2.classes\n",
    "class_names2[0]"
   ]
  },
  {
   "cell_type": "markdown",
   "id": "876cb0da",
   "metadata": {},
   "source": [
    "##### 13.2 Model "
   ]
  },
  {
   "cell_type": "code",
   "execution_count": 26,
   "id": "51e05c60",
   "metadata": {},
   "outputs": [
    {
     "data": {
      "text/plain": [
       "device(type='cuda', index=0)"
      ]
     },
     "execution_count": 26,
     "metadata": {},
     "output_type": "execute_result"
    }
   ],
   "source": [
    "model_2 = NumberClassification(input_channels=1,\n",
    "                               output_shape=len(class_names2),\n",
    "                               hidden_units=10).to(device)\n",
    "next(iter(model_2.parameters())).device"
   ]
  },
  {
   "cell_type": "markdown",
   "id": "c0241dee",
   "metadata": {},
   "source": [
    "##### 13.3 Dataloader "
   ]
  },
  {
   "cell_type": "code",
   "execution_count": 27,
   "id": "eebc6ff4",
   "metadata": {},
   "outputs": [],
   "source": [
    "train_dataloader2= DataLoader(dataset=train_dataset2,\n",
    "                              shuffle=True,\n",
    "                              batch_size=32)\n",
    "\n",
    "test_dataloader2 = DataLoader(dataset=test_dataset2,\n",
    "                              shuffle=False,\n",
    "                              batch_size=32)"
   ]
  },
  {
   "cell_type": "markdown",
   "id": "1163f73a",
   "metadata": {},
   "source": [
    "##### 13.5 Optimizer, loss and accuracy"
   ]
  },
  {
   "cell_type": "code",
   "execution_count": 28,
   "id": "2b3f36c6",
   "metadata": {},
   "outputs": [],
   "source": [
    "loss_fn = torch.nn.CrossEntropyLoss()\n",
    "optimizer = torch.optim.SGD(params=model_2.parameters(),\n",
    "                            lr=0.1)\n",
    "acc_fn = Accuracy(task=\"multiclass\",\n",
    "                  num_classes=len(class_names2)).to(device)"
   ]
  },
  {
   "cell_type": "markdown",
   "id": "2f7d4afa",
   "metadata": {},
   "source": [
    "##### 13.5 Train loop "
   ]
  },
  {
   "cell_type": "code",
   "execution_count": 29,
   "id": "7d7fe61e",
   "metadata": {},
   "outputs": [
    {
     "name": "stdout",
     "output_type": "stream",
     "text": [
      "Train progress: ⬜⬜⬜⬜⬜⬜⬜⬜⬜⬜\n",
      "Train loss:     0.6224\n",
      "Train accuracy: 0.78\n",
      "Train progress: ⬜⬜⬜⬜⬜⬜⬜⬜⬜⬜\n",
      "Test loss:      0.4357\n",
      "Test accuracy:  0.85\n",
      "Train progress: ⬜⬜⬜⬜⬜⬜⬜⬜⬜⬜\n",
      "Train loss:     0.3947\n",
      "Train accuracy: 0.86\n",
      "Train progress: ⬜⬜⬜⬜⬜⬜⬜⬜⬜⬜\n",
      "Test loss:      0.3881\n",
      "Test accuracy:  0.86\n",
      "Train progress: ⬜⬜⬜⬜⬜⬜⬜⬜⬜⬜\n",
      "Train loss:     0.3549\n",
      "Train accuracy: 0.87\n",
      "Train progress: ⬜⬜⬜⬜⬜⬜⬜⬜⬜⬜\n",
      "Test loss:      0.3861\n",
      "Test accuracy:  0.86\n",
      "Train progress: ⬜⬜⬜⬜⬜⬜⬜⬜⬜⬜\n",
      "Train loss:     0.3354\n",
      "Train accuracy: 0.88\n",
      "Train progress: ⬜⬜⬜⬜⬜⬜⬜⬜⬜⬜\n",
      "Test loss:      0.3445\n",
      "Test accuracy:  0.87\n",
      "Train progress: ⬜⬜⬜⬜⬜⬜⬜⬜⬜⬜\n",
      "Train loss:     0.3206\n",
      "Train accuracy: 0.88\n",
      "Train progress: ⬜⬜⬜⬜⬜⬜⬜⬜⬜⬜\n",
      "Test loss:      0.3444\n",
      "Test accuracy:  0.88\n",
      "Train progress: ⬜⬜⬜⬜⬜⬜⬜⬜⬜⬜\n",
      "Train loss:     0.3141\n",
      "Train accuracy: 0.89\n",
      "Train progress: ⬜⬜⬜⬜⬜⬜⬜⬜⬜⬜\n",
      "Test loss:      0.3514\n",
      "Test accuracy:  0.87\n"
     ]
    }
   ],
   "source": [
    "epochs = 6\n",
    "for e in range(epochs):\n",
    "    train_step(model=model_2,\n",
    "               dataloader=train_dataloader2,\n",
    "               loss_fn=loss_fn,\n",
    "               optimizer=optimizer,\n",
    "               acc_fn=acc_fn,\n",
    "               dev=device)\n",
    "    test_step(model=model_2,\n",
    "               dataloader=test_dataloader2,\n",
    "               loss_fn=loss_fn,\n",
    "               acc_fn=acc_fn,\n",
    "               dev=device)"
   ]
  },
  {
   "cell_type": "markdown",
   "id": "fef8bd57",
   "metadata": {},
   "source": [
    "##### 13.6 Make and plot predictions where model was wrong "
   ]
  },
  {
   "cell_type": "code",
   "execution_count": 44,
   "id": "701f2a6a",
   "metadata": {},
   "outputs": [
    {
     "data": {
      "text/plain": [
       "torch.Size([10000])"
      ]
     },
     "execution_count": 44,
     "metadata": {},
     "output_type": "execute_result"
    }
   ],
   "source": [
    "# Make predictions \n",
    "preds = torch.Tensor([]).to(device)\n",
    "with torch.inference_mode():\n",
    "    model_2.eval()\n",
    "    \n",
    "    for X_batch, y_batch in test_dataloader2:# 32 Images & 32 labels per iteration\n",
    "        X_batch, y_batch = X_batch.to(device), y_batch.to(device)\n",
    "        \n",
    "        # Forward pass\n",
    "        logits_batch = model_2(X_batch)\n",
    "        #print(f\"Shape of logits output: {logits_batch.shape}\")\n",
    "       \n",
    "        # Inference\n",
    "        y_pred_batch = logits_batch.argmax(dim=1)\n",
    "        #print(f\"Shape of prediction output: {y_pred_batch.shape}\")\n",
    "        \n",
    "        preds = torch.cat((preds, y_pred_batch), dim=0)\n",
    "        \n",
    "\n",
    "preds.shape\n",
    "        "
   ]
  },
  {
   "cell_type": "code",
   "execution_count": 48,
   "id": "0cf564f1",
   "metadata": {},
   "outputs": [
    {
     "name": "stdout",
     "output_type": "stream",
     "text": [
      "Shape of predictions: torch.Size([10000])\n",
      "Shape of real labels tensor: torch.Size([10000])\n",
      "Some predictions comparation: tensor([9, 2, 1, 1, 6, 1, 2, 6, 5, 7], device='cuda:0') vs tensor([9, 2, 1, 1, 6, 1, 4, 6, 5, 7])\n"
     ]
    }
   ],
   "source": [
    "# Getting the bad results \n",
    "preds = preds.type(dtype=torch.int64) # Dtype correction \n",
    "print(f\"Shape of predictions: {preds.shape}\\nShape of real labels tensor: {test_dataset2.targets.shape}\")\n",
    "print(f\"Some predictions comparation: {preds[:10]} vs {test_dataset2.targets[:10]}\")"
   ]
  },
  {
   "cell_type": "code",
   "execution_count": 57,
   "id": "55aa0d0f",
   "metadata": {},
   "outputs": [
    {
     "data": {
      "text/plain": [
       "tensor([False, False, False, False, False, False,  True, False, False, False],\n",
       "       device='cuda:0')"
      ]
     },
     "execution_count": 57,
     "metadata": {},
     "output_type": "execute_result"
    }
   ],
   "source": [
    "# Searching for wrong predictions \n",
    "real_labels = test_dataset2.targets.to(device) \n",
    "wrong_predictions_idx_tensor = preds != real_labels\n",
    "wrong_predictions_idx_tensor[:10]"
   ]
  },
  {
   "cell_type": "code",
   "execution_count": 64,
   "id": "40ee1c9e",
   "metadata": {},
   "outputs": [
    {
     "name": "stdout",
     "output_type": "stream",
     "text": [
      "Number of images: 10000\n",
      "Number of wrong predictions: 1306\n"
     ]
    }
   ],
   "source": [
    "print(f\"Number of images: {real_labels.shape[0]}\")\n",
    "print(f\"Number of wrong predictions: {real_labels[wrong_predictions_idx_tensor].shape[0]}\")"
   ]
  },
  {
   "cell_type": "code",
   "execution_count": null,
   "id": "9b3b27fa",
   "metadata": {},
   "outputs": [
    {
     "name": "stdout",
     "output_type": "stream",
     "text": [
      "Wrong images shape: torch.Size([1306, 1, 28, 28])\n"
     ]
    }
   ],
   "source": [
    "# Getting all images in one tensor\n",
    "all_images = torch.cat([images for images, _ in test_dataloader2], dim=0).to(device)\n",
    "print(f\"Wrong images shape: {all_images[wrong_predictions_idx_tensor].shape}\")"
   ]
  },
  {
   "cell_type": "code",
   "execution_count": 71,
   "id": "14c492a7",
   "metadata": {},
   "outputs": [
    {
     "data": {
      "text/plain": [
       "(torch.Size([1306, 1, 28, 28]), torch.Size([1306]), torch.Size([1306]))"
      ]
     },
     "execution_count": 71,
     "metadata": {},
     "output_type": "execute_result"
    }
   ],
   "source": [
    "wrong_predictions_images = all_images[wrong_predictions_idx_tensor]\n",
    "wrong_predictions_preds = preds[wrong_predictions_idx_tensor    ]\n",
    "wrong_predictions_real_labels = real_labels[wrong_predictions_idx_tensor]\n",
    "wrong_predictions_images.shape, wrong_predictions_preds.shape, wrong_predictions_real_labels.shape"
   ]
  },
  {
   "cell_type": "code",
   "execution_count": 99,
   "id": "2f6e318f",
   "metadata": {},
   "outputs": [
    {
     "data": {
      "image/png": "[encoded data removed]",
      "text/plain": [
       "<Figure size 1400x1000 with 9 Axes>"
      ]
     },
     "metadata": {},
     "output_type": "display_data"
    }
   ],
   "source": [
    "# Plot 9 images \n",
    "fig = plt.figure(figsize=(14, 10))\n",
    "rows, cols = 3, 3\n",
    "\n",
    "for i in range(1, rows*cols+1):\n",
    "    rand_idx = int(torch.randint(0, len(wrong_predictions_images), size=[1]).item())\n",
    "    img = wrong_predictions_images[rand_idx]\n",
    "    pred = wrong_predictions_preds[rand_idx]\n",
    "    y = wrong_predictions_real_labels[rand_idx]\n",
    "\n",
    "    fig.add_subplot(rows, cols, i)\n",
    "    plt.imshow(img.squeeze().cpu())\n",
    "    plt.title(f\"Real class: '{class_names2[y]}' | Prediction: '{class_names2[pred]}'\", c=\"r\")\n",
    "    plt.axis(False)\n",
    "    "
   ]
  },
  {
   "cell_type": "markdown",
   "id": "7fb6e46f",
   "metadata": {},
   "source": [
    "After visualizing the wrong predictions we can say that it's both problem: model and data.\n",
    "1. First, our model is not so complex, so the patterns that he learned are probably quite simple, so if the object has similiar size and proportions he may inference wrong.\n",
    "2. Secondly, the data has a classes problem: there are some classes that are soo hard to distinguish (like shirt and t-shirt) that even a human would probably get it wrong.\n",
    "3. Finally, the data has a poor quality: we have 28x28 pixeles images and it's on a gray scale, so we really have not much data to work. With more pixels and colors the model could learn better patterns for sure."
   ]
  }
 ],
 "metadata": {
  "kernelspec": {
   "display_name": "pytorch.env",
   "language": "python",
   "name": "python3"
  },
  "language_info": {
   "codemirror_mode": {
    "name": "ipython",
    "version": 3
   },
   "file_extension": ".py",
   "mimetype": "text/x-python",
   "name": "python",
   "nbconvert_exporter": "python",
   "pygments_lexer": "ipython3",
   "version": "3.8.13"
  }
 },
 "nbformat": 4,
 "nbformat_minor": 5
}
