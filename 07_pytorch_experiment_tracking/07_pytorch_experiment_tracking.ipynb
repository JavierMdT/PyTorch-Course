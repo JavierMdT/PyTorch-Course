{
 "cells": [
  {
   "cell_type": "markdown",
   "id": "1cbcd9cd",
   "metadata": {},
   "source": [
    "# 07 PyTorch Experiment Tracking \n",
    "\n",
    "ML is very experimental.\n",
    "\n",
    "In orded to figure out which experiments are worth pursuing, that's where **experiment tracking** comes in, it helps you to \n",
    "figure out what doens't work so you can figure it out what **does** work."
   ]
  },
  {
   "cell_type": "markdown",
   "id": "17708091",
   "metadata": {},
   "source": [
    "## 0. Setting basic things"
   ]
  },
  {
   "cell_type": "code",
   "execution_count": 1,
   "id": "2a7d0b89",
   "metadata": {},
   "outputs": [
    {
     "name": "stdout",
     "output_type": "stream",
     "text": [
      "Torch version: 1.13.1+cu117 | Torchvision: 0.14.1+cu117\n"
     ]
    }
   ],
   "source": [
    "import torch\n",
    "import torchvision \n",
    "print(f\"Torch version: {torch.__version__} | Torchvision: {torchvision.__version__}\")"
   ]
  },
  {
   "cell_type": "code",
   "execution_count": 2,
   "id": "f6fb80f5",
   "metadata": {},
   "outputs": [],
   "source": [
    "# Standar libs for this sections\n",
    "import matplotlib.pyplot as plt \n",
    "import torch\n",
    "import torchvision  \n",
    "import torchinfo \n",
    "\n",
    "from torch import nn\n",
    "from torchvision import transforms  \n",
    "\n",
    "try:\n",
    "    from going_modular import data_setup, engine\n",
    "except:\n",
    "    print(f\"[INFO] Couldn't find going_modular scripts... downloading them from GitHub...\")\n",
    "    !git clone https://github.com/mrdbourke/pytorch-deep-learning\n",
    "    !mv pytorch-deep-learning/going_modular/going_modular .\n",
    "    !rm -rf pytorch-deep-learning\n",
    "    from going_modular import data_setup, engine \n"
   ]
  },
  {
   "cell_type": "code",
   "execution_count": 3,
   "id": "0fc6b75e",
   "metadata": {},
   "outputs": [
    {
     "name": "stderr",
     "output_type": "stream",
     "text": [
      "/home/jvier/PyTorch-Course/pytorch.env/lib/python3.8/site-packages/torch/cuda/__init__.py:88: UserWarning: CUDA initialization: Unexpected error from cudaGetDeviceCount(). Did you run some cuda functions before calling NumCudaDevices() that might have already set an error? Error 804: forward compatibility was attempted on non supported HW (Triggered internally at ../c10/cuda/CUDAFunctions.cpp:109.)\n",
      "  return torch._C._cuda_getDeviceCount() > 0\n"
     ]
    }
   ],
   "source": [
    "# Setup device agnostic code \n",
    "dev = \"cuda\" if torch.cuda.is_available() else \"cpu\""
   ]
  },
  {
   "cell_type": "code",
   "execution_count": 4,
   "id": "91fa539e",
   "metadata": {},
   "outputs": [],
   "source": [
    "# Set seeds\n",
    "def set_seeds(seed: int = 42) -> None:\n",
    "    '''\n",
    "    Sets the random seeds for torch operations.\n",
    "    \n",
    "    Args: \n",
    "        seed(int, optional): Randon seed to set. Default is 42.\n",
    "    '''\n",
    "    torch.manual_seed(42)\n",
    "    torch.cuda.manual_seed(42)\n",
    "    return "
   ]
  },
  {
   "cell_type": "markdown",
   "id": "e19bf3c8",
   "metadata": {},
   "source": [
    "## 1. Getting the data  "
   ]
  },
  {
   "cell_type": "code",
   "execution_count": 5,
   "id": "b1b2e91b",
   "metadata": {},
   "outputs": [],
   "source": [
    "import os \n",
    "import zipfile \n",
    "\n",
    "from pathlib import Path\n",
    "\n",
    "import requests as rq\n",
    " \n",
    "def download_data(src:str,\n",
    "                  dest:str,\n",
    "                  rm_src: bool = True) -> Path:\n",
    "    '''\n",
    "    Downloads a zipped dataset, unzips it and optional it can remove the zip file.\n",
    "    The data will be saved in a \".data\" directory.\n",
    "    Args:\n",
    "        src: Source (raw url) of the data.\n",
    "        dest: Name of .\n",
    "        rm_src: Optional arg to remove the data. Default is |True|.\n",
    "    '''\n",
    "    \n",
    "    data_path = Path(\"./.data/\")\n",
    "    image_path = data_path/dest\n",
    "    zip_path = Path(str(image_path) + \".zip\")\n",
    "    \n",
    "    # If data folder do not exist, create it \n",
    "    if not data_path.exists():\n",
    "        print(f\"[INFO] .data directory do not exists, creating it...\")\n",
    "        data_path.mkdir(parents=True)\n",
    "    else:\n",
    "        print(f\"[INFO] .data directory exists, skipping this step.\")\n",
    "    # If data is not downloaded, download\n",
    "    if not image_path.exists():\n",
    "        print(f\"[INFO] data is not downloaded, downloading it...\")\n",
    "        \n",
    "        # Getting the zipfile\n",
    "        req = rq.get(src)\n",
    "        with zip_path.open(\"wb\") as f:\n",
    "            f.write(req.content)\n",
    "            \n",
    "        # Unzipping \n",
    "        with zipfile.ZipFile(zip_path) as zip_ref:\n",
    "            print(f\"[INFO] unzipping...\")\n",
    "            zip_ref.extractall(image_path)\n",
    "        \n",
    "        # Removing if needed\n",
    "        if rm_src:\n",
    "            os.remove(zip_path)\n",
    "    else:\n",
    "        print(f\"[INFO] data already downloaded, skipping this step.\")\n",
    "\n",
    "    return image_path"
   ]
  },
  {
   "cell_type": "code",
   "execution_count": 6,
   "id": "8718a497",
   "metadata": {},
   "outputs": [
    {
     "name": "stdout",
     "output_type": "stream",
     "text": [
      "[INFO] .data directory exists, skipping this step.\n",
      "[INFO] data already downloaded, skipping this step.\n",
      "Data downloaded at: .data/pizza_steak_sushi\n"
     ]
    }
   ],
   "source": [
    "image_path = download_data(src=\"https://github.com/mrdbourke/pytorch-deep-learning/raw/refs/heads/main/data/pizza_steak_sushi.zip\",\n",
    "              dest=\"pizza_steak_sushi\")\n",
    "print(f\"Data downloaded at: {str(image_path)}\")"
   ]
  },
  {
   "cell_type": "markdown",
   "id": "1d3399a9",
   "metadata": {},
   "source": [
    "## 2. Creating datasets and dataloaders"
   ]
  },
  {
   "cell_type": "markdown",
   "id": "afdde9cb",
   "metadata": {},
   "source": [
    "### 2.1 Create dataloaders with manual transforms \n",
    "\n",
    "The goal with transforms is to ensure your custom data is formatted in a reproducible way as well as a way that will suit pretrained models."
   ]
  },
  {
   "cell_type": "code",
   "execution_count": 7,
   "id": "e756a741",
   "metadata": {},
   "outputs": [
    {
     "data": {
      "text/plain": [
       "('.data/pizza_steak_sushi/train', '.data/pizza_steak_sushi/test')"
      ]
     },
     "execution_count": 7,
     "metadata": {},
     "output_type": "execute_result"
    }
   ],
   "source": [
    "# Setup directories\n",
    "train_dir = image_path/\"train\"\n",
    "test_dir = image_path/\"test\"\n",
    "\n",
    "str(train_dir), str(test_dir)"
   ]
  },
  {
   "cell_type": "code",
   "execution_count": 9,
   "id": "58a7d435",
   "metadata": {},
   "outputs": [
    {
     "name": "stdout",
     "output_type": "stream",
     "text": [
      "Manually created transforms: Compose(\n",
      "    Resize(size=(224, 224), interpolation=bilinear, max_size=None, antialias=None)\n",
      "    ToTensor()\n",
      "    Normalize(mean=[0.485, 0.456, 0.406], std=[0.229, 0.224, 0.225])\n",
      ")\n"
     ]
    },
    {
     "data": {
      "text/plain": [
       "(<torch.utils.data.dataloader.DataLoader at 0x7d390f4b35e0>,\n",
       " <torch.utils.data.dataloader.DataLoader at 0x7d38621d2910>,\n",
       " ['pizza', 'steak', 'sushi'])"
      ]
     },
     "execution_count": 9,
     "metadata": {},
     "output_type": "execute_result"
    }
   ],
   "source": [
    "# Setup ImageNet normalization levels \n",
    "normalize = transforms.Normalize(\n",
    "    mean=[0.485, 0.456, 0.406],\n",
    "    std=[0.229, 0.224, 0.225]\n",
    ")\n",
    "\n",
    "# Create transform pipeline manually \n",
    "manual_transform = transforms.Compose([\n",
    "    transforms.Resize((224, 224)),\n",
    "    transforms.ToTensor(),\n",
    "    normalize\n",
    "])\n",
    "print(f\"Manually created transforms: {manual_transform}\")\n",
    "\n",
    "# Create dataloaders\n",
    "from going_modular import data_setup\n",
    "train_dataloader, test_dataloader, class_names = data_setup.create_dataloaders(train_dir=str(train_dir),\n",
    "                                                                               test_dir=str(test_dir),\n",
    "                                                                               batch_size=32,\n",
    "                                                                               train_transform=manual_transform,\n",
    "                                                                               test_transform=manual_transform)\n",
    "train_dataloader, test_dataloader, class_names "
   ]
  }
 ],
 "metadata": {
  "kernelspec": {
   "display_name": "pytorch.env",
   "language": "python",
   "name": "python3"
  },
  "language_info": {
   "codemirror_mode": {
    "name": "ipython",
    "version": 3
   },
   "file_extension": ".py",
   "mimetype": "text/x-python",
   "name": "python",
   "nbconvert_exporter": "python",
   "pygments_lexer": "ipython3",
   "version": "3.8.13"
  }
 },
 "nbformat": 4,
 "nbformat_minor": 5
}
