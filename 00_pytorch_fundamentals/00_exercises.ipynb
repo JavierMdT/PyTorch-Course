{
 "cells": [
  {
   "cell_type": "markdown",
   "id": "7ec8c2b7",
   "metadata": {},
   "source": [
    "# **00 Fundamentals:** Exercises & Extra-curriculum "
   ]
  },
  {
   "cell_type": "code",
   "execution_count": 2,
   "id": "bf21d99b",
   "metadata": {},
   "outputs": [],
   "source": [
    "# Libraries\n",
    "\n",
    "import torch"
   ]
  },
  {
   "cell_type": "markdown",
   "id": "63dbfa64",
   "metadata": {},
   "source": [
    "#### **1.** Documentation reading - A big part of deep learning (and learning to code in general) is getting familiar with th documentation of a certain framework you're using. We'll be using the PyTorch documentation a lot throughout the rest of this course. So I'd recommend spending 10-minutes reading the following (it's okay if you don't get some things for now, the focus is not yet full understanding, it's awareness). See the documentation on torch.Tensor and for torch.cuda."
   ]
  },
  {
   "cell_type": "markdown",
   "id": "cff33e42",
   "metadata": {},
   "source": [
    "#### **2.** Create a random tensor with shape (7, 7).\n"
   ]
  },
  {
   "cell_type": "code",
   "execution_count": 5,
   "id": "cf04f5a7",
   "metadata": {},
   "outputs": [
    {
     "data": {
      "text/plain": [
       "(tensor([[0.3549, 0.1576, 0.2762, 0.4055, 0.7844, 0.2963, 0.4810],\n",
       "         [0.1068, 0.3481, 0.5156, 0.6210, 0.8228, 0.0690, 0.7382],\n",
       "         [0.0527, 0.2450, 0.8501, 0.9824, 0.4383, 0.9065, 0.4980],\n",
       "         [0.2023, 0.2736, 0.6979, 0.7073, 0.7607, 0.3450, 0.0437],\n",
       "         [0.8088, 0.8362, 0.8323, 0.6883, 0.2380, 0.0439, 0.4216],\n",
       "         [0.2157, 0.3789, 0.2249, 0.1352, 0.8795, 0.0551, 0.7357],\n",
       "         [0.3639, 0.2939, 0.2709, 0.2464, 0.6935, 0.4086, 0.4374]]),\n",
       " torch.Size([7, 7]))"
      ]
     },
     "execution_count": 5,
     "metadata": {},
     "output_type": "execute_result"
    }
   ],
   "source": [
    "# Random tensor \n",
    "random_tensor = torch.rand(size=(7, 7))\n",
    "random_tensor, random_tensor.shape"
   ]
  },
  {
   "cell_type": "markdown",
   "id": "8fd30a7a",
   "metadata": {},
   "source": [
    "#### **3.** Perform a matrix multiplication on the tensor from 2 with another random tensor with shape (1, 7) (hint: you may have to transpose the second tensor)."
   ]
  },
  {
   "cell_type": "code",
   "execution_count": 9,
   "id": "f6fb61ca",
   "metadata": {},
   "outputs": [
    {
     "data": {
      "text/plain": [
       "(tensor([[0.8885, 0.6213, 0.6986, 0.8082, 0.0563, 0.2940, 0.7607]]),\n",
       " torch.Size([1, 7]))"
      ]
     },
     "execution_count": 9,
     "metadata": {},
     "output_type": "execute_result"
    }
   ],
   "source": [
    "# Creating another tensor \n",
    "random_tensor_2 = torch.rand(size=(1, 7))\n",
    "random_tensor_2, random_tensor_2.shape"
   ]
  },
  {
   "cell_type": "code",
   "execution_count": null,
   "id": "063d873a",
   "metadata": {},
   "outputs": [
    {
     "name": "stdout",
     "output_type": "stream",
     "text": [
      "Size of tensor_1: torch.Size([7, 7])\n",
      "Size of tensor_2: torch.Size([1, 7])\n"
     ]
    }
   ],
   "source": [
    "# Shapes\n",
    "print(f\"Size of tensor_1: {random_tensor.shape}\\nSize of tensor_2: {random_tensor_2.shape}\")"
   ]
  },
  {
   "cell_type": "code",
   "execution_count": 11,
   "id": "2633898b",
   "metadata": {},
   "outputs": [
    {
     "data": {
      "text/plain": [
       "(tensor([[1.4311],\n",
       "         [1.8014],\n",
       "         [2.2569],\n",
       "         [1.5864],\n",
       "         [2.7229],\n",
       "         [1.3188],\n",
       "         [1.3861]]),\n",
       " torch.Size([7, 1]))"
      ]
     },
     "execution_count": 11,
     "metadata": {},
     "output_type": "execute_result"
    }
   ],
   "source": [
    "# Matrix multiplication\n",
    "# Because inner dimensions must match, we must transpose the second one\n",
    "tensor_result = torch.matmul(random_tensor, random_tensor_2.T)\n",
    "tensor_result, tensor_result.shape\n"
   ]
  },
  {
   "cell_type": "code",
   "execution_count": 14,
   "id": "5c8ecf14",
   "metadata": {},
   "outputs": [
    {
     "name": "stdout",
     "output_type": "stream",
     "text": [
      "As expected, the shape of the result tensor is the outer dimensions of the other two.\n",
      "Tensor 1: torch.Size([7, 7]), Tensor 2 (transposed): torch.Size([7, 1]) => Result: torch.Size([7, 1])\n"
     ]
    }
   ],
   "source": [
    "print(f\"As expected, the shape of the result tensor is the outer dimensions of the other two.\")\n",
    "print(f\"Tensor 1: {random_tensor.shape}, Tensor 2 (transposed): {random_tensor_2.T.shape} => Result: {tensor_result.shape}\")"
   ]
  },
  {
   "cell_type": "markdown",
   "id": "c211bb1a",
   "metadata": {},
   "source": [
    "#### **4.** Set the random seed to 0 and do exercises 2 & 3 over again."
   ]
  },
  {
   "cell_type": "code",
   "execution_count": 49,
   "id": "cd909618",
   "metadata": {},
   "outputs": [
    {
     "data": {
      "text/plain": [
       "(tensor([[1.2961],\n",
       "         [0.9723],\n",
       "         [1.4309],\n",
       "         [1.8563],\n",
       "         [1.2337],\n",
       "         [1.3930],\n",
       "         [1.1776]]),\n",
       " torch.Size([7, 1]))"
      ]
     },
     "execution_count": 49,
     "metadata": {},
     "output_type": "execute_result"
    }
   ],
   "source": [
    "# Random tensors\n",
    "manual_seed = 0\n",
    "torch.manual_seed(manual_seed)\n",
    "t1 = torch.rand(size=(7,7))\n",
    "\n",
    "manual_seed = 123\n",
    "torch.manual_seed(manual_seed)\n",
    "t2 = torch.rand(size=(1,7))\n",
    "\n",
    "# Multiplication \n",
    "t_result = t1 @ t2.T\n",
    "t_result, t_result.shape\n"
   ]
  },
  {
   "cell_type": "markdown",
   "id": "c7aa3713",
   "metadata": {},
   "source": [
    "#### **5.** Speaking of random seeds, we saw how to set it with torch.manual_seed() but is there a GPU equivalent? (hint: you'll need to look into the documentation for torch.cuda for this one). If there is, set the GPU random seed to 1234."
   ]
  },
  {
   "cell_type": "code",
   "execution_count": null,
   "id": "171af88f",
   "metadata": {},
   "outputs": [],
   "source": [
    "if torch.cuda.is_available():\n",
    "    torch.cuda.manual_seed"
   ]
  },
  {
   "cell_type": "code",
   "execution_count": null,
   "id": "e74b5faa",
   "metadata": {},
   "outputs": [
    {
     "data": {
      "text/plain": [
       "tensor([[0.8903, 0.0275],\n",
       "        [0.9031, 0.5386]], device='cuda:0')"
      ]
     },
     "execution_count": 13,
     "metadata": {},
     "output_type": "execute_result"
    }
   ],
   "source": [
    "torch.manual_seed(1)\n",
    "torch.rand(size=(2,2), device=\"cuda\") # This works for GPU too, but there are specific function to GPU"
   ]
  },
  {
   "cell_type": "code",
   "execution_count": 28,
   "id": "e3bca84b",
   "metadata": {},
   "outputs": [
    {
     "data": {
      "text/plain": [
       "tensor([[0.1272, 0.8167],\n",
       "        [0.5440, 0.6601]], device='cuda:0')"
      ]
     },
     "execution_count": 28,
     "metadata": {},
     "output_type": "execute_result"
    }
   ],
   "source": [
    "# Set seed just for gpu\n",
    "torch.cuda.manual_seed(1234)\n",
    "t3 = torch.rand(size=(2,2), device=\"cuda\")\n",
    "t3"
   ]
  },
  {
   "cell_type": "markdown",
   "id": "ae0b4b4a",
   "metadata": {},
   "source": [
    "#### **6.** Create two random tensors of shape (2, 3) and send them both to the GPU (you'll need access to a GPU for this). Set torch.manual_seed(1234) when creating the tensors (this doesn't have to be the GPU random seed). "
   ]
  },
  {
   "cell_type": "code",
   "execution_count": 46,
   "id": "ecb59061",
   "metadata": {},
   "outputs": [
    {
     "data": {
      "text/plain": [
       "(tensor([[0.1272, 0.8167, 0.5440],\n",
       "         [0.6601, 0.2721, 0.9737]], device='cuda:0'),\n",
       " tensor([[0.1272, 0.8167, 0.5440],\n",
       "         [0.6601, 0.2721, 0.9737]], device='cuda:0'))"
      ]
     },
     "execution_count": 46,
     "metadata": {},
     "output_type": "execute_result"
    }
   ],
   "source": [
    "torch.manual_seed(1234)\n",
    "t1 = torch.rand(size=(2,3), device=\"cuda\")\n",
    "torch.manual_seed(1234)\n",
    "t2 = torch.rand(size=(2,3), device=\"cuda\")\n",
    "t1, t2"
   ]
  },
  {
   "cell_type": "markdown",
   "id": "5adccd64",
   "metadata": {},
   "source": [
    "#### **7.** Perform a matrix multiplication on the tensors you created in 6 (again, you may have to adjust the shapes of one of the tensors)."
   ]
  },
  {
   "cell_type": "code",
   "execution_count": 54,
   "id": "e588a367",
   "metadata": {},
   "outputs": [
    {
     "data": {
      "text/plain": [
       "tensor([[1.2961],\n",
       "        [0.9723],\n",
       "        [1.4309],\n",
       "        [1.8563],\n",
       "        [1.2337],\n",
       "        [1.3930],\n",
       "        [1.1776]])"
      ]
     },
     "execution_count": 54,
     "metadata": {},
     "output_type": "execute_result"
    }
   ],
   "source": [
    "t3 = torch.mm(t1, t2.T)\n",
    "# Equivalent: t1 @ t2.T \n",
    "t3"
   ]
  },
  {
   "cell_type": "markdown",
   "id": "6ea7e700",
   "metadata": {},
   "source": [
    "#### **8.** Find the maximum and minimum values of the output of 7."
   ]
  },
  {
   "cell_type": "code",
   "execution_count": 55,
   "id": "4d2d96c9",
   "metadata": {},
   "outputs": [
    {
     "data": {
      "text/plain": [
       "(tensor(1.8563), tensor(0.9723))"
      ]
     },
     "execution_count": 55,
     "metadata": {},
     "output_type": "execute_result"
    }
   ],
   "source": [
    "t3.max(), t3.min()"
   ]
  },
  {
   "cell_type": "markdown",
   "id": "815b7074",
   "metadata": {},
   "source": [
    "#### **9.** Find the maximum and minimum index values of the output of 7."
   ]
  },
  {
   "cell_type": "code",
   "execution_count": 56,
   "id": "ca132326",
   "metadata": {},
   "outputs": [
    {
     "data": {
      "text/plain": [
       "(tensor(3), tensor(1))"
      ]
     },
     "execution_count": 56,
     "metadata": {},
     "output_type": "execute_result"
    }
   ],
   "source": [
    "t3.argmax(), t3.argmin()"
   ]
  },
  {
   "cell_type": "markdown",
   "id": "bc7666f0",
   "metadata": {},
   "source": [
    "#### **10.** Make a random tensor with shape (1, 1, 1, 10) and then create a new tensor with all the 1 dimensions removed to be left with a tensor of shape (10). Set the seed to 7 when you create it and print out the first tensor and it's shape as well as the second tensor and it's shape.\n"
   ]
  },
  {
   "cell_type": "code",
   "execution_count": 62,
   "id": "48c09b14",
   "metadata": {},
   "outputs": [
    {
     "name": "stdout",
     "output_type": "stream",
     "text": [
      "First tensor: \n",
      "tensor([[[[0.5349, 0.1988, 0.6592, 0.6569, 0.2328, 0.4251, 0.2071, 0.6297,\n",
      "           0.3653, 0.8513]]]])\n",
      "With shape: torch.Size([1, 1, 1, 10])\n",
      "Second tensor: \n",
      "tensor([0.5349, 0.1988, 0.6592, 0.6569, 0.2328, 0.4251, 0.2071, 0.6297, 0.3653,\n",
      "        0.8513])\n",
      "With shape: torch.Size([10])\n"
     ]
    }
   ],
   "source": [
    "# Random tesnor shape (1,1,1,10)\n",
    "torch.manual_seed(7)\n",
    "t1 = torch.rand(size=(1,1,1,10))\n",
    "torch.manual_seed(7)\n",
    "t2 = torch.rand(10)\n",
    "\n",
    "print(f\"First tensor: \\n{t1}\\nWith shape: {t1.shape}\")\n",
    "print(f\"Second tensor: \\n{t2}\\nWith shape: {t2.shape}\")"
   ]
  }
 ],
 "metadata": {
  "kernelspec": {
   "display_name": "pytorch.env",
   "language": "python",
   "name": "python3"
  },
  "language_info": {
   "codemirror_mode": {
    "name": "ipython",
    "version": 3
   },
   "file_extension": ".py",
   "mimetype": "text/x-python",
   "name": "python",
   "nbconvert_exporter": "python",
   "pygments_lexer": "ipython3",
   "version": "3.8.13"
  }
 },
 "nbformat": 4,
 "nbformat_minor": 5
}
