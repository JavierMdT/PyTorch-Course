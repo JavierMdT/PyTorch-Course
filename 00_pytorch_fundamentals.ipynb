{
 "cells": [
  {
   "cell_type": "markdown",
   "id": "8553dde0",
   "metadata": {},
   "source": [
    "## 00. PyTorch Fundamentals "
   ]
  },
  {
   "cell_type": "code",
   "execution_count": 1,
   "id": "bce69bcd",
   "metadata": {},
   "outputs": [
    {
     "name": "stdout",
     "output_type": "stream",
     "text": [
      "Wed Aug  6 23:34:42 2025       \n",
      "+-----------------------------------------------------------------------------------------+\n",
      "| NVIDIA-SMI 575.64.03              Driver Version: 575.64.03      CUDA Version: 12.9     |\n",
      "|-----------------------------------------+------------------------+----------------------+\n",
      "| GPU  Name                 Persistence-M | Bus-Id          Disp.A | Volatile Uncorr. ECC |\n",
      "| Fan  Temp   Perf          Pwr:Usage/Cap |           Memory-Usage | GPU-Util  Compute M. |\n",
      "|                                         |                        |               MIG M. |\n",
      "|=========================================+========================+======================|\n",
      "|   0  NVIDIA GeForce RTX 4060 ...    Off |   00000000:01:00.0 Off |                  N/A |\n",
      "| N/A   37C    P0             12W /   55W |      11MiB /   8188MiB |      0%      Default |\n",
      "|                                         |                        |                  N/A |\n",
      "+-----------------------------------------+------------------------+----------------------+\n",
      "                                                                                         \n",
      "+-----------------------------------------------------------------------------------------+\n",
      "| Processes:                                                                              |\n",
      "|  GPU   GI   CI              PID   Type   Process name                        GPU Memory |\n",
      "|        ID   ID                                                               Usage      |\n",
      "|=========================================================================================|\n",
      "|    0   N/A  N/A            1487      G   /usr/lib/xorg/Xorg                        4MiB |\n",
      "+-----------------------------------------------------------------------------------------+\n"
     ]
    }
   ],
   "source": [
    "!nvidia-smi"
   ]
  },
  {
   "cell_type": "code",
   "execution_count": 2,
   "id": "fcc13ba1",
   "metadata": {},
   "outputs": [
    {
     "name": "stdout",
     "output_type": "stream",
     "text": [
      "PyTorch version: 1.13.1+cu117\n",
      "CUDA available: True\n"
     ]
    }
   ],
   "source": [
    "import torch\n",
    "import pandas as pd \n",
    "import numpy as np\n",
    "import matplotlib.pyplot as plt\n",
    " \n",
    "\n",
    "print(\"PyTorch version:\", torch.__version__)\n",
    "print(\"CUDA available:\", torch.cuda.is_available())"
   ]
  },
  {
   "cell_type": "markdown",
   "id": "3655c308",
   "metadata": {},
   "source": [
    "## Introduction to tensors \n",
    "\n",
    "### Creating tensors \n",
    "\n",
    "PyTorch tensors are created by using torch.Tensor()"
   ]
  },
  {
   "cell_type": "code",
   "execution_count": null,
   "id": "af21d07e",
   "metadata": {},
   "outputs": [
    {
     "data": {
      "text/plain": [
       "tensor(7)"
      ]
     },
     "execution_count": 3,
     "metadata": {},
     "output_type": "execute_result"
    }
   ],
   "source": [
    "# Scalar (escalar de toda la vida)\n",
    "scalar = torch.tensor(7)\n",
    "scalar"
   ]
  },
  {
   "cell_type": "code",
   "execution_count": null,
   "id": "fcc81f59",
   "metadata": {},
   "outputs": [
    {
     "data": {
      "text/plain": [
       "0"
      ]
     },
     "execution_count": 4,
     "metadata": {},
     "output_type": "execute_result"
    }
   ],
   "source": [
    "scalar.ndim # Number of dimensions"
   ]
  },
  {
   "cell_type": "code",
   "execution_count": 5,
   "id": "0e840843",
   "metadata": {},
   "outputs": [
    {
     "data": {
      "text/plain": [
       "7"
      ]
     },
     "execution_count": 5,
     "metadata": {},
     "output_type": "execute_result"
    }
   ],
   "source": [
    "# Get tensor back as Python int\n",
    "scalar.item()"
   ]
  },
  {
   "cell_type": "code",
   "execution_count": 7,
   "id": "3e3c20cd",
   "metadata": {},
   "outputs": [
    {
     "data": {
      "text/plain": [
       "tensor([7, 7])"
      ]
     },
     "execution_count": 7,
     "metadata": {},
     "output_type": "execute_result"
    }
   ],
   "source": [
    "# Vector \n",
    "vector = torch.tensor([7, 7])\n",
    "vector "
   ]
  },
  {
   "cell_type": "code",
   "execution_count": 8,
   "id": "76d97445",
   "metadata": {},
   "outputs": [
    {
     "data": {
      "text/plain": [
       "1"
      ]
     },
     "execution_count": 8,
     "metadata": {},
     "output_type": "execute_result"
    }
   ],
   "source": [
    "vector.ndim # (lo mismo)"
   ]
  },
  {
   "cell_type": "code",
   "execution_count": null,
   "id": "9d797b4a",
   "metadata": {},
   "outputs": [
    {
     "data": {
      "text/plain": [
       "torch.Size([2])"
      ]
     },
     "execution_count": 9,
     "metadata": {},
     "output_type": "execute_result"
    }
   ],
   "source": [
    "vector.shape # (Numero de elementos)"
   ]
  },
  {
   "cell_type": "code",
   "execution_count": 10,
   "id": "83195032",
   "metadata": {},
   "outputs": [
    {
     "data": {
      "text/plain": [
       "tensor([[ 7,  8],\n",
       "        [ 9, 10]])"
      ]
     },
     "execution_count": 10,
     "metadata": {},
     "output_type": "execute_result"
    }
   ],
   "source": [
    "# MATRIX\n",
    "MATRIX = torch.tensor([[7, 8], \n",
    "                       [9, 10]])\n",
    "MATRIX "
   ]
  },
  {
   "cell_type": "code",
   "execution_count": null,
   "id": "abc19ad9",
   "metadata": {},
   "outputs": [
    {
     "data": {
      "text/plain": [
       "2"
      ]
     },
     "execution_count": 11,
     "metadata": {},
     "output_type": "execute_result"
    }
   ],
   "source": [
    "MATRIX.ndim # (Dimensiones = nº de \"caminos\" por los que se puede ir) "
   ]
  },
  {
   "cell_type": "code",
   "execution_count": null,
   "id": "f0810a6a",
   "metadata": {},
   "outputs": [
    {
     "data": {
      "text/plain": [
       "torch.Size([2, 2])"
      ]
     },
     "execution_count": 12,
     "metadata": {},
     "output_type": "execute_result"
    }
   ],
   "source": [
    "MATRIX.shape # (Dos elementos donde cada uno contiene dos sub-elementos)"
   ]
  },
  {
   "cell_type": "code",
   "execution_count": 27,
   "id": "a12c2713",
   "metadata": {},
   "outputs": [
    {
     "data": {
      "text/plain": [
       "tensor([[[ 1,  2,  3,  7],\n",
       "         [ 4,  5,  6,  7],\n",
       "         [ 7,  8,  9,  7]],\n",
       "\n",
       "        [[10, 11, 12,  7],\n",
       "         [13, 14, 15,  7],\n",
       "         [16, 17, 18,  7]]])"
      ]
     },
     "execution_count": 27,
     "metadata": {},
     "output_type": "execute_result"
    }
   ],
   "source": [
    "# TENSOR\n",
    "TENSOR = torch.tensor([[[1,2,3,7],\n",
    "                        [4,5,6,7],\n",
    "                        [7,8,9,7]],\n",
    "                       \n",
    "                       [[10,11,12,7],\n",
    "                        [13,14,15,7],\n",
    "                        [16,17,18,7]]])\n",
    "TENSOR"
   ]
  },
  {
   "cell_type": "code",
   "execution_count": 18,
   "id": "17d01819",
   "metadata": {},
   "outputs": [
    {
     "data": {
      "text/plain": [
       "3"
      ]
     },
     "execution_count": 18,
     "metadata": {},
     "output_type": "execute_result"
    }
   ],
   "source": [
    "TENSOR.ndim "
   ]
  },
  {
   "cell_type": "code",
   "execution_count": 28,
   "id": "3a8440e0",
   "metadata": {},
   "outputs": [
    {
     "data": {
      "text/plain": [
       "torch.Size([2, 3, 4])"
      ]
     },
     "execution_count": 28,
     "metadata": {},
     "output_type": "execute_result"
    }
   ],
   "source": [
    "TENSOR.shape"
   ]
  },
  {
   "cell_type": "markdown",
   "id": "128c3757",
   "metadata": {},
   "source": [
    "### Random tensors \n",
    "\n",
    "Why random tensors? \n",
    "\n",
    "NN start with random weights (random tensors) -> look at data -> update -> look data -> (...)"
   ]
  },
  {
   "cell_type": "code",
   "execution_count": 33,
   "id": "8ccdc56b",
   "metadata": {},
   "outputs": [
    {
     "data": {
      "text/plain": [
       "tensor([[[0.1300, 0.5308, 0.7321, 0.8907],\n",
       "         [0.9532, 0.0459, 0.7172, 0.6025],\n",
       "         [0.5383, 0.3021, 0.9949, 0.2213]]])"
      ]
     },
     "execution_count": 33,
     "metadata": {},
     "output_type": "execute_result"
    }
   ],
   "source": [
    "random_tensor = torch.rand(1, 3, 4)\n",
    "random_tensor"
   ]
  },
  {
   "cell_type": "code",
   "execution_count": 34,
   "id": "ec4f6c0f",
   "metadata": {},
   "outputs": [
    {
     "data": {
      "text/plain": [
       "3"
      ]
     },
     "execution_count": 34,
     "metadata": {},
     "output_type": "execute_result"
    }
   ],
   "source": [
    "random_tensor.ndim # (Matriz)"
   ]
  },
  {
   "cell_type": "code",
   "execution_count": 35,
   "id": "caa03c92",
   "metadata": {},
   "outputs": [
    {
     "data": {
      "text/plain": [
       "torch.Size([1, 3, 4])"
      ]
     },
     "execution_count": 35,
     "metadata": {},
     "output_type": "execute_result"
    }
   ],
   "source": [
    "random_tensor.shape # (3 filas, 4 columnas)"
   ]
  },
  {
   "cell_type": "code",
   "execution_count": 67,
   "id": "06b59cfe",
   "metadata": {},
   "outputs": [
    {
     "data": {
      "text/plain": [
       "(3, torch.Size([224, 224, 3]))"
      ]
     },
     "execution_count": 67,
     "metadata": {},
     "output_type": "execute_result"
    }
   ],
   "source": [
    "# Create random tensor with similar shape to an image\n",
    "random_image_size_tensor = torch.rand(size=(224, 224, 3))\n",
    "random_image_size_tensor.ndim, random_image_size_tensor.shape"
   ]
  },
  {
   "cell_type": "code",
   "execution_count": 65,
   "id": "c2dab8f1",
   "metadata": {},
   "outputs": [
    {
     "data": {
      "text/plain": [
       "tensor([[[0.6773, 0.7798, 0.3014],\n",
       "         [0.9306, 0.4457, 0.9930],\n",
       "         [0.3591, 0.1039, 0.3479],\n",
       "         ...,\n",
       "         [0.3302, 0.7986, 0.1575],\n",
       "         [0.2738, 0.2651, 0.5488],\n",
       "         [0.4712, 0.3486, 0.3403]],\n",
       "\n",
       "        [[0.8406, 0.9530, 0.6105],\n",
       "         [0.8196, 0.8694, 0.8267],\n",
       "         [0.5006, 0.4090, 0.5743],\n",
       "         ...,\n",
       "         [0.2525, 0.3016, 0.2637],\n",
       "         [0.5097, 0.9456, 0.8121],\n",
       "         [0.7306, 0.4887, 0.0401]],\n",
       "\n",
       "        [[0.1503, 0.5969, 0.0311],\n",
       "         [0.7533, 0.5592, 0.7001],\n",
       "         [0.2912, 0.8265, 0.8492],\n",
       "         ...,\n",
       "         [0.8438, 0.5840, 0.8278],\n",
       "         [0.7325, 0.5772, 0.5032],\n",
       "         [0.5622, 0.1171, 0.6884]],\n",
       "\n",
       "        ...,\n",
       "\n",
       "        [[0.5151, 0.9986, 0.3422],\n",
       "         [0.7160, 0.6803, 0.9872],\n",
       "         [0.6389, 0.1992, 0.7569],\n",
       "         ...,\n",
       "         [0.4955, 0.7606, 0.2852],\n",
       "         [0.0635, 0.4530, 0.6371],\n",
       "         [0.5599, 0.4273, 0.7393]],\n",
       "\n",
       "        [[0.0557, 0.3352, 0.7123],\n",
       "         [0.2069, 0.3122, 0.5264],\n",
       "         [0.8541, 0.8991, 0.8387],\n",
       "         ...,\n",
       "         [0.5365, 0.8603, 0.5577],\n",
       "         [0.5492, 0.9563, 0.2485],\n",
       "         [0.1934, 0.7235, 0.2897]],\n",
       "\n",
       "        [[0.2842, 0.1910, 0.5471],\n",
       "         [0.4290, 0.9254, 0.6509],\n",
       "         [0.8277, 0.3963, 0.2094],\n",
       "         ...,\n",
       "         [0.1663, 0.2473, 0.4418],\n",
       "         [0.0055, 0.6163, 0.8398],\n",
       "         [0.1346, 0.7105, 0.1947]]])"
      ]
     },
     "execution_count": 65,
     "metadata": {},
     "output_type": "execute_result"
    }
   ],
   "source": [
    "random_image_size_tensor"
   ]
  },
  {
   "cell_type": "code",
   "execution_count": 69,
   "id": "05288a8f",
   "metadata": {},
   "outputs": [
    {
     "data": {
      "text/plain": [
       "tensor([[0., 0., 0., 0.],\n",
       "        [0., 0., 0., 0.],\n",
       "        [0., 0., 0., 0.]])"
      ]
     },
     "execution_count": 69,
     "metadata": {},
     "output_type": "execute_result"
    }
   ],
   "source": [
    "zeros = torch.zeros(size=(3, 4))\n",
    "zeros"
   ]
  },
  {
   "cell_type": "code",
   "execution_count": 71,
   "id": "c32b34d7",
   "metadata": {},
   "outputs": [
    {
     "data": {
      "text/plain": [
       "tensor([[[0., 0., 0., 0.],\n",
       "         [0., 0., 0., 0.],\n",
       "         [0., 0., 0., 0.]]])"
      ]
     },
     "execution_count": 71,
     "metadata": {},
     "output_type": "execute_result"
    }
   ],
   "source": [
    "zeros * random_tensor # Element-wise multiplication"
   ]
  },
  {
   "cell_type": "code",
   "execution_count": 72,
   "id": "fc8ef43c",
   "metadata": {},
   "outputs": [
    {
     "data": {
      "text/plain": [
       "tensor([[1., 1., 1., 1.],\n",
       "        [1., 1., 1., 1.],\n",
       "        [1., 1., 1., 1.]])"
      ]
     },
     "execution_count": 72,
     "metadata": {},
     "output_type": "execute_result"
    }
   ],
   "source": [
    "ones = torch.ones(size=(3, 4))\n",
    "ones"
   ]
  },
  {
   "cell_type": "code",
   "execution_count": 74,
   "id": "bebf7a72",
   "metadata": {},
   "outputs": [
    {
     "data": {
      "text/plain": [
       "torch.float32"
      ]
     },
     "execution_count": 74,
     "metadata": {},
     "output_type": "execute_result"
    }
   ],
   "source": [
    "ones.dtype"
   ]
  },
  {
   "cell_type": "markdown",
   "id": "6ab2ef7a",
   "metadata": {},
   "source": [
    "### Creating a range of tensors and tensors-like "
   ]
  },
  {
   "cell_type": "code",
   "execution_count": 77,
   "id": "86abce15",
   "metadata": {},
   "outputs": [
    {
     "data": {
      "text/plain": [
       "tensor([ 1,  2,  3,  4,  5,  6,  7,  8,  9, 10])"
      ]
     },
     "execution_count": 77,
     "metadata": {},
     "output_type": "execute_result"
    }
   ],
   "source": [
    "one_to_ten = torch.arange(start=1, end=11, step=1)\n",
    "one_to_ten"
   ]
  },
  {
   "cell_type": "code",
   "execution_count": 79,
   "id": "5b1d2e36",
   "metadata": {},
   "outputs": [
    {
     "data": {
      "text/plain": [
       "tensor([0, 0, 0, 0, 0, 0, 0, 0, 0, 0])"
      ]
     },
     "execution_count": 79,
     "metadata": {},
     "output_type": "execute_result"
    }
   ],
   "source": [
    "# Tensors like \n",
    "ten_zeros = torch.zeros_like(input=one_to_ten) \n",
    "ten_zeros"
   ]
  },
  {
   "cell_type": "markdown",
   "id": "8e061458",
   "metadata": {},
   "source": [
    "### Tensor Datatypes\n",
    "\n",
    "**NOTE**: Tensor datatypes are one of the big three issues with PyTorch & Deep learning:\n",
    "    1. Tensors not right datatype\n",
    "    2. Tensors not right shape \n",
    "    3. Tensors not right device "
   ]
  },
  {
   "cell_type": "code",
   "execution_count": 83,
   "id": "7fcec5b2",
   "metadata": {},
   "outputs": [
    {
     "data": {
      "text/plain": [
       "torch.float32"
      ]
     },
     "execution_count": 83,
     "metadata": {},
     "output_type": "execute_result"
    }
   ],
   "source": [
    "# Float 32 tensor\n",
    "float_32_tensor = torch.tensor([3.0, 6.0, 9.0],\n",
    "                               dtype=None, # What data type is the tensor (float32, float16,...)\n",
    "                               device=None, # What device is the tensor on (CPU, GPU)\n",
    "                               requires_grad=False) # Whetther or not to track gradients with this tensor\n",
    "\n",
    "float_32_tensor.dtype"
   ]
  },
  {
   "cell_type": "code",
   "execution_count": 85,
   "id": "7ca68371",
   "metadata": {},
   "outputs": [],
   "source": [
    "float_16_tensor = float_32_tensor.type(torch.float16) # Changes tensor datatype to another "
   ]
  },
  {
   "cell_type": "code",
   "execution_count": null,
   "id": "e02e11bb",
   "metadata": {},
   "outputs": [
    {
     "data": {
      "text/plain": [
       "tensor([ 9., 36., 81.])"
      ]
     },
     "execution_count": 86,
     "metadata": {},
     "output_type": "execute_result"
    }
   ],
   "source": [
    "float_16_tensor * float_32_tensor # Works, but not all operations works"
   ]
  },
  {
   "cell_type": "code",
   "execution_count": 91,
   "id": "b3621ae9",
   "metadata": {},
   "outputs": [
    {
     "data": {
      "text/plain": [
       "tensor([3, 6, 9])"
      ]
     },
     "execution_count": 91,
     "metadata": {},
     "output_type": "execute_result"
    }
   ],
   "source": [
    "int_32_tensor = torch.tensor([3, 6, 9], dtype=torch.long)\n",
    "int_32_tensor"
   ]
  },
  {
   "cell_type": "code",
   "execution_count": 93,
   "id": "794dde9f",
   "metadata": {},
   "outputs": [
    {
     "data": {
      "text/plain": [
       "tensor([ 9., 36., 81.])"
      ]
     },
     "execution_count": 93,
     "metadata": {},
     "output_type": "execute_result"
    }
   ],
   "source": [
    "int_32_tensor * float_32_tensor # Works, but not all operations works"
   ]
  },
  {
   "cell_type": "markdown",
   "id": "66eb1108",
   "metadata": {},
   "source": [
    "### Getting information from tensors (tensor attributes)\n",
    "\n",
    "1. Tensors not right datatype -> 'tensor.dtype'\n",
    "2. Tensors not right shape -> 'tensor.shape'\n",
    "3. Tensors not right device -> 'tensor.device'"
   ]
  },
  {
   "cell_type": "code",
   "execution_count": 105,
   "id": "dcf1b598",
   "metadata": {},
   "outputs": [
    {
     "data": {
      "text/plain": [
       "tensor([[0.7738, 0.2910, 0.7728, 0.7018],\n",
       "        [0.7431, 0.4751, 0.6288, 0.8668],\n",
       "        [0.0185, 0.2362, 0.4701, 0.5334]])"
      ]
     },
     "execution_count": 105,
     "metadata": {},
     "output_type": "execute_result"
    }
   ],
   "source": [
    "# Create tensor \n",
    "some_tensor = torch.rand(size=(3, 4))\n",
    "some_tensor"
   ]
  },
  {
   "cell_type": "code",
   "execution_count": null,
   "id": "96ab2f1d",
   "metadata": {},
   "outputs": [
    {
     "name": "stdout",
     "output_type": "stream",
     "text": [
      "Some tensor: \n",
      "tensor([[0.7738, 0.2910, 0.7728, 0.7018],\n",
      "        [0.7431, 0.4751, 0.6288, 0.8668],\n",
      "        [0.0185, 0.2362, 0.4701, 0.5334]])\n",
      "- Datatype of tensor: torch.float32\n",
      "- Shape of tensor: torch.Size([3, 4])\n",
      "- Device tensor is on: cpu\n"
     ]
    }
   ],
   "source": [
    "print(f\"Some tensor: \\n{some_tensor}\")\n",
    "print(f\"- Datatype of tensor: {some_tensor.dtype}\")\n",
    "print(f\"- Shape of tensor: {some_tensor.shape}\")\n",
    "print(f\"- Device tensor is on: {some_tensor.device}\")"
   ]
  }
 ],
 "metadata": {
  "kernelspec": {
   "display_name": "pytorch.env",
   "language": "python",
   "name": "python3"
  },
  "language_info": {
   "codemirror_mode": {
    "name": "ipython",
    "version": 3
   },
   "file_extension": ".py",
   "mimetype": "text/x-python",
   "name": "python",
   "nbconvert_exporter": "python",
   "pygments_lexer": "ipython3",
   "version": "3.8.13"
  }
 },
 "nbformat": 4,
 "nbformat_minor": 5
}
